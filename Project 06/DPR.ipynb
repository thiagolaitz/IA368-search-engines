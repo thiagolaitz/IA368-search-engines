{
  "nbformat": 4,
  "nbformat_minor": 0,
  "metadata": {
    "colab": {
      "provenance": [],
      "toc_visible": true,
      "machine_shape": "hm",
      "authorship_tag": "ABX9TyOb96fxyuXJ59ezAsMEEfHD",
      "include_colab_link": true
    },
    "kernelspec": {
      "name": "python3",
      "display_name": "Python 3"
    },
    "language_info": {
      "name": "python"
    },
    "gpuClass": "standard",
    "accelerator": "GPU",
    "widgets": {
      "application/vnd.jupyter.widget-state+json": {
        "b5c97183f42449a2a9de1b4f0a7feffc": {
          "model_module": "@jupyter-widgets/controls",
          "model_name": "HBoxModel",
          "model_module_version": "1.5.0",
          "state": {
            "_dom_classes": [],
            "_model_module": "@jupyter-widgets/controls",
            "_model_module_version": "1.5.0",
            "_model_name": "HBoxModel",
            "_view_count": null,
            "_view_module": "@jupyter-widgets/controls",
            "_view_module_version": "1.5.0",
            "_view_name": "HBoxView",
            "box_style": "",
            "children": [
              "IPY_MODEL_942a3b0055bb4f28aadfbd67467948db",
              "IPY_MODEL_a558005c4c694277866bb0c3b5e06179",
              "IPY_MODEL_97eda40e5ee349dd9f156f90f13af534"
            ],
            "layout": "IPY_MODEL_f52dced3ce42409cbd529edd7cf56682"
          }
        },
        "942a3b0055bb4f28aadfbd67467948db": {
          "model_module": "@jupyter-widgets/controls",
          "model_name": "HTMLModel",
          "model_module_version": "1.5.0",
          "state": {
            "_dom_classes": [],
            "_model_module": "@jupyter-widgets/controls",
            "_model_module_version": "1.5.0",
            "_model_name": "HTMLModel",
            "_view_count": null,
            "_view_module": "@jupyter-widgets/controls",
            "_view_module_version": "1.5.0",
            "_view_name": "HTMLView",
            "description": "",
            "description_tooltip": null,
            "layout": "IPY_MODEL_5f666871a8304af29f68fe0b752ba6f8",
            "placeholder": "​",
            "style": "IPY_MODEL_b4cfab1f051c44f2901a9c55e0a81d24",
            "value": "Downloading (…)lve/main/config.json: 100%"
          }
        },
        "a558005c4c694277866bb0c3b5e06179": {
          "model_module": "@jupyter-widgets/controls",
          "model_name": "FloatProgressModel",
          "model_module_version": "1.5.0",
          "state": {
            "_dom_classes": [],
            "_model_module": "@jupyter-widgets/controls",
            "_model_module_version": "1.5.0",
            "_model_name": "FloatProgressModel",
            "_view_count": null,
            "_view_module": "@jupyter-widgets/controls",
            "_view_module_version": "1.5.0",
            "_view_name": "ProgressView",
            "bar_style": "success",
            "description": "",
            "description_tooltip": null,
            "layout": "IPY_MODEL_81294cb364084e34b408074099a06dfb",
            "max": 639,
            "min": 0,
            "orientation": "horizontal",
            "style": "IPY_MODEL_e87e006d3d9a4014a21833c7b058edf0",
            "value": 639
          }
        },
        "97eda40e5ee349dd9f156f90f13af534": {
          "model_module": "@jupyter-widgets/controls",
          "model_name": "HTMLModel",
          "model_module_version": "1.5.0",
          "state": {
            "_dom_classes": [],
            "_model_module": "@jupyter-widgets/controls",
            "_model_module_version": "1.5.0",
            "_model_name": "HTMLModel",
            "_view_count": null,
            "_view_module": "@jupyter-widgets/controls",
            "_view_module_version": "1.5.0",
            "_view_name": "HTMLView",
            "description": "",
            "description_tooltip": null,
            "layout": "IPY_MODEL_1c31430995ed467faa485d671ede5a5f",
            "placeholder": "​",
            "style": "IPY_MODEL_4b1501f2bc3d4336bc3d0d5e0d5ef1a8",
            "value": " 639/639 [00:00&lt;00:00, 26.0kB/s]"
          }
        },
        "f52dced3ce42409cbd529edd7cf56682": {
          "model_module": "@jupyter-widgets/base",
          "model_name": "LayoutModel",
          "model_module_version": "1.2.0",
          "state": {
            "_model_module": "@jupyter-widgets/base",
            "_model_module_version": "1.2.0",
            "_model_name": "LayoutModel",
            "_view_count": null,
            "_view_module": "@jupyter-widgets/base",
            "_view_module_version": "1.2.0",
            "_view_name": "LayoutView",
            "align_content": null,
            "align_items": null,
            "align_self": null,
            "border": null,
            "bottom": null,
            "display": null,
            "flex": null,
            "flex_flow": null,
            "grid_area": null,
            "grid_auto_columns": null,
            "grid_auto_flow": null,
            "grid_auto_rows": null,
            "grid_column": null,
            "grid_gap": null,
            "grid_row": null,
            "grid_template_areas": null,
            "grid_template_columns": null,
            "grid_template_rows": null,
            "height": null,
            "justify_content": null,
            "justify_items": null,
            "left": null,
            "margin": null,
            "max_height": null,
            "max_width": null,
            "min_height": null,
            "min_width": null,
            "object_fit": null,
            "object_position": null,
            "order": null,
            "overflow": null,
            "overflow_x": null,
            "overflow_y": null,
            "padding": null,
            "right": null,
            "top": null,
            "visibility": null,
            "width": null
          }
        },
        "5f666871a8304af29f68fe0b752ba6f8": {
          "model_module": "@jupyter-widgets/base",
          "model_name": "LayoutModel",
          "model_module_version": "1.2.0",
          "state": {
            "_model_module": "@jupyter-widgets/base",
            "_model_module_version": "1.2.0",
            "_model_name": "LayoutModel",
            "_view_count": null,
            "_view_module": "@jupyter-widgets/base",
            "_view_module_version": "1.2.0",
            "_view_name": "LayoutView",
            "align_content": null,
            "align_items": null,
            "align_self": null,
            "border": null,
            "bottom": null,
            "display": null,
            "flex": null,
            "flex_flow": null,
            "grid_area": null,
            "grid_auto_columns": null,
            "grid_auto_flow": null,
            "grid_auto_rows": null,
            "grid_column": null,
            "grid_gap": null,
            "grid_row": null,
            "grid_template_areas": null,
            "grid_template_columns": null,
            "grid_template_rows": null,
            "height": null,
            "justify_content": null,
            "justify_items": null,
            "left": null,
            "margin": null,
            "max_height": null,
            "max_width": null,
            "min_height": null,
            "min_width": null,
            "object_fit": null,
            "object_position": null,
            "order": null,
            "overflow": null,
            "overflow_x": null,
            "overflow_y": null,
            "padding": null,
            "right": null,
            "top": null,
            "visibility": null,
            "width": null
          }
        },
        "b4cfab1f051c44f2901a9c55e0a81d24": {
          "model_module": "@jupyter-widgets/controls",
          "model_name": "DescriptionStyleModel",
          "model_module_version": "1.5.0",
          "state": {
            "_model_module": "@jupyter-widgets/controls",
            "_model_module_version": "1.5.0",
            "_model_name": "DescriptionStyleModel",
            "_view_count": null,
            "_view_module": "@jupyter-widgets/base",
            "_view_module_version": "1.2.0",
            "_view_name": "StyleView",
            "description_width": ""
          }
        },
        "81294cb364084e34b408074099a06dfb": {
          "model_module": "@jupyter-widgets/base",
          "model_name": "LayoutModel",
          "model_module_version": "1.2.0",
          "state": {
            "_model_module": "@jupyter-widgets/base",
            "_model_module_version": "1.2.0",
            "_model_name": "LayoutModel",
            "_view_count": null,
            "_view_module": "@jupyter-widgets/base",
            "_view_module_version": "1.2.0",
            "_view_name": "LayoutView",
            "align_content": null,
            "align_items": null,
            "align_self": null,
            "border": null,
            "bottom": null,
            "display": null,
            "flex": null,
            "flex_flow": null,
            "grid_area": null,
            "grid_auto_columns": null,
            "grid_auto_flow": null,
            "grid_auto_rows": null,
            "grid_column": null,
            "grid_gap": null,
            "grid_row": null,
            "grid_template_areas": null,
            "grid_template_columns": null,
            "grid_template_rows": null,
            "height": null,
            "justify_content": null,
            "justify_items": null,
            "left": null,
            "margin": null,
            "max_height": null,
            "max_width": null,
            "min_height": null,
            "min_width": null,
            "object_fit": null,
            "object_position": null,
            "order": null,
            "overflow": null,
            "overflow_x": null,
            "overflow_y": null,
            "padding": null,
            "right": null,
            "top": null,
            "visibility": null,
            "width": null
          }
        },
        "e87e006d3d9a4014a21833c7b058edf0": {
          "model_module": "@jupyter-widgets/controls",
          "model_name": "ProgressStyleModel",
          "model_module_version": "1.5.0",
          "state": {
            "_model_module": "@jupyter-widgets/controls",
            "_model_module_version": "1.5.0",
            "_model_name": "ProgressStyleModel",
            "_view_count": null,
            "_view_module": "@jupyter-widgets/base",
            "_view_module_version": "1.2.0",
            "_view_name": "StyleView",
            "bar_color": null,
            "description_width": ""
          }
        },
        "1c31430995ed467faa485d671ede5a5f": {
          "model_module": "@jupyter-widgets/base",
          "model_name": "LayoutModel",
          "model_module_version": "1.2.0",
          "state": {
            "_model_module": "@jupyter-widgets/base",
            "_model_module_version": "1.2.0",
            "_model_name": "LayoutModel",
            "_view_count": null,
            "_view_module": "@jupyter-widgets/base",
            "_view_module_version": "1.2.0",
            "_view_name": "LayoutView",
            "align_content": null,
            "align_items": null,
            "align_self": null,
            "border": null,
            "bottom": null,
            "display": null,
            "flex": null,
            "flex_flow": null,
            "grid_area": null,
            "grid_auto_columns": null,
            "grid_auto_flow": null,
            "grid_auto_rows": null,
            "grid_column": null,
            "grid_gap": null,
            "grid_row": null,
            "grid_template_areas": null,
            "grid_template_columns": null,
            "grid_template_rows": null,
            "height": null,
            "justify_content": null,
            "justify_items": null,
            "left": null,
            "margin": null,
            "max_height": null,
            "max_width": null,
            "min_height": null,
            "min_width": null,
            "object_fit": null,
            "object_position": null,
            "order": null,
            "overflow": null,
            "overflow_x": null,
            "overflow_y": null,
            "padding": null,
            "right": null,
            "top": null,
            "visibility": null,
            "width": null
          }
        },
        "4b1501f2bc3d4336bc3d0d5e0d5ef1a8": {
          "model_module": "@jupyter-widgets/controls",
          "model_name": "DescriptionStyleModel",
          "model_module_version": "1.5.0",
          "state": {
            "_model_module": "@jupyter-widgets/controls",
            "_model_module_version": "1.5.0",
            "_model_name": "DescriptionStyleModel",
            "_view_count": null,
            "_view_module": "@jupyter-widgets/base",
            "_view_module_version": "1.2.0",
            "_view_name": "StyleView",
            "description_width": ""
          }
        },
        "11599a7102a0469f90a4eccb77ae1004": {
          "model_module": "@jupyter-widgets/controls",
          "model_name": "HBoxModel",
          "model_module_version": "1.5.0",
          "state": {
            "_dom_classes": [],
            "_model_module": "@jupyter-widgets/controls",
            "_model_module_version": "1.5.0",
            "_model_name": "HBoxModel",
            "_view_count": null,
            "_view_module": "@jupyter-widgets/controls",
            "_view_module_version": "1.5.0",
            "_view_name": "HBoxView",
            "box_style": "",
            "children": [
              "IPY_MODEL_4b39eeeca93d4002b9a2c699e0c6b090",
              "IPY_MODEL_b98b9da310e04caba89c43d7bb947fd2",
              "IPY_MODEL_905590a0be624ce1993ea1e5a65132ad"
            ],
            "layout": "IPY_MODEL_bab61858a596460791227cd09508c573"
          }
        },
        "4b39eeeca93d4002b9a2c699e0c6b090": {
          "model_module": "@jupyter-widgets/controls",
          "model_name": "HTMLModel",
          "model_module_version": "1.5.0",
          "state": {
            "_dom_classes": [],
            "_model_module": "@jupyter-widgets/controls",
            "_model_module_version": "1.5.0",
            "_model_name": "HTMLModel",
            "_view_count": null,
            "_view_module": "@jupyter-widgets/controls",
            "_view_module_version": "1.5.0",
            "_view_name": "HTMLView",
            "description": "",
            "description_tooltip": null,
            "layout": "IPY_MODEL_ae9f6a2ae3fd47ec971d9834d96dfbad",
            "placeholder": "​",
            "style": "IPY_MODEL_54440b67c6a543439ee66798618a56f2",
            "value": "Downloading pytorch_model.bin: 100%"
          }
        },
        "b98b9da310e04caba89c43d7bb947fd2": {
          "model_module": "@jupyter-widgets/controls",
          "model_name": "FloatProgressModel",
          "model_module_version": "1.5.0",
          "state": {
            "_dom_classes": [],
            "_model_module": "@jupyter-widgets/controls",
            "_model_module_version": "1.5.0",
            "_model_name": "FloatProgressModel",
            "_view_count": null,
            "_view_module": "@jupyter-widgets/controls",
            "_view_module_version": "1.5.0",
            "_view_name": "ProgressView",
            "bar_style": "success",
            "description": "",
            "description_tooltip": null,
            "layout": "IPY_MODEL_201ec2f7bec943959168ea484a7ea178",
            "max": 133511213,
            "min": 0,
            "orientation": "horizontal",
            "style": "IPY_MODEL_c04a92e3842d45c8beccf6ce712d0fad",
            "value": 133511213
          }
        },
        "905590a0be624ce1993ea1e5a65132ad": {
          "model_module": "@jupyter-widgets/controls",
          "model_name": "HTMLModel",
          "model_module_version": "1.5.0",
          "state": {
            "_dom_classes": [],
            "_model_module": "@jupyter-widgets/controls",
            "_model_module_version": "1.5.0",
            "_model_name": "HTMLModel",
            "_view_count": null,
            "_view_module": "@jupyter-widgets/controls",
            "_view_module_version": "1.5.0",
            "_view_name": "HTMLView",
            "description": "",
            "description_tooltip": null,
            "layout": "IPY_MODEL_dd104c7a1bff47529bb789eff889525d",
            "placeholder": "​",
            "style": "IPY_MODEL_415a74fcf5174f669cc5afec808a9e48",
            "value": " 134M/134M [00:07&lt;00:00, 21.3MB/s]"
          }
        },
        "bab61858a596460791227cd09508c573": {
          "model_module": "@jupyter-widgets/base",
          "model_name": "LayoutModel",
          "model_module_version": "1.2.0",
          "state": {
            "_model_module": "@jupyter-widgets/base",
            "_model_module_version": "1.2.0",
            "_model_name": "LayoutModel",
            "_view_count": null,
            "_view_module": "@jupyter-widgets/base",
            "_view_module_version": "1.2.0",
            "_view_name": "LayoutView",
            "align_content": null,
            "align_items": null,
            "align_self": null,
            "border": null,
            "bottom": null,
            "display": null,
            "flex": null,
            "flex_flow": null,
            "grid_area": null,
            "grid_auto_columns": null,
            "grid_auto_flow": null,
            "grid_auto_rows": null,
            "grid_column": null,
            "grid_gap": null,
            "grid_row": null,
            "grid_template_areas": null,
            "grid_template_columns": null,
            "grid_template_rows": null,
            "height": null,
            "justify_content": null,
            "justify_items": null,
            "left": null,
            "margin": null,
            "max_height": null,
            "max_width": null,
            "min_height": null,
            "min_width": null,
            "object_fit": null,
            "object_position": null,
            "order": null,
            "overflow": null,
            "overflow_x": null,
            "overflow_y": null,
            "padding": null,
            "right": null,
            "top": null,
            "visibility": null,
            "width": null
          }
        },
        "ae9f6a2ae3fd47ec971d9834d96dfbad": {
          "model_module": "@jupyter-widgets/base",
          "model_name": "LayoutModel",
          "model_module_version": "1.2.0",
          "state": {
            "_model_module": "@jupyter-widgets/base",
            "_model_module_version": "1.2.0",
            "_model_name": "LayoutModel",
            "_view_count": null,
            "_view_module": "@jupyter-widgets/base",
            "_view_module_version": "1.2.0",
            "_view_name": "LayoutView",
            "align_content": null,
            "align_items": null,
            "align_self": null,
            "border": null,
            "bottom": null,
            "display": null,
            "flex": null,
            "flex_flow": null,
            "grid_area": null,
            "grid_auto_columns": null,
            "grid_auto_flow": null,
            "grid_auto_rows": null,
            "grid_column": null,
            "grid_gap": null,
            "grid_row": null,
            "grid_template_areas": null,
            "grid_template_columns": null,
            "grid_template_rows": null,
            "height": null,
            "justify_content": null,
            "justify_items": null,
            "left": null,
            "margin": null,
            "max_height": null,
            "max_width": null,
            "min_height": null,
            "min_width": null,
            "object_fit": null,
            "object_position": null,
            "order": null,
            "overflow": null,
            "overflow_x": null,
            "overflow_y": null,
            "padding": null,
            "right": null,
            "top": null,
            "visibility": null,
            "width": null
          }
        },
        "54440b67c6a543439ee66798618a56f2": {
          "model_module": "@jupyter-widgets/controls",
          "model_name": "DescriptionStyleModel",
          "model_module_version": "1.5.0",
          "state": {
            "_model_module": "@jupyter-widgets/controls",
            "_model_module_version": "1.5.0",
            "_model_name": "DescriptionStyleModel",
            "_view_count": null,
            "_view_module": "@jupyter-widgets/base",
            "_view_module_version": "1.2.0",
            "_view_name": "StyleView",
            "description_width": ""
          }
        },
        "201ec2f7bec943959168ea484a7ea178": {
          "model_module": "@jupyter-widgets/base",
          "model_name": "LayoutModel",
          "model_module_version": "1.2.0",
          "state": {
            "_model_module": "@jupyter-widgets/base",
            "_model_module_version": "1.2.0",
            "_model_name": "LayoutModel",
            "_view_count": null,
            "_view_module": "@jupyter-widgets/base",
            "_view_module_version": "1.2.0",
            "_view_name": "LayoutView",
            "align_content": null,
            "align_items": null,
            "align_self": null,
            "border": null,
            "bottom": null,
            "display": null,
            "flex": null,
            "flex_flow": null,
            "grid_area": null,
            "grid_auto_columns": null,
            "grid_auto_flow": null,
            "grid_auto_rows": null,
            "grid_column": null,
            "grid_gap": null,
            "grid_row": null,
            "grid_template_areas": null,
            "grid_template_columns": null,
            "grid_template_rows": null,
            "height": null,
            "justify_content": null,
            "justify_items": null,
            "left": null,
            "margin": null,
            "max_height": null,
            "max_width": null,
            "min_height": null,
            "min_width": null,
            "object_fit": null,
            "object_position": null,
            "order": null,
            "overflow": null,
            "overflow_x": null,
            "overflow_y": null,
            "padding": null,
            "right": null,
            "top": null,
            "visibility": null,
            "width": null
          }
        },
        "c04a92e3842d45c8beccf6ce712d0fad": {
          "model_module": "@jupyter-widgets/controls",
          "model_name": "ProgressStyleModel",
          "model_module_version": "1.5.0",
          "state": {
            "_model_module": "@jupyter-widgets/controls",
            "_model_module_version": "1.5.0",
            "_model_name": "ProgressStyleModel",
            "_view_count": null,
            "_view_module": "@jupyter-widgets/base",
            "_view_module_version": "1.2.0",
            "_view_name": "StyleView",
            "bar_color": null,
            "description_width": ""
          }
        },
        "dd104c7a1bff47529bb789eff889525d": {
          "model_module": "@jupyter-widgets/base",
          "model_name": "LayoutModel",
          "model_module_version": "1.2.0",
          "state": {
            "_model_module": "@jupyter-widgets/base",
            "_model_module_version": "1.2.0",
            "_model_name": "LayoutModel",
            "_view_count": null,
            "_view_module": "@jupyter-widgets/base",
            "_view_module_version": "1.2.0",
            "_view_name": "LayoutView",
            "align_content": null,
            "align_items": null,
            "align_self": null,
            "border": null,
            "bottom": null,
            "display": null,
            "flex": null,
            "flex_flow": null,
            "grid_area": null,
            "grid_auto_columns": null,
            "grid_auto_flow": null,
            "grid_auto_rows": null,
            "grid_column": null,
            "grid_gap": null,
            "grid_row": null,
            "grid_template_areas": null,
            "grid_template_columns": null,
            "grid_template_rows": null,
            "height": null,
            "justify_content": null,
            "justify_items": null,
            "left": null,
            "margin": null,
            "max_height": null,
            "max_width": null,
            "min_height": null,
            "min_width": null,
            "object_fit": null,
            "object_position": null,
            "order": null,
            "overflow": null,
            "overflow_x": null,
            "overflow_y": null,
            "padding": null,
            "right": null,
            "top": null,
            "visibility": null,
            "width": null
          }
        },
        "415a74fcf5174f669cc5afec808a9e48": {
          "model_module": "@jupyter-widgets/controls",
          "model_name": "DescriptionStyleModel",
          "model_module_version": "1.5.0",
          "state": {
            "_model_module": "@jupyter-widgets/controls",
            "_model_module_version": "1.5.0",
            "_model_name": "DescriptionStyleModel",
            "_view_count": null,
            "_view_module": "@jupyter-widgets/base",
            "_view_module_version": "1.2.0",
            "_view_name": "StyleView",
            "description_width": ""
          }
        },
        "91dab9635ed640f1a8fd6507c5d552c5": {
          "model_module": "@jupyter-widgets/controls",
          "model_name": "HBoxModel",
          "model_module_version": "1.5.0",
          "state": {
            "_dom_classes": [],
            "_model_module": "@jupyter-widgets/controls",
            "_model_module_version": "1.5.0",
            "_model_name": "HBoxModel",
            "_view_count": null,
            "_view_module": "@jupyter-widgets/controls",
            "_view_module_version": "1.5.0",
            "_view_name": "HBoxView",
            "box_style": "",
            "children": [
              "IPY_MODEL_e285177de88e462aa94b3e09c84b60f7",
              "IPY_MODEL_a9ccc03fdf8843a99cc6c564e2635c38",
              "IPY_MODEL_be0202fd01a949c0a8cfb6844e5e1afc"
            ],
            "layout": "IPY_MODEL_8716dcc6f1504d869251e6a8f9a3241e"
          }
        },
        "e285177de88e462aa94b3e09c84b60f7": {
          "model_module": "@jupyter-widgets/controls",
          "model_name": "HTMLModel",
          "model_module_version": "1.5.0",
          "state": {
            "_dom_classes": [],
            "_model_module": "@jupyter-widgets/controls",
            "_model_module_version": "1.5.0",
            "_model_name": "HTMLModel",
            "_view_count": null,
            "_view_module": "@jupyter-widgets/controls",
            "_view_module_version": "1.5.0",
            "_view_name": "HTMLView",
            "description": "",
            "description_tooltip": null,
            "layout": "IPY_MODEL_3b19149ba58e4afea1ceaa4d5b8cc44d",
            "placeholder": "​",
            "style": "IPY_MODEL_13215a842c164dfb9910f4f03cddd0e3",
            "value": "Downloading (…)lve/main/config.json: 100%"
          }
        },
        "a9ccc03fdf8843a99cc6c564e2635c38": {
          "model_module": "@jupyter-widgets/controls",
          "model_name": "FloatProgressModel",
          "model_module_version": "1.5.0",
          "state": {
            "_dom_classes": [],
            "_model_module": "@jupyter-widgets/controls",
            "_model_module_version": "1.5.0",
            "_model_name": "FloatProgressModel",
            "_view_count": null,
            "_view_module": "@jupyter-widgets/controls",
            "_view_module_version": "1.5.0",
            "_view_name": "ProgressView",
            "bar_style": "success",
            "description": "",
            "description_tooltip": null,
            "layout": "IPY_MODEL_7b1071527cb74e8099ca57847458b668",
            "max": 639,
            "min": 0,
            "orientation": "horizontal",
            "style": "IPY_MODEL_e1e45d911c724471a491d8d9dca9e47d",
            "value": 639
          }
        },
        "be0202fd01a949c0a8cfb6844e5e1afc": {
          "model_module": "@jupyter-widgets/controls",
          "model_name": "HTMLModel",
          "model_module_version": "1.5.0",
          "state": {
            "_dom_classes": [],
            "_model_module": "@jupyter-widgets/controls",
            "_model_module_version": "1.5.0",
            "_model_name": "HTMLModel",
            "_view_count": null,
            "_view_module": "@jupyter-widgets/controls",
            "_view_module_version": "1.5.0",
            "_view_name": "HTMLView",
            "description": "",
            "description_tooltip": null,
            "layout": "IPY_MODEL_1ae9570cfd9643448600fd282bd1a18f",
            "placeholder": "​",
            "style": "IPY_MODEL_2dcd4150c62c4fa18e648459abc2481f",
            "value": " 639/639 [00:00&lt;00:00, 36.9kB/s]"
          }
        },
        "8716dcc6f1504d869251e6a8f9a3241e": {
          "model_module": "@jupyter-widgets/base",
          "model_name": "LayoutModel",
          "model_module_version": "1.2.0",
          "state": {
            "_model_module": "@jupyter-widgets/base",
            "_model_module_version": "1.2.0",
            "_model_name": "LayoutModel",
            "_view_count": null,
            "_view_module": "@jupyter-widgets/base",
            "_view_module_version": "1.2.0",
            "_view_name": "LayoutView",
            "align_content": null,
            "align_items": null,
            "align_self": null,
            "border": null,
            "bottom": null,
            "display": null,
            "flex": null,
            "flex_flow": null,
            "grid_area": null,
            "grid_auto_columns": null,
            "grid_auto_flow": null,
            "grid_auto_rows": null,
            "grid_column": null,
            "grid_gap": null,
            "grid_row": null,
            "grid_template_areas": null,
            "grid_template_columns": null,
            "grid_template_rows": null,
            "height": null,
            "justify_content": null,
            "justify_items": null,
            "left": null,
            "margin": null,
            "max_height": null,
            "max_width": null,
            "min_height": null,
            "min_width": null,
            "object_fit": null,
            "object_position": null,
            "order": null,
            "overflow": null,
            "overflow_x": null,
            "overflow_y": null,
            "padding": null,
            "right": null,
            "top": null,
            "visibility": null,
            "width": null
          }
        },
        "3b19149ba58e4afea1ceaa4d5b8cc44d": {
          "model_module": "@jupyter-widgets/base",
          "model_name": "LayoutModel",
          "model_module_version": "1.2.0",
          "state": {
            "_model_module": "@jupyter-widgets/base",
            "_model_module_version": "1.2.0",
            "_model_name": "LayoutModel",
            "_view_count": null,
            "_view_module": "@jupyter-widgets/base",
            "_view_module_version": "1.2.0",
            "_view_name": "LayoutView",
            "align_content": null,
            "align_items": null,
            "align_self": null,
            "border": null,
            "bottom": null,
            "display": null,
            "flex": null,
            "flex_flow": null,
            "grid_area": null,
            "grid_auto_columns": null,
            "grid_auto_flow": null,
            "grid_auto_rows": null,
            "grid_column": null,
            "grid_gap": null,
            "grid_row": null,
            "grid_template_areas": null,
            "grid_template_columns": null,
            "grid_template_rows": null,
            "height": null,
            "justify_content": null,
            "justify_items": null,
            "left": null,
            "margin": null,
            "max_height": null,
            "max_width": null,
            "min_height": null,
            "min_width": null,
            "object_fit": null,
            "object_position": null,
            "order": null,
            "overflow": null,
            "overflow_x": null,
            "overflow_y": null,
            "padding": null,
            "right": null,
            "top": null,
            "visibility": null,
            "width": null
          }
        },
        "13215a842c164dfb9910f4f03cddd0e3": {
          "model_module": "@jupyter-widgets/controls",
          "model_name": "DescriptionStyleModel",
          "model_module_version": "1.5.0",
          "state": {
            "_model_module": "@jupyter-widgets/controls",
            "_model_module_version": "1.5.0",
            "_model_name": "DescriptionStyleModel",
            "_view_count": null,
            "_view_module": "@jupyter-widgets/base",
            "_view_module_version": "1.2.0",
            "_view_name": "StyleView",
            "description_width": ""
          }
        },
        "7b1071527cb74e8099ca57847458b668": {
          "model_module": "@jupyter-widgets/base",
          "model_name": "LayoutModel",
          "model_module_version": "1.2.0",
          "state": {
            "_model_module": "@jupyter-widgets/base",
            "_model_module_version": "1.2.0",
            "_model_name": "LayoutModel",
            "_view_count": null,
            "_view_module": "@jupyter-widgets/base",
            "_view_module_version": "1.2.0",
            "_view_name": "LayoutView",
            "align_content": null,
            "align_items": null,
            "align_self": null,
            "border": null,
            "bottom": null,
            "display": null,
            "flex": null,
            "flex_flow": null,
            "grid_area": null,
            "grid_auto_columns": null,
            "grid_auto_flow": null,
            "grid_auto_rows": null,
            "grid_column": null,
            "grid_gap": null,
            "grid_row": null,
            "grid_template_areas": null,
            "grid_template_columns": null,
            "grid_template_rows": null,
            "height": null,
            "justify_content": null,
            "justify_items": null,
            "left": null,
            "margin": null,
            "max_height": null,
            "max_width": null,
            "min_height": null,
            "min_width": null,
            "object_fit": null,
            "object_position": null,
            "order": null,
            "overflow": null,
            "overflow_x": null,
            "overflow_y": null,
            "padding": null,
            "right": null,
            "top": null,
            "visibility": null,
            "width": null
          }
        },
        "e1e45d911c724471a491d8d9dca9e47d": {
          "model_module": "@jupyter-widgets/controls",
          "model_name": "ProgressStyleModel",
          "model_module_version": "1.5.0",
          "state": {
            "_model_module": "@jupyter-widgets/controls",
            "_model_module_version": "1.5.0",
            "_model_name": "ProgressStyleModel",
            "_view_count": null,
            "_view_module": "@jupyter-widgets/base",
            "_view_module_version": "1.2.0",
            "_view_name": "StyleView",
            "bar_color": null,
            "description_width": ""
          }
        },
        "1ae9570cfd9643448600fd282bd1a18f": {
          "model_module": "@jupyter-widgets/base",
          "model_name": "LayoutModel",
          "model_module_version": "1.2.0",
          "state": {
            "_model_module": "@jupyter-widgets/base",
            "_model_module_version": "1.2.0",
            "_model_name": "LayoutModel",
            "_view_count": null,
            "_view_module": "@jupyter-widgets/base",
            "_view_module_version": "1.2.0",
            "_view_name": "LayoutView",
            "align_content": null,
            "align_items": null,
            "align_self": null,
            "border": null,
            "bottom": null,
            "display": null,
            "flex": null,
            "flex_flow": null,
            "grid_area": null,
            "grid_auto_columns": null,
            "grid_auto_flow": null,
            "grid_auto_rows": null,
            "grid_column": null,
            "grid_gap": null,
            "grid_row": null,
            "grid_template_areas": null,
            "grid_template_columns": null,
            "grid_template_rows": null,
            "height": null,
            "justify_content": null,
            "justify_items": null,
            "left": null,
            "margin": null,
            "max_height": null,
            "max_width": null,
            "min_height": null,
            "min_width": null,
            "object_fit": null,
            "object_position": null,
            "order": null,
            "overflow": null,
            "overflow_x": null,
            "overflow_y": null,
            "padding": null,
            "right": null,
            "top": null,
            "visibility": null,
            "width": null
          }
        },
        "2dcd4150c62c4fa18e648459abc2481f": {
          "model_module": "@jupyter-widgets/controls",
          "model_name": "DescriptionStyleModel",
          "model_module_version": "1.5.0",
          "state": {
            "_model_module": "@jupyter-widgets/controls",
            "_model_module_version": "1.5.0",
            "_model_name": "DescriptionStyleModel",
            "_view_count": null,
            "_view_module": "@jupyter-widgets/base",
            "_view_module_version": "1.2.0",
            "_view_name": "StyleView",
            "description_width": ""
          }
        },
        "0fd04263e4f1468bb26a538358a5c3e0": {
          "model_module": "@jupyter-widgets/controls",
          "model_name": "HBoxModel",
          "model_module_version": "1.5.0",
          "state": {
            "_dom_classes": [],
            "_model_module": "@jupyter-widgets/controls",
            "_model_module_version": "1.5.0",
            "_model_name": "HBoxModel",
            "_view_count": null,
            "_view_module": "@jupyter-widgets/controls",
            "_view_module_version": "1.5.0",
            "_view_name": "HBoxView",
            "box_style": "",
            "children": [
              "IPY_MODEL_9911c2e8f15e471492250c4c7fff718d",
              "IPY_MODEL_e23dec4ccfd0473cb23e160dc9cb6fe7",
              "IPY_MODEL_ecd8284bc1514309bba10be5bba9ae60"
            ],
            "layout": "IPY_MODEL_b665eb88beef4944ae003afa9aa050a6"
          }
        },
        "9911c2e8f15e471492250c4c7fff718d": {
          "model_module": "@jupyter-widgets/controls",
          "model_name": "HTMLModel",
          "model_module_version": "1.5.0",
          "state": {
            "_dom_classes": [],
            "_model_module": "@jupyter-widgets/controls",
            "_model_module_version": "1.5.0",
            "_model_name": "HTMLModel",
            "_view_count": null,
            "_view_module": "@jupyter-widgets/controls",
            "_view_module_version": "1.5.0",
            "_view_name": "HTMLView",
            "description": "",
            "description_tooltip": null,
            "layout": "IPY_MODEL_973133886499422599e213e2ec7434ff",
            "placeholder": "​",
            "style": "IPY_MODEL_159c1118541a4276b0d0bc3acd128cfa",
            "value": "Downloading pytorch_model.bin: 100%"
          }
        },
        "e23dec4ccfd0473cb23e160dc9cb6fe7": {
          "model_module": "@jupyter-widgets/controls",
          "model_name": "FloatProgressModel",
          "model_module_version": "1.5.0",
          "state": {
            "_dom_classes": [],
            "_model_module": "@jupyter-widgets/controls",
            "_model_module_version": "1.5.0",
            "_model_name": "FloatProgressModel",
            "_view_count": null,
            "_view_module": "@jupyter-widgets/controls",
            "_view_module_version": "1.5.0",
            "_view_name": "ProgressView",
            "bar_style": "success",
            "description": "",
            "description_tooltip": null,
            "layout": "IPY_MODEL_c6a323d8ca2d4d78930f87db4ef6b512",
            "max": 133511213,
            "min": 0,
            "orientation": "horizontal",
            "style": "IPY_MODEL_e23c1f7fb1ab4036a7056c3874c39c2b",
            "value": 133511213
          }
        },
        "ecd8284bc1514309bba10be5bba9ae60": {
          "model_module": "@jupyter-widgets/controls",
          "model_name": "HTMLModel",
          "model_module_version": "1.5.0",
          "state": {
            "_dom_classes": [],
            "_model_module": "@jupyter-widgets/controls",
            "_model_module_version": "1.5.0",
            "_model_name": "HTMLModel",
            "_view_count": null,
            "_view_module": "@jupyter-widgets/controls",
            "_view_module_version": "1.5.0",
            "_view_name": "HTMLView",
            "description": "",
            "description_tooltip": null,
            "layout": "IPY_MODEL_962d667daf0f417da709adef6e573c31",
            "placeholder": "​",
            "style": "IPY_MODEL_963750fff4764b9cb856545c6139ef02",
            "value": " 134M/134M [00:06&lt;00:00, 22.9MB/s]"
          }
        },
        "b665eb88beef4944ae003afa9aa050a6": {
          "model_module": "@jupyter-widgets/base",
          "model_name": "LayoutModel",
          "model_module_version": "1.2.0",
          "state": {
            "_model_module": "@jupyter-widgets/base",
            "_model_module_version": "1.2.0",
            "_model_name": "LayoutModel",
            "_view_count": null,
            "_view_module": "@jupyter-widgets/base",
            "_view_module_version": "1.2.0",
            "_view_name": "LayoutView",
            "align_content": null,
            "align_items": null,
            "align_self": null,
            "border": null,
            "bottom": null,
            "display": null,
            "flex": null,
            "flex_flow": null,
            "grid_area": null,
            "grid_auto_columns": null,
            "grid_auto_flow": null,
            "grid_auto_rows": null,
            "grid_column": null,
            "grid_gap": null,
            "grid_row": null,
            "grid_template_areas": null,
            "grid_template_columns": null,
            "grid_template_rows": null,
            "height": null,
            "justify_content": null,
            "justify_items": null,
            "left": null,
            "margin": null,
            "max_height": null,
            "max_width": null,
            "min_height": null,
            "min_width": null,
            "object_fit": null,
            "object_position": null,
            "order": null,
            "overflow": null,
            "overflow_x": null,
            "overflow_y": null,
            "padding": null,
            "right": null,
            "top": null,
            "visibility": null,
            "width": null
          }
        },
        "973133886499422599e213e2ec7434ff": {
          "model_module": "@jupyter-widgets/base",
          "model_name": "LayoutModel",
          "model_module_version": "1.2.0",
          "state": {
            "_model_module": "@jupyter-widgets/base",
            "_model_module_version": "1.2.0",
            "_model_name": "LayoutModel",
            "_view_count": null,
            "_view_module": "@jupyter-widgets/base",
            "_view_module_version": "1.2.0",
            "_view_name": "LayoutView",
            "align_content": null,
            "align_items": null,
            "align_self": null,
            "border": null,
            "bottom": null,
            "display": null,
            "flex": null,
            "flex_flow": null,
            "grid_area": null,
            "grid_auto_columns": null,
            "grid_auto_flow": null,
            "grid_auto_rows": null,
            "grid_column": null,
            "grid_gap": null,
            "grid_row": null,
            "grid_template_areas": null,
            "grid_template_columns": null,
            "grid_template_rows": null,
            "height": null,
            "justify_content": null,
            "justify_items": null,
            "left": null,
            "margin": null,
            "max_height": null,
            "max_width": null,
            "min_height": null,
            "min_width": null,
            "object_fit": null,
            "object_position": null,
            "order": null,
            "overflow": null,
            "overflow_x": null,
            "overflow_y": null,
            "padding": null,
            "right": null,
            "top": null,
            "visibility": null,
            "width": null
          }
        },
        "159c1118541a4276b0d0bc3acd128cfa": {
          "model_module": "@jupyter-widgets/controls",
          "model_name": "DescriptionStyleModel",
          "model_module_version": "1.5.0",
          "state": {
            "_model_module": "@jupyter-widgets/controls",
            "_model_module_version": "1.5.0",
            "_model_name": "DescriptionStyleModel",
            "_view_count": null,
            "_view_module": "@jupyter-widgets/base",
            "_view_module_version": "1.2.0",
            "_view_name": "StyleView",
            "description_width": ""
          }
        },
        "c6a323d8ca2d4d78930f87db4ef6b512": {
          "model_module": "@jupyter-widgets/base",
          "model_name": "LayoutModel",
          "model_module_version": "1.2.0",
          "state": {
            "_model_module": "@jupyter-widgets/base",
            "_model_module_version": "1.2.0",
            "_model_name": "LayoutModel",
            "_view_count": null,
            "_view_module": "@jupyter-widgets/base",
            "_view_module_version": "1.2.0",
            "_view_name": "LayoutView",
            "align_content": null,
            "align_items": null,
            "align_self": null,
            "border": null,
            "bottom": null,
            "display": null,
            "flex": null,
            "flex_flow": null,
            "grid_area": null,
            "grid_auto_columns": null,
            "grid_auto_flow": null,
            "grid_auto_rows": null,
            "grid_column": null,
            "grid_gap": null,
            "grid_row": null,
            "grid_template_areas": null,
            "grid_template_columns": null,
            "grid_template_rows": null,
            "height": null,
            "justify_content": null,
            "justify_items": null,
            "left": null,
            "margin": null,
            "max_height": null,
            "max_width": null,
            "min_height": null,
            "min_width": null,
            "object_fit": null,
            "object_position": null,
            "order": null,
            "overflow": null,
            "overflow_x": null,
            "overflow_y": null,
            "padding": null,
            "right": null,
            "top": null,
            "visibility": null,
            "width": null
          }
        },
        "e23c1f7fb1ab4036a7056c3874c39c2b": {
          "model_module": "@jupyter-widgets/controls",
          "model_name": "ProgressStyleModel",
          "model_module_version": "1.5.0",
          "state": {
            "_model_module": "@jupyter-widgets/controls",
            "_model_module_version": "1.5.0",
            "_model_name": "ProgressStyleModel",
            "_view_count": null,
            "_view_module": "@jupyter-widgets/base",
            "_view_module_version": "1.2.0",
            "_view_name": "StyleView",
            "bar_color": null,
            "description_width": ""
          }
        },
        "962d667daf0f417da709adef6e573c31": {
          "model_module": "@jupyter-widgets/base",
          "model_name": "LayoutModel",
          "model_module_version": "1.2.0",
          "state": {
            "_model_module": "@jupyter-widgets/base",
            "_model_module_version": "1.2.0",
            "_model_name": "LayoutModel",
            "_view_count": null,
            "_view_module": "@jupyter-widgets/base",
            "_view_module_version": "1.2.0",
            "_view_name": "LayoutView",
            "align_content": null,
            "align_items": null,
            "align_self": null,
            "border": null,
            "bottom": null,
            "display": null,
            "flex": null,
            "flex_flow": null,
            "grid_area": null,
            "grid_auto_columns": null,
            "grid_auto_flow": null,
            "grid_auto_rows": null,
            "grid_column": null,
            "grid_gap": null,
            "grid_row": null,
            "grid_template_areas": null,
            "grid_template_columns": null,
            "grid_template_rows": null,
            "height": null,
            "justify_content": null,
            "justify_items": null,
            "left": null,
            "margin": null,
            "max_height": null,
            "max_width": null,
            "min_height": null,
            "min_width": null,
            "object_fit": null,
            "object_position": null,
            "order": null,
            "overflow": null,
            "overflow_x": null,
            "overflow_y": null,
            "padding": null,
            "right": null,
            "top": null,
            "visibility": null,
            "width": null
          }
        },
        "963750fff4764b9cb856545c6139ef02": {
          "model_module": "@jupyter-widgets/controls",
          "model_name": "DescriptionStyleModel",
          "model_module_version": "1.5.0",
          "state": {
            "_model_module": "@jupyter-widgets/controls",
            "_model_module_version": "1.5.0",
            "_model_name": "DescriptionStyleModel",
            "_view_count": null,
            "_view_module": "@jupyter-widgets/base",
            "_view_module_version": "1.2.0",
            "_view_name": "StyleView",
            "description_width": ""
          }
        },
        "5c882c7d7e334a288afdf82814bd2f7b": {
          "model_module": "@jupyter-widgets/controls",
          "model_name": "HBoxModel",
          "model_module_version": "1.5.0",
          "state": {
            "_dom_classes": [],
            "_model_module": "@jupyter-widgets/controls",
            "_model_module_version": "1.5.0",
            "_model_name": "HBoxModel",
            "_view_count": null,
            "_view_module": "@jupyter-widgets/controls",
            "_view_module_version": "1.5.0",
            "_view_name": "HBoxView",
            "box_style": "",
            "children": [
              "IPY_MODEL_ba751f4798d94917871a910e8c1aa87f",
              "IPY_MODEL_80b6d4e14f5b49d8b311e7b808001c1c",
              "IPY_MODEL_7f39f309ac2847d2bfb374042e6f5a7d"
            ],
            "layout": "IPY_MODEL_fbf221cc038d44dcb5c96a15dd5f404b"
          }
        },
        "ba751f4798d94917871a910e8c1aa87f": {
          "model_module": "@jupyter-widgets/controls",
          "model_name": "HTMLModel",
          "model_module_version": "1.5.0",
          "state": {
            "_dom_classes": [],
            "_model_module": "@jupyter-widgets/controls",
            "_model_module_version": "1.5.0",
            "_model_name": "HTMLModel",
            "_view_count": null,
            "_view_module": "@jupyter-widgets/controls",
            "_view_module_version": "1.5.0",
            "_view_name": "HTMLView",
            "description": "",
            "description_tooltip": null,
            "layout": "IPY_MODEL_619d3c19efd24a93a0b60178170752c1",
            "placeholder": "​",
            "style": "IPY_MODEL_7c228fc9a22d489cbd9a5660b911487d",
            "value": "Epoch: 20/20 | Steps: 313/313 | Loss: 0.010: 100%"
          }
        },
        "80b6d4e14f5b49d8b311e7b808001c1c": {
          "model_module": "@jupyter-widgets/controls",
          "model_name": "FloatProgressModel",
          "model_module_version": "1.5.0",
          "state": {
            "_dom_classes": [],
            "_model_module": "@jupyter-widgets/controls",
            "_model_module_version": "1.5.0",
            "_model_name": "FloatProgressModel",
            "_view_count": null,
            "_view_module": "@jupyter-widgets/controls",
            "_view_module_version": "1.5.0",
            "_view_name": "ProgressView",
            "bar_style": "success",
            "description": "",
            "description_tooltip": null,
            "layout": "IPY_MODEL_88ac7ef780cb451cbcf1ff2a0fa285b2",
            "max": 6260,
            "min": 0,
            "orientation": "horizontal",
            "style": "IPY_MODEL_e45c24b35411456c8b9f1613eccedc97",
            "value": 6260
          }
        },
        "7f39f309ac2847d2bfb374042e6f5a7d": {
          "model_module": "@jupyter-widgets/controls",
          "model_name": "HTMLModel",
          "model_module_version": "1.5.0",
          "state": {
            "_dom_classes": [],
            "_model_module": "@jupyter-widgets/controls",
            "_model_module_version": "1.5.0",
            "_model_name": "HTMLModel",
            "_view_count": null,
            "_view_module": "@jupyter-widgets/controls",
            "_view_module_version": "1.5.0",
            "_view_name": "HTMLView",
            "description": "",
            "description_tooltip": null,
            "layout": "IPY_MODEL_1597b731b8c94facb7442fe681c74aa7",
            "placeholder": "​",
            "style": "IPY_MODEL_2f287bbc79204b5fbd80bb2ac4a2af17",
            "value": " 6260/6260 [1:15:33&lt;00:00,  1.68it/s]"
          }
        },
        "fbf221cc038d44dcb5c96a15dd5f404b": {
          "model_module": "@jupyter-widgets/base",
          "model_name": "LayoutModel",
          "model_module_version": "1.2.0",
          "state": {
            "_model_module": "@jupyter-widgets/base",
            "_model_module_version": "1.2.0",
            "_model_name": "LayoutModel",
            "_view_count": null,
            "_view_module": "@jupyter-widgets/base",
            "_view_module_version": "1.2.0",
            "_view_name": "LayoutView",
            "align_content": null,
            "align_items": null,
            "align_self": null,
            "border": null,
            "bottom": null,
            "display": null,
            "flex": null,
            "flex_flow": null,
            "grid_area": null,
            "grid_auto_columns": null,
            "grid_auto_flow": null,
            "grid_auto_rows": null,
            "grid_column": null,
            "grid_gap": null,
            "grid_row": null,
            "grid_template_areas": null,
            "grid_template_columns": null,
            "grid_template_rows": null,
            "height": null,
            "justify_content": null,
            "justify_items": null,
            "left": null,
            "margin": null,
            "max_height": null,
            "max_width": null,
            "min_height": null,
            "min_width": null,
            "object_fit": null,
            "object_position": null,
            "order": null,
            "overflow": null,
            "overflow_x": null,
            "overflow_y": null,
            "padding": null,
            "right": null,
            "top": null,
            "visibility": null,
            "width": null
          }
        },
        "619d3c19efd24a93a0b60178170752c1": {
          "model_module": "@jupyter-widgets/base",
          "model_name": "LayoutModel",
          "model_module_version": "1.2.0",
          "state": {
            "_model_module": "@jupyter-widgets/base",
            "_model_module_version": "1.2.0",
            "_model_name": "LayoutModel",
            "_view_count": null,
            "_view_module": "@jupyter-widgets/base",
            "_view_module_version": "1.2.0",
            "_view_name": "LayoutView",
            "align_content": null,
            "align_items": null,
            "align_self": null,
            "border": null,
            "bottom": null,
            "display": null,
            "flex": null,
            "flex_flow": null,
            "grid_area": null,
            "grid_auto_columns": null,
            "grid_auto_flow": null,
            "grid_auto_rows": null,
            "grid_column": null,
            "grid_gap": null,
            "grid_row": null,
            "grid_template_areas": null,
            "grid_template_columns": null,
            "grid_template_rows": null,
            "height": null,
            "justify_content": null,
            "justify_items": null,
            "left": null,
            "margin": null,
            "max_height": null,
            "max_width": null,
            "min_height": null,
            "min_width": null,
            "object_fit": null,
            "object_position": null,
            "order": null,
            "overflow": null,
            "overflow_x": null,
            "overflow_y": null,
            "padding": null,
            "right": null,
            "top": null,
            "visibility": null,
            "width": null
          }
        },
        "7c228fc9a22d489cbd9a5660b911487d": {
          "model_module": "@jupyter-widgets/controls",
          "model_name": "DescriptionStyleModel",
          "model_module_version": "1.5.0",
          "state": {
            "_model_module": "@jupyter-widgets/controls",
            "_model_module_version": "1.5.0",
            "_model_name": "DescriptionStyleModel",
            "_view_count": null,
            "_view_module": "@jupyter-widgets/base",
            "_view_module_version": "1.2.0",
            "_view_name": "StyleView",
            "description_width": ""
          }
        },
        "88ac7ef780cb451cbcf1ff2a0fa285b2": {
          "model_module": "@jupyter-widgets/base",
          "model_name": "LayoutModel",
          "model_module_version": "1.2.0",
          "state": {
            "_model_module": "@jupyter-widgets/base",
            "_model_module_version": "1.2.0",
            "_model_name": "LayoutModel",
            "_view_count": null,
            "_view_module": "@jupyter-widgets/base",
            "_view_module_version": "1.2.0",
            "_view_name": "LayoutView",
            "align_content": null,
            "align_items": null,
            "align_self": null,
            "border": null,
            "bottom": null,
            "display": null,
            "flex": null,
            "flex_flow": null,
            "grid_area": null,
            "grid_auto_columns": null,
            "grid_auto_flow": null,
            "grid_auto_rows": null,
            "grid_column": null,
            "grid_gap": null,
            "grid_row": null,
            "grid_template_areas": null,
            "grid_template_columns": null,
            "grid_template_rows": null,
            "height": null,
            "justify_content": null,
            "justify_items": null,
            "left": null,
            "margin": null,
            "max_height": null,
            "max_width": null,
            "min_height": null,
            "min_width": null,
            "object_fit": null,
            "object_position": null,
            "order": null,
            "overflow": null,
            "overflow_x": null,
            "overflow_y": null,
            "padding": null,
            "right": null,
            "top": null,
            "visibility": null,
            "width": null
          }
        },
        "e45c24b35411456c8b9f1613eccedc97": {
          "model_module": "@jupyter-widgets/controls",
          "model_name": "ProgressStyleModel",
          "model_module_version": "1.5.0",
          "state": {
            "_model_module": "@jupyter-widgets/controls",
            "_model_module_version": "1.5.0",
            "_model_name": "ProgressStyleModel",
            "_view_count": null,
            "_view_module": "@jupyter-widgets/base",
            "_view_module_version": "1.2.0",
            "_view_name": "StyleView",
            "bar_color": null,
            "description_width": ""
          }
        },
        "1597b731b8c94facb7442fe681c74aa7": {
          "model_module": "@jupyter-widgets/base",
          "model_name": "LayoutModel",
          "model_module_version": "1.2.0",
          "state": {
            "_model_module": "@jupyter-widgets/base",
            "_model_module_version": "1.2.0",
            "_model_name": "LayoutModel",
            "_view_count": null,
            "_view_module": "@jupyter-widgets/base",
            "_view_module_version": "1.2.0",
            "_view_name": "LayoutView",
            "align_content": null,
            "align_items": null,
            "align_self": null,
            "border": null,
            "bottom": null,
            "display": null,
            "flex": null,
            "flex_flow": null,
            "grid_area": null,
            "grid_auto_columns": null,
            "grid_auto_flow": null,
            "grid_auto_rows": null,
            "grid_column": null,
            "grid_gap": null,
            "grid_row": null,
            "grid_template_areas": null,
            "grid_template_columns": null,
            "grid_template_rows": null,
            "height": null,
            "justify_content": null,
            "justify_items": null,
            "left": null,
            "margin": null,
            "max_height": null,
            "max_width": null,
            "min_height": null,
            "min_width": null,
            "object_fit": null,
            "object_position": null,
            "order": null,
            "overflow": null,
            "overflow_x": null,
            "overflow_y": null,
            "padding": null,
            "right": null,
            "top": null,
            "visibility": null,
            "width": null
          }
        },
        "2f287bbc79204b5fbd80bb2ac4a2af17": {
          "model_module": "@jupyter-widgets/controls",
          "model_name": "DescriptionStyleModel",
          "model_module_version": "1.5.0",
          "state": {
            "_model_module": "@jupyter-widgets/controls",
            "_model_module_version": "1.5.0",
            "_model_name": "DescriptionStyleModel",
            "_view_count": null,
            "_view_module": "@jupyter-widgets/base",
            "_view_module_version": "1.2.0",
            "_view_name": "StyleView",
            "description_width": ""
          }
        },
        "23753912177247eea3f59da7036a651e": {
          "model_module": "@jupyter-widgets/controls",
          "model_name": "HBoxModel",
          "model_module_version": "1.5.0",
          "state": {
            "_dom_classes": [],
            "_model_module": "@jupyter-widgets/controls",
            "_model_module_version": "1.5.0",
            "_model_name": "HBoxModel",
            "_view_count": null,
            "_view_module": "@jupyter-widgets/controls",
            "_view_module_version": "1.5.0",
            "_view_name": "HBoxView",
            "box_style": "",
            "children": [
              "IPY_MODEL_c462519226f5433db0d3e4935b8cbea6",
              "IPY_MODEL_03b670521da141d682a7fc3bd0891ac1",
              "IPY_MODEL_7728f39d86ee41c6a8a1cba8f9119a7d"
            ],
            "layout": "IPY_MODEL_3ff8fe061efa49fd9fb2491cdb245e73"
          }
        },
        "c462519226f5433db0d3e4935b8cbea6": {
          "model_module": "@jupyter-widgets/controls",
          "model_name": "HTMLModel",
          "model_module_version": "1.5.0",
          "state": {
            "_dom_classes": [],
            "_model_module": "@jupyter-widgets/controls",
            "_model_module_version": "1.5.0",
            "_model_name": "HTMLModel",
            "_view_count": null,
            "_view_module": "@jupyter-widgets/controls",
            "_view_module_version": "1.5.0",
            "_view_name": "HTMLView",
            "description": "",
            "description_tooltip": null,
            "layout": "IPY_MODEL_007b10f7f8924462b02acf16adbb446e",
            "placeholder": "​",
            "style": "IPY_MODEL_ad0ca8b1b6d3455fb32ff58151f96946",
            "value": "Running queries: 100%"
          }
        },
        "03b670521da141d682a7fc3bd0891ac1": {
          "model_module": "@jupyter-widgets/controls",
          "model_name": "FloatProgressModel",
          "model_module_version": "1.5.0",
          "state": {
            "_dom_classes": [],
            "_model_module": "@jupyter-widgets/controls",
            "_model_module_version": "1.5.0",
            "_model_name": "FloatProgressModel",
            "_view_count": null,
            "_view_module": "@jupyter-widgets/controls",
            "_view_module_version": "1.5.0",
            "_view_name": "ProgressView",
            "bar_style": "success",
            "description": "",
            "description_tooltip": null,
            "layout": "IPY_MODEL_c35f5467016f4ab287f2c0c7cbdb72b2",
            "max": 50,
            "min": 0,
            "orientation": "horizontal",
            "style": "IPY_MODEL_4ef0fb3eff7f4c0ca98e57dc8c472de7",
            "value": 50
          }
        },
        "7728f39d86ee41c6a8a1cba8f9119a7d": {
          "model_module": "@jupyter-widgets/controls",
          "model_name": "HTMLModel",
          "model_module_version": "1.5.0",
          "state": {
            "_dom_classes": [],
            "_model_module": "@jupyter-widgets/controls",
            "_model_module_version": "1.5.0",
            "_model_name": "HTMLModel",
            "_view_count": null,
            "_view_module": "@jupyter-widgets/controls",
            "_view_module_version": "1.5.0",
            "_view_name": "HTMLView",
            "description": "",
            "description_tooltip": null,
            "layout": "IPY_MODEL_dc84f9d9832741219b4bd18a60e1d044",
            "placeholder": "​",
            "style": "IPY_MODEL_8e5e68d33091444bafe1b4ff8d73f6fc",
            "value": " 50/50 [00:00&lt;00:00, 211.36it/s]"
          }
        },
        "3ff8fe061efa49fd9fb2491cdb245e73": {
          "model_module": "@jupyter-widgets/base",
          "model_name": "LayoutModel",
          "model_module_version": "1.2.0",
          "state": {
            "_model_module": "@jupyter-widgets/base",
            "_model_module_version": "1.2.0",
            "_model_name": "LayoutModel",
            "_view_count": null,
            "_view_module": "@jupyter-widgets/base",
            "_view_module_version": "1.2.0",
            "_view_name": "LayoutView",
            "align_content": null,
            "align_items": null,
            "align_self": null,
            "border": null,
            "bottom": null,
            "display": null,
            "flex": null,
            "flex_flow": null,
            "grid_area": null,
            "grid_auto_columns": null,
            "grid_auto_flow": null,
            "grid_auto_rows": null,
            "grid_column": null,
            "grid_gap": null,
            "grid_row": null,
            "grid_template_areas": null,
            "grid_template_columns": null,
            "grid_template_rows": null,
            "height": null,
            "justify_content": null,
            "justify_items": null,
            "left": null,
            "margin": null,
            "max_height": null,
            "max_width": null,
            "min_height": null,
            "min_width": null,
            "object_fit": null,
            "object_position": null,
            "order": null,
            "overflow": null,
            "overflow_x": null,
            "overflow_y": null,
            "padding": null,
            "right": null,
            "top": null,
            "visibility": null,
            "width": null
          }
        },
        "007b10f7f8924462b02acf16adbb446e": {
          "model_module": "@jupyter-widgets/base",
          "model_name": "LayoutModel",
          "model_module_version": "1.2.0",
          "state": {
            "_model_module": "@jupyter-widgets/base",
            "_model_module_version": "1.2.0",
            "_model_name": "LayoutModel",
            "_view_count": null,
            "_view_module": "@jupyter-widgets/base",
            "_view_module_version": "1.2.0",
            "_view_name": "LayoutView",
            "align_content": null,
            "align_items": null,
            "align_self": null,
            "border": null,
            "bottom": null,
            "display": null,
            "flex": null,
            "flex_flow": null,
            "grid_area": null,
            "grid_auto_columns": null,
            "grid_auto_flow": null,
            "grid_auto_rows": null,
            "grid_column": null,
            "grid_gap": null,
            "grid_row": null,
            "grid_template_areas": null,
            "grid_template_columns": null,
            "grid_template_rows": null,
            "height": null,
            "justify_content": null,
            "justify_items": null,
            "left": null,
            "margin": null,
            "max_height": null,
            "max_width": null,
            "min_height": null,
            "min_width": null,
            "object_fit": null,
            "object_position": null,
            "order": null,
            "overflow": null,
            "overflow_x": null,
            "overflow_y": null,
            "padding": null,
            "right": null,
            "top": null,
            "visibility": null,
            "width": null
          }
        },
        "ad0ca8b1b6d3455fb32ff58151f96946": {
          "model_module": "@jupyter-widgets/controls",
          "model_name": "DescriptionStyleModel",
          "model_module_version": "1.5.0",
          "state": {
            "_model_module": "@jupyter-widgets/controls",
            "_model_module_version": "1.5.0",
            "_model_name": "DescriptionStyleModel",
            "_view_count": null,
            "_view_module": "@jupyter-widgets/base",
            "_view_module_version": "1.2.0",
            "_view_name": "StyleView",
            "description_width": ""
          }
        },
        "c35f5467016f4ab287f2c0c7cbdb72b2": {
          "model_module": "@jupyter-widgets/base",
          "model_name": "LayoutModel",
          "model_module_version": "1.2.0",
          "state": {
            "_model_module": "@jupyter-widgets/base",
            "_model_module_version": "1.2.0",
            "_model_name": "LayoutModel",
            "_view_count": null,
            "_view_module": "@jupyter-widgets/base",
            "_view_module_version": "1.2.0",
            "_view_name": "LayoutView",
            "align_content": null,
            "align_items": null,
            "align_self": null,
            "border": null,
            "bottom": null,
            "display": null,
            "flex": null,
            "flex_flow": null,
            "grid_area": null,
            "grid_auto_columns": null,
            "grid_auto_flow": null,
            "grid_auto_rows": null,
            "grid_column": null,
            "grid_gap": null,
            "grid_row": null,
            "grid_template_areas": null,
            "grid_template_columns": null,
            "grid_template_rows": null,
            "height": null,
            "justify_content": null,
            "justify_items": null,
            "left": null,
            "margin": null,
            "max_height": null,
            "max_width": null,
            "min_height": null,
            "min_width": null,
            "object_fit": null,
            "object_position": null,
            "order": null,
            "overflow": null,
            "overflow_x": null,
            "overflow_y": null,
            "padding": null,
            "right": null,
            "top": null,
            "visibility": null,
            "width": null
          }
        },
        "4ef0fb3eff7f4c0ca98e57dc8c472de7": {
          "model_module": "@jupyter-widgets/controls",
          "model_name": "ProgressStyleModel",
          "model_module_version": "1.5.0",
          "state": {
            "_model_module": "@jupyter-widgets/controls",
            "_model_module_version": "1.5.0",
            "_model_name": "ProgressStyleModel",
            "_view_count": null,
            "_view_module": "@jupyter-widgets/base",
            "_view_module_version": "1.2.0",
            "_view_name": "StyleView",
            "bar_color": null,
            "description_width": ""
          }
        },
        "dc84f9d9832741219b4bd18a60e1d044": {
          "model_module": "@jupyter-widgets/base",
          "model_name": "LayoutModel",
          "model_module_version": "1.2.0",
          "state": {
            "_model_module": "@jupyter-widgets/base",
            "_model_module_version": "1.2.0",
            "_model_name": "LayoutModel",
            "_view_count": null,
            "_view_module": "@jupyter-widgets/base",
            "_view_module_version": "1.2.0",
            "_view_name": "LayoutView",
            "align_content": null,
            "align_items": null,
            "align_self": null,
            "border": null,
            "bottom": null,
            "display": null,
            "flex": null,
            "flex_flow": null,
            "grid_area": null,
            "grid_auto_columns": null,
            "grid_auto_flow": null,
            "grid_auto_rows": null,
            "grid_column": null,
            "grid_gap": null,
            "grid_row": null,
            "grid_template_areas": null,
            "grid_template_columns": null,
            "grid_template_rows": null,
            "height": null,
            "justify_content": null,
            "justify_items": null,
            "left": null,
            "margin": null,
            "max_height": null,
            "max_width": null,
            "min_height": null,
            "min_width": null,
            "object_fit": null,
            "object_position": null,
            "order": null,
            "overflow": null,
            "overflow_x": null,
            "overflow_y": null,
            "padding": null,
            "right": null,
            "top": null,
            "visibility": null,
            "width": null
          }
        },
        "8e5e68d33091444bafe1b4ff8d73f6fc": {
          "model_module": "@jupyter-widgets/controls",
          "model_name": "DescriptionStyleModel",
          "model_module_version": "1.5.0",
          "state": {
            "_model_module": "@jupyter-widgets/controls",
            "_model_module_version": "1.5.0",
            "_model_name": "DescriptionStyleModel",
            "_view_count": null,
            "_view_module": "@jupyter-widgets/base",
            "_view_module_version": "1.2.0",
            "_view_name": "StyleView",
            "description_width": ""
          }
        }
      }
    }
  },
  "cells": [
    {
      "cell_type": "markdown",
      "metadata": {
        "id": "view-in-github",
        "colab_type": "text"
      },
      "source": [
        "<a href=\"https://colab.research.google.com/github/thiagolaitz/IA368-search-engines/blob/main/Project%2006/DPR.ipynb\" target=\"_parent\"><img src=\"https://colab.research.google.com/assets/colab-badge.svg\" alt=\"Open In Colab\"/></a>"
      ]
    },
    {
      "cell_type": "markdown",
      "source": [
        "# Dense Passage Retrieval (DPR)\n",
        "\n",
        "In contrast to traditional sparse retrieval methods, DPR is based on dense vector representations of both the query and the documents, which capture the semantic meaning of the text and enable more effective matching between them. In this study, we will train two encoders using the MiniLM-L12-H384-uncased model from Microsoft, using 11,000 query-passages from the MSMarco dataset. The trained model will then be evaluated on the TREC-Covid 2020 dataset."
      ],
      "metadata": {
        "id": "uMtRyfNk1w2E"
      }
    },
    {
      "cell_type": "code",
      "source": [
        "!nvidia-smi"
      ],
      "metadata": {
        "colab": {
          "base_uri": "https://localhost:8080/"
        },
        "id": "U1v55YlZmCsY",
        "outputId": "efbcbb5e-64ba-4d69-c363-41ca149ff9dd"
      },
      "execution_count": 1,
      "outputs": [
        {
          "output_type": "stream",
          "name": "stdout",
          "text": [
            "Wed Apr 19 21:28:42 2023       \n",
            "+-----------------------------------------------------------------------------+\n",
            "| NVIDIA-SMI 525.85.12    Driver Version: 525.85.12    CUDA Version: 12.0     |\n",
            "|-------------------------------+----------------------+----------------------+\n",
            "| GPU  Name        Persistence-M| Bus-Id        Disp.A | Volatile Uncorr. ECC |\n",
            "| Fan  Temp  Perf  Pwr:Usage/Cap|         Memory-Usage | GPU-Util  Compute M. |\n",
            "|                               |                      |               MIG M. |\n",
            "|===============================+======================+======================|\n",
            "|   0  Tesla T4            Off  | 00000000:00:04.0 Off |                    0 |\n",
            "| N/A   46C    P8     9W /  70W |      0MiB / 15360MiB |      0%      Default |\n",
            "|                               |                      |                  N/A |\n",
            "+-------------------------------+----------------------+----------------------+\n",
            "                                                                               \n",
            "+-----------------------------------------------------------------------------+\n",
            "| Processes:                                                                  |\n",
            "|  GPU   GI   CI        PID   Type   Process name                  GPU Memory |\n",
            "|        ID   ID                                                   Usage      |\n",
            "|=============================================================================|\n",
            "|  No running processes found                                                 |\n",
            "+-----------------------------------------------------------------------------+\n"
          ]
        }
      ]
    },
    {
      "cell_type": "markdown",
      "source": [
        "# Libraries"
      ],
      "metadata": {
        "id": "o4BpALL32wf7"
      }
    },
    {
      "cell_type": "code",
      "source": [
        "!pip install transformers -q"
      ],
      "metadata": {
        "id": "KCVHmbMNlpP1",
        "colab": {
          "base_uri": "https://localhost:8080/"
        },
        "outputId": "ee342b3a-0856-4b2f-f89a-e016357fb212"
      },
      "execution_count": 1,
      "outputs": [
        {
          "output_type": "stream",
          "name": "stdout",
          "text": [
            "\u001b[2K     \u001b[90m━━━━━━━━━━━━━━━━━━━━━━━━━━━━━━━━━━━━━━━━\u001b[0m \u001b[32m7.0/7.0 MB\u001b[0m \u001b[31m42.6 MB/s\u001b[0m eta \u001b[36m0:00:00\u001b[0m\n",
            "\u001b[2K     \u001b[90m━━━━━━━━━━━━━━━━━━━━━━━━━━━━━━━━━━━━━━\u001b[0m \u001b[32m200.1/200.1 kB\u001b[0m \u001b[31m13.2 MB/s\u001b[0m eta \u001b[36m0:00:00\u001b[0m\n",
            "\u001b[2K     \u001b[90m━━━━━━━━━━━━━━━━━━━━━━━━━━━━━━━━━━━━━━━━\u001b[0m \u001b[32m7.8/7.8 MB\u001b[0m \u001b[31m82.9 MB/s\u001b[0m eta \u001b[36m0:00:00\u001b[0m\n",
            "\u001b[?25h"
          ]
        }
      ]
    },
    {
      "cell_type": "code",
      "source": [
        "!pip install hnswlib -q"
      ],
      "metadata": {
        "colab": {
          "base_uri": "https://localhost:8080/"
        },
        "id": "iH_LBtkjgmQP",
        "outputId": "5d30f061-18e0-4b32-8c56-333ab7b011cc"
      },
      "execution_count": 4,
      "outputs": [
        {
          "output_type": "stream",
          "name": "stdout",
          "text": [
            "  Installing build dependencies ... \u001b[?25l\u001b[?25hdone\n",
            "  Getting requirements to build wheel ... \u001b[?25l\u001b[?25hdone\n",
            "  Preparing metadata (pyproject.toml) ... \u001b[?25l\u001b[?25hdone\n",
            "  Building wheel for hnswlib (pyproject.toml) ... \u001b[?25l\u001b[?25hdone\n"
          ]
        }
      ]
    },
    {
      "cell_type": "code",
      "source": [
        "!pip install pyserini -q\n",
        "!pip install faiss-cpu==1.7.2 -q"
      ],
      "metadata": {
        "colab": {
          "base_uri": "https://localhost:8080/"
        },
        "id": "K-YquMhp2UtR",
        "outputId": "9442a9e9-7f45-4629-ec91-35441b3f7a0a"
      },
      "execution_count": 2,
      "outputs": [
        {
          "output_type": "stream",
          "name": "stdout",
          "text": [
            "\u001b[2K     \u001b[90m━━━━━━━━━━━━━━━━━━━━━━━━━━━━━━━━━━━━━━━\u001b[0m \u001b[32m154.1/154.1 MB\u001b[0m \u001b[31m6.1 MB/s\u001b[0m eta \u001b[36m0:00:00\u001b[0m\n",
            "\u001b[2K     \u001b[90m━━━━━━━━━━━━━━━━━━━━━━━━━━━━━━━━━━━━━━━━\u001b[0m \u001b[32m5.0/5.0 MB\u001b[0m \u001b[31m111.4 MB/s\u001b[0m eta \u001b[36m0:00:00\u001b[0m\n",
            "\u001b[2K     \u001b[90m━━━━━━━━━━━━━━━━━━━━━━━━━━━━━━━━━━━━━━━━\u001b[0m \u001b[32m1.3/1.3 MB\u001b[0m \u001b[31m73.2 MB/s\u001b[0m eta \u001b[36m0:00:00\u001b[0m\n",
            "\u001b[2K     \u001b[90m━━━━━━━━━━━━━━━━━━━━━━━━━━━━━━━━━━━━━━━━\u001b[0m \u001b[32m13.3/13.3 MB\u001b[0m \u001b[31m70.8 MB/s\u001b[0m eta \u001b[36m0:00:00\u001b[0m\n",
            "\u001b[2K     \u001b[90m━━━━━━━━━━━━━━━━━━━━━━━━━━━━━━━━━━━━━━━━\u001b[0m \u001b[32m1.5/1.5 MB\u001b[0m \u001b[31m81.9 MB/s\u001b[0m eta \u001b[36m0:00:00\u001b[0m\n",
            "\u001b[2K     \u001b[90m━━━━━━━━━━━━━━━━━━━━━━━━━━━━━━━━━━━━━━\u001b[0m \u001b[32m188.5/188.5 kB\u001b[0m \u001b[31m20.5 MB/s\u001b[0m eta \u001b[36m0:00:00\u001b[0m\n",
            "\u001b[2K     \u001b[90m━━━━━━━━━━━━━━━━━━━━━━━━━━━━━━━━━━━━━━━━\u001b[0m \u001b[32m46.0/46.0 kB\u001b[0m \u001b[31m5.2 MB/s\u001b[0m eta \u001b[36m0:00:00\u001b[0m\n",
            "\u001b[2K     \u001b[90m━━━━━━━━━━━━━━━━━━━━━━━━━━━━━━━━━━━━━━━━\u001b[0m \u001b[32m86.8/86.8 kB\u001b[0m \u001b[31m10.1 MB/s\u001b[0m eta \u001b[36m0:00:00\u001b[0m\n",
            "\u001b[2K     \u001b[90m━━━━━━━━━━━━━━━━━━━━━━━━━━━━━━━━━━━━━━━━\u001b[0m \u001b[32m8.6/8.6 MB\u001b[0m \u001b[31m2.9 MB/s\u001b[0m eta \u001b[36m0:00:00\u001b[0m\n",
            "\u001b[?25h"
          ]
        }
      ]
    },
    {
      "cell_type": "code",
      "source": [
        "import os\n",
        "import json\n",
        "\n",
        "import numpy as np\n",
        "import matplotlib.pyplot as plt\n",
        "\n",
        "import torch\n",
        "import torch.optim as optim\n",
        "from torch.utils.data import Dataset, DataLoader\n",
        "\n",
        "from transformers import (\n",
        "    AutoTokenizer,\n",
        "    AutoModel,\n",
        "    get_linear_schedule_with_warmup\n",
        ")\n",
        "\n",
        "from tqdm import tqdm\n",
        "import hnswlib"
      ],
      "metadata": {
        "id": "DAjG5Lj2gM8E"
      },
      "execution_count": 5,
      "outputs": []
    },
    {
      "cell_type": "markdown",
      "source": [
        "# Base model"
      ],
      "metadata": {
        "id": "mDAa31Lv27oc"
      }
    },
    {
      "cell_type": "code",
      "source": [
        "device = torch.device('cuda' if torch.cuda.is_available() else 'cpu')\n",
        "\n",
        "tokenizer = AutoTokenizer.from_pretrained('microsoft/MiniLM-L12-H384-uncased')\n",
        "text_encoder = AutoModel.from_pretrained('microsoft/MiniLM-L12-H384-uncased').to(device)\n",
        "query_encoder = AutoModel.from_pretrained('microsoft/MiniLM-L12-H384-uncased').to(device)"
      ],
      "metadata": {
        "id": "91ndvLdMqlyO",
        "colab": {
          "base_uri": "https://localhost:8080/",
          "height": 145,
          "referenced_widgets": [
            "b5c97183f42449a2a9de1b4f0a7feffc",
            "942a3b0055bb4f28aadfbd67467948db",
            "a558005c4c694277866bb0c3b5e06179",
            "97eda40e5ee349dd9f156f90f13af534",
            "f52dced3ce42409cbd529edd7cf56682",
            "5f666871a8304af29f68fe0b752ba6f8",
            "b4cfab1f051c44f2901a9c55e0a81d24",
            "81294cb364084e34b408074099a06dfb",
            "e87e006d3d9a4014a21833c7b058edf0",
            "1c31430995ed467faa485d671ede5a5f",
            "4b1501f2bc3d4336bc3d0d5e0d5ef1a8",
            "11599a7102a0469f90a4eccb77ae1004",
            "4b39eeeca93d4002b9a2c699e0c6b090",
            "b98b9da310e04caba89c43d7bb947fd2",
            "905590a0be624ce1993ea1e5a65132ad",
            "bab61858a596460791227cd09508c573",
            "ae9f6a2ae3fd47ec971d9834d96dfbad",
            "54440b67c6a543439ee66798618a56f2",
            "201ec2f7bec943959168ea484a7ea178",
            "c04a92e3842d45c8beccf6ce712d0fad",
            "dd104c7a1bff47529bb789eff889525d",
            "415a74fcf5174f669cc5afec808a9e48",
            "91dab9635ed640f1a8fd6507c5d552c5",
            "e285177de88e462aa94b3e09c84b60f7",
            "a9ccc03fdf8843a99cc6c564e2635c38",
            "be0202fd01a949c0a8cfb6844e5e1afc",
            "8716dcc6f1504d869251e6a8f9a3241e",
            "3b19149ba58e4afea1ceaa4d5b8cc44d",
            "13215a842c164dfb9910f4f03cddd0e3",
            "7b1071527cb74e8099ca57847458b668",
            "e1e45d911c724471a491d8d9dca9e47d",
            "1ae9570cfd9643448600fd282bd1a18f",
            "2dcd4150c62c4fa18e648459abc2481f",
            "0fd04263e4f1468bb26a538358a5c3e0",
            "9911c2e8f15e471492250c4c7fff718d",
            "e23dec4ccfd0473cb23e160dc9cb6fe7",
            "ecd8284bc1514309bba10be5bba9ae60",
            "b665eb88beef4944ae003afa9aa050a6",
            "973133886499422599e213e2ec7434ff",
            "159c1118541a4276b0d0bc3acd128cfa",
            "c6a323d8ca2d4d78930f87db4ef6b512",
            "e23c1f7fb1ab4036a7056c3874c39c2b",
            "962d667daf0f417da709adef6e573c31",
            "963750fff4764b9cb856545c6139ef02"
          ]
        },
        "outputId": "9991b5aa-ec18-4cbf-c5b8-27eadeada6fe"
      },
      "execution_count": 8,
      "outputs": [
        {
          "output_type": "display_data",
          "data": {
            "text/plain": [
              "Downloading (…)lve/main/config.json:   0%|          | 0.00/639 [00:00<?, ?B/s]"
            ],
            "application/vnd.jupyter.widget-view+json": {
              "version_major": 2,
              "version_minor": 0,
              "model_id": "b5c97183f42449a2a9de1b4f0a7feffc"
            }
          },
          "metadata": {}
        },
        {
          "output_type": "display_data",
          "data": {
            "text/plain": [
              "Downloading pytorch_model.bin:   0%|          | 0.00/134M [00:00<?, ?B/s]"
            ],
            "application/vnd.jupyter.widget-view+json": {
              "version_major": 2,
              "version_minor": 0,
              "model_id": "11599a7102a0469f90a4eccb77ae1004"
            }
          },
          "metadata": {}
        },
        {
          "output_type": "display_data",
          "data": {
            "text/plain": [
              "Downloading (…)lve/main/config.json:   0%|          | 0.00/639 [00:00<?, ?B/s]"
            ],
            "application/vnd.jupyter.widget-view+json": {
              "version_major": 2,
              "version_minor": 0,
              "model_id": "91dab9635ed640f1a8fd6507c5d552c5"
            }
          },
          "metadata": {}
        },
        {
          "output_type": "display_data",
          "data": {
            "text/plain": [
              "Downloading pytorch_model.bin:   0%|          | 0.00/134M [00:00<?, ?B/s]"
            ],
            "application/vnd.jupyter.widget-view+json": {
              "version_major": 2,
              "version_minor": 0,
              "model_id": "0fd04263e4f1468bb26a538358a5c3e0"
            }
          },
          "metadata": {}
        }
      ]
    },
    {
      "cell_type": "markdown",
      "source": [
        "# Dataset\n",
        "The dataset we will use is a reduced version of the MSMARCO Triples Train dataset, which contains 11k triples consisting of a query, a relevant passage, and a non-relevant passage."
      ],
      "metadata": {
        "id": "j54Eg8zH2yYT"
      }
    },
    {
      "cell_type": "code",
      "source": [
        "!wget https://storage.googleapis.com/unicamp-dl/ia368dd_2023s1/msmarco/msmarco_triples.train.tiny.tsv"
      ],
      "metadata": {
        "colab": {
          "base_uri": "https://localhost:8080/"
        },
        "id": "Bj49XOKdmD-3",
        "outputId": "0e33e64a-b117-42a3-f2bf-49d9d5fb60f9"
      },
      "execution_count": 4,
      "outputs": [
        {
          "output_type": "stream",
          "name": "stdout",
          "text": [
            "--2023-04-19 21:29:15--  https://storage.googleapis.com/unicamp-dl/ia368dd_2023s1/msmarco/msmarco_triples.train.tiny.tsv\n",
            "Resolving storage.googleapis.com (storage.googleapis.com)... 142.250.152.128, 142.250.128.128, 142.251.6.128, ...\n",
            "Connecting to storage.googleapis.com (storage.googleapis.com)|142.250.152.128|:443... connected.\n",
            "HTTP request sent, awaiting response... 200 OK\n",
            "Length: 8076179 (7.7M) [text/tab-separated-values]\n",
            "Saving to: ‘msmarco_triples.train.tiny.tsv’\n",
            "\n",
            "\r          msmarco_t   0%[                    ]       0  --.-KB/s               \rmsmarco_triples.tra 100%[===================>]   7.70M  --.-KB/s    in 0.1s    \n",
            "\n",
            "2023-04-19 21:29:16 (77.4 MB/s) - ‘msmarco_triples.train.tiny.tsv’ saved [8076179/8076179]\n",
            "\n"
          ]
        }
      ]
    },
    {
      "cell_type": "code",
      "source": [
        "# Get the last 1000 for validation\n",
        "!tail -n 1000 msmarco_triples.train.tiny.tsv > validation.tsv\n",
        "\n",
        "# Get the first 10000 for training\n",
        "!head -n 10000 msmarco_triples.train.tiny.tsv > train.tsv"
      ],
      "metadata": {
        "id": "TzpF2SszmHlF"
      },
      "execution_count": 6,
      "outputs": []
    },
    {
      "cell_type": "code",
      "source": [
        "class CustomDataset(Dataset):\n",
        "    \"\"\"\n",
        "    PyTorch dataset for processing text data in a specific format.\n",
        "\n",
        "    Args:\n",
        "        data_path (str): Path to the file containing the input data.\n",
        "        tokenizer: Tokenizer object from the transformers library for encoding the text.\n",
        "    \"\"\"\n",
        "\n",
        "    def __init__(self, data_path: str, tokenizer):\n",
        "        self.tokenizer = tokenizer\n",
        "        self.load_data(data_path)\n",
        "\n",
        "    def load_data(self, data_path):\n",
        "        \"\"\"\n",
        "        Reads the input file and stores the data in the `data` attribute as a list of tuples.\n",
        "        Each tuple contains the query and the relevant document from a line of the file.\n",
        "\n",
        "        Args:\n",
        "            data_path (str): Path to the input file.\n",
        "        \"\"\"\n",
        "        self.data = []\n",
        "        with open(data_path, \"r\") as fin:\n",
        "            for line in fin:\n",
        "                query, pos_doc, _ = line.strip().split(\"\\t\")\n",
        "                self.data.append((query, pos_doc))\n",
        "\n",
        "    def __len__(self):\n",
        "        \"\"\"\n",
        "        Returns the number of data samples in the dataset.\n",
        "\n",
        "        Returns:\n",
        "            int: Number of data samples in the dataset.\n",
        "        \"\"\"\n",
        "        return len(self.data)\n",
        "\n",
        "    def __getitem__(self, index):\n",
        "        \"\"\"\n",
        "        Encodes a data sample at the given index using the tokenizer and returns it as a dictionary\n",
        "        with the keys 'input_ids' and 'labels'.\n",
        "\n",
        "        Args:\n",
        "            index (int): Index of the data sample to encode.\n",
        "\n",
        "        Returns:\n",
        "            dict: Dictionary containing the encodings of the given data sample\n",
        "            (query + passage).\n",
        "        \"\"\"\n",
        "        query, doc = self.data[index]\n",
        "        passage_encoding = self.tokenizer(\n",
        "            doc,\n",
        "            add_special_tokens=True,\n",
        "            max_length=256,\n",
        "            truncation=True,\n",
        "            padding='max_length',\n",
        "            return_tensors='pt'\n",
        "        )\n",
        "        query_encoding = self.tokenizer(\n",
        "            query,\n",
        "            add_special_tokens=True,\n",
        "            max_length=128,\n",
        "            truncation=True,\n",
        "            padding='max_length',\n",
        "            return_tensors='pt',\n",
        "        )\n",
        "        return {\n",
        "            'passage': passage_encoding,\n",
        "            'query': query_encoding,\n",
        "        }"
      ],
      "metadata": {
        "id": "VpgfgdJmX3a2"
      },
      "execution_count": 7,
      "outputs": []
    },
    {
      "cell_type": "markdown",
      "source": [
        "# Training\n",
        "\n",
        "Both encoders were trained simultaneously as there is only one loss function calculated based on both encoders. The primary objective was to increase the dot similarity between the query and passage embeddings. To achieve this, the \"in-batch negatives\" technique was utilized, which involves using negative examples from a batch of 32 pairs, where each pair consists of a query and its corresponding relevant passage. As a result, each query in the batch has one relevant passage and 31 negative passages. "
      ],
      "metadata": {
        "id": "D8C1uEIsqho1"
      }
    },
    {
      "cell_type": "code",
      "source": [
        "# Create train and eval datasets using a custom dataset class\n",
        "train_dataset = CustomDataset(\"train.tsv\", tokenizer)\n",
        "eval_dataset = CustomDataset(\"validation.tsv\", tokenizer)\n",
        "\n",
        "# Define batch size and create data loaders for train and eval datasets\n",
        "batch_size = 32\n",
        "train_dataloader = DataLoader(train_dataset, batch_size=batch_size, shuffle=True)\n",
        "eval_dataloader = DataLoader(eval_dataset, batch_size=batch_size, shuffle=True)"
      ],
      "metadata": {
        "id": "0Zn5mWN5klGy"
      },
      "execution_count": 8,
      "outputs": []
    },
    {
      "cell_type": "code",
      "source": [
        "# set up optimizers\n",
        "optimizer_text = optim.AdamW(text_encoder.parameters(), lr=5e-5)\n",
        "optimizer_query = optim.AdamW(query_encoder.parameters(), lr=5e-5)\n",
        "\n",
        "# Define the number of steps to train\n",
        "num_epochs = 20\n",
        "total_steps = len(train_dataloader) * num_epochs\n",
        "epoch_steps = len(train_dataloader)\n",
        "\n",
        "# Create linear learning rate schedulers with warmup for text and query models\n",
        "scheduler_text = get_linear_schedule_with_warmup(optimizer_text, num_warmup_steps=100, num_training_steps=total_steps)\n",
        "scheduler_query = get_linear_schedule_with_warmup(optimizer_query, num_warmup_steps=100, num_training_steps=total_steps)"
      ],
      "metadata": {
        "id": "NOla97kEjsCe"
      },
      "execution_count": 9,
      "outputs": []
    },
    {
      "cell_type": "markdown",
      "source": [
        "## Util functions"
      ],
      "metadata": {
        "id": "dNbpNA1wqe4j"
      }
    },
    {
      "cell_type": "code",
      "source": [
        "def mean_pooling(tokens, attention_mask):\n",
        "    # tokens is a tensor of shape [batch_size, sequence_length, hidden_size]\n",
        "    # attention_mask is a tensor of shape [batch_size, sequence_length]\n",
        "    # attention_mask is used to indicate which elements in tokens to include in the mean pooling\n",
        "\n",
        "    # apply the attention mask to the tokens\n",
        "    masked_tokens = tokens * attention_mask.unsqueeze(-1)\n",
        "\n",
        "    # calculate the sum of the masked tokens along the sequence length dimension\n",
        "    summed_tokens = torch.sum(masked_tokens, dim=1)\n",
        "\n",
        "    # calculate the count of non-masked elements in each sequence\n",
        "    count_non_masked = torch.clamp(torch.sum(attention_mask, dim=1), min=1)\n",
        "\n",
        "    # calculate the mean of the non-masked tokens\n",
        "    mean_pooled = summed_tokens / count_non_masked.unsqueeze(-1)\n",
        "\n",
        "    return mean_pooled\n",
        "\n",
        "\n",
        "def get_loss(query_embeddings, passage_embeddings):\n",
        "    similarity_matrix = torch.matmul(query_embeddings, passage_embeddings.t())\n",
        "    # Each row corresponds to a query paired with $batch_size passages\n",
        "    exponencial_similarity = torch.exp(similarity_matrix)\n",
        "\n",
        "    # Compute the denominator of the DPR loss\n",
        "    # The denominator is the sum of the exponencial similarity of each passage with the query\n",
        "    # for each query in the batch\n",
        "    denominator = torch.sum(exponencial_similarity, dim=1)\n",
        "\n",
        "    # Compute the numerator of the DPR loss\n",
        "    # The numerator is the exponencial similarity of the correct passage with the query\n",
        "    # for each query in the batch. The correct passage is the passage with same index as the query\n",
        "    numerator = torch.diag(exponencial_similarity)\n",
        "\n",
        "    # Compute the DPR loss\n",
        "    loss = -torch.log(numerator / denominator)\n",
        "\n",
        "    return loss.mean()\n",
        "\n",
        "\n",
        "def get_embeddings(batch):\n",
        "    # Encode passages and queries using the text and query encoders\n",
        "    text_outputs = text_encoder(\n",
        "        input_ids=batch[\"passage\"]['input_ids'].squeeze().to(device),\n",
        "        attention_mask=batch[\"passage\"]['attention_mask'].squeeze().to(device),\n",
        "        token_type_ids=batch[\"passage\"]['token_type_ids'].squeeze().to(device)\n",
        "    )\n",
        "    query_outputs = query_encoder(\n",
        "        input_ids=batch[\"query\"]['input_ids'].squeeze().to(device),\n",
        "        attention_mask=batch[\"query\"]['attention_mask'].squeeze().to(device),\n",
        "        token_type_ids=batch[\"query\"]['token_type_ids'].squeeze().to(device)\n",
        "    )\n",
        "\n",
        "    # Compute text and query embeddings using mean pooling\n",
        "    text_embeddings = mean_pooling(text_outputs.last_hidden_state[:], batch[\"passage\"]['attention_mask'].squeeze().to(device))\n",
        "    query_embeddings = mean_pooling(query_outputs.last_hidden_state[:], batch[\"query\"]['attention_mask'].squeeze().to(device))\n",
        "\n",
        "    return text_embeddings, query_embeddings\n"
      ],
      "metadata": {
        "id": "JF9Rc_BIee9s"
      },
      "execution_count": 9,
      "outputs": []
    },
    {
      "cell_type": "markdown",
      "source": [
        "## Training loop"
      ],
      "metadata": {
        "id": "UYCtIn3wrYc5"
      }
    },
    {
      "cell_type": "code",
      "source": [
        "# Create the \"encoders\" directory if it doesn't already exist\n",
        "os.makedirs(\"encoders\", exist_ok=True)\n",
        "\n",
        "# Create empty lists to store training and evaluation loss history\n",
        "train_loss_history = []\n",
        "eval_loss_history = []\n",
        "\n",
        "with tqdm(total=total_steps) as progress_bar:\n",
        "    # Loop over the epochs\n",
        "    for epoch_idx, epoch in enumerate(range(num_epochs)):\n",
        "        text_encoder.train()\n",
        "        query_encoder.train()\n",
        "        \n",
        "        # Initialize counters for the current epoch\n",
        "        num_steps = 0\n",
        "        train_loss = 0\n",
        "        eval_loss = 0\n",
        "\n",
        "        # Loop over the batches in the training data\n",
        "        for batch in train_dataloader:\n",
        "            # Get the normalized text and query embeddings for the current batch\n",
        "            text_embeddings_normalized, query_embeddings_normalized = get_embeddings(batch)\n",
        "\n",
        "            # Compute the combined loss from the text and query encoders\n",
        "            loss = get_loss(query_embeddings_normalized, text_embeddings_normalized)\n",
        "\n",
        "            optimizer_text.zero_grad()\n",
        "            optimizer_query.zero_grad()\n",
        "\n",
        "            loss.backward()\n",
        "\n",
        "            optimizer_text.step()\n",
        "            optimizer_query.step()\n",
        "\n",
        "            scheduler_text.step()\n",
        "            scheduler_query.step()\n",
        "\n",
        "            train_loss += loss.item()\n",
        "\n",
        "            # Update the progress bar message with the current iteration\n",
        "            num_steps += 1\n",
        "            progress_bar.set_description(f\"Epoch: {epoch_idx + 1}/{num_epochs} | Steps: {num_steps}/{epoch_steps} | Loss: {loss.item():.3f}\")\n",
        "\n",
        "            progress_bar.update()\n",
        "        \n",
        "        # Set the text and query encoders to evaluation mode\n",
        "        text_encoder.eval()\n",
        "        query_encoder.eval()\n",
        "\n",
        "        # Loop over the batches in the evaluation data\n",
        "        for batch in eval_dataloader:\n",
        "            with torch.no_grad():\n",
        "                text_embeddings_normalized, query_embeddings_normalized = get_embeddings(batch)\n",
        "                loss = get_loss(query_embeddings_normalized, text_embeddings_normalized)\n",
        "                eval_loss += loss.item()\n",
        "\n",
        "        # Save the trained encoders for the current epoch\n",
        "        text_encoder.save_pretrained(f'./encoders/text_encoder_{epoch_idx}')\n",
        "        query_encoder.save_pretrained(f'./encoders/query_encoder_{epoch_idx}')\n",
        "\n",
        "        # Calculate the average training and evaluation loss for the current epoch\n",
        "        avg_train_loss = train_loss / len(train_dataloader)\n",
        "        avg_eval_loss = eval_loss / len(eval_dataloader)\n",
        "\n",
        "        train_loss_history.append(avg_train_loss)\n",
        "        eval_loss_history.append(avg_eval_loss)\n",
        "\n",
        "        # Print the epoch number and the training and evaluation losses for the current epoch\n",
        "        print('Epoch:', epoch + 1, 'Training Loss:', avg_train_loss, 'Validation Loss:', avg_eval_loss)\n"
      ],
      "metadata": {
        "colab": {
          "base_uri": "https://localhost:8080/",
          "height": 396,
          "referenced_widgets": [
            "5c882c7d7e334a288afdf82814bd2f7b",
            "ba751f4798d94917871a910e8c1aa87f",
            "80b6d4e14f5b49d8b311e7b808001c1c",
            "7f39f309ac2847d2bfb374042e6f5a7d",
            "fbf221cc038d44dcb5c96a15dd5f404b",
            "619d3c19efd24a93a0b60178170752c1",
            "7c228fc9a22d489cbd9a5660b911487d",
            "88ac7ef780cb451cbcf1ff2a0fa285b2",
            "e45c24b35411456c8b9f1613eccedc97",
            "1597b731b8c94facb7442fe681c74aa7",
            "2f287bbc79204b5fbd80bb2ac4a2af17"
          ]
        },
        "id": "PellL02EFDiq",
        "outputId": "9b36e990-9955-4e8f-e8f1-69f7b0f5f550"
      },
      "execution_count": 11,
      "outputs": [
        {
          "output_type": "display_data",
          "data": {
            "text/plain": [
              "  0%|          | 0/6260 [00:00<?, ?it/s]"
            ],
            "application/vnd.jupyter.widget-view+json": {
              "version_major": 2,
              "version_minor": 0,
              "model_id": "5c882c7d7e334a288afdf82814bd2f7b"
            }
          },
          "metadata": {}
        },
        {
          "output_type": "stream",
          "name": "stdout",
          "text": [
            "Epoch: 1 Training Loss: 0.63452563805583 Validation Loss: 0.12562221497910286\n",
            "Epoch: 2 Training Loss: 0.10039542750797618 Validation Loss: 0.10912256247684127\n",
            "Epoch: 3 Training Loss: 0.05239380485773944 Validation Loss: 0.128768237264012\n",
            "Epoch: 4 Training Loss: 0.04778901417144595 Validation Loss: 0.1467320748633938\n",
            "Epoch: 5 Training Loss: 0.0331177279115476 Validation Loss: 0.10995963784080232\n",
            "Epoch: 6 Training Loss: 0.030218562771813177 Validation Loss: 0.08341194628701487\n",
            "Epoch: 7 Training Loss: 0.021594933794845585 Validation Loss: 0.1307380741200177\n",
            "Epoch: 8 Training Loss: 0.01972715982281344 Validation Loss: 0.12961397582330392\n",
            "Epoch: 9 Training Loss: 0.01163267070753351 Validation Loss: 0.14789005591410387\n",
            "Epoch: 10 Training Loss: 0.014946642006150843 Validation Loss: 0.11900528984915582\n",
            "Epoch: 11 Training Loss: 0.010029001382896275 Validation Loss: 0.16447785188324815\n",
            "Epoch: 12 Training Loss: 0.014753195821702222 Validation Loss: 0.12933017661578106\n",
            "Epoch: 13 Training Loss: 0.012711648503548563 Validation Loss: 0.14501188519921016\n",
            "Epoch: 14 Training Loss: 0.007051945645577861 Validation Loss: 0.11251495521480592\n",
            "Epoch: 15 Training Loss: 0.008140297605227527 Validation Loss: 0.10091465354344109\n",
            "Epoch: 16 Training Loss: 0.00845218288067642 Validation Loss: 0.10438225093366849\n",
            "Epoch: 17 Training Loss: 0.006822937454511958 Validation Loss: 0.097321449359697\n",
            "Epoch: 18 Training Loss: 0.0044535645321823756 Validation Loss: 0.0880692769610506\n",
            "Epoch: 19 Training Loss: 0.005225451713527719 Validation Loss: 0.08596012860440538\n",
            "Epoch: 20 Training Loss: 0.003732127785518934 Validation Loss: 0.0845268113783959\n"
          ]
        }
      ]
    },
    {
      "cell_type": "markdown",
      "source": [
        "## Loss plot"
      ],
      "metadata": {
        "id": "fGVYmZHWqqZ2"
      }
    },
    {
      "cell_type": "code",
      "source": [
        "fig, ax = plt.subplots()\n",
        "\n",
        "# Plot the train_loss_history as a blue line\n",
        "ax.plot(train_loss_history, color='blue', label='train loss')\n",
        "\n",
        "# Plot the eval_loss_history as a red line\n",
        "ax.plot(eval_loss_history, color='red', label='eval loss')\n",
        "\n",
        "ax.set_title('Training and Evaluation Loss')\n",
        "ax.set_xlabel('Epoch')\n",
        "ax.set_ylabel('Loss')\n",
        "\n",
        "ax.legend()\n",
        "\n",
        "plt.show()"
      ],
      "metadata": {
        "colab": {
          "base_uri": "https://localhost:8080/",
          "height": 472
        },
        "id": "bVmpOolgliVH",
        "outputId": "582f32e2-2cc4-4a93-9724-330eaa91205d"
      },
      "execution_count": 21,
      "outputs": [
        {
          "output_type": "display_data",
          "data": {
            "text/plain": [
              "<Figure size 640x480 with 1 Axes>"
            ],
            "image/png": "[encoded data removed]"
          },
          "metadata": {}
        }
      ]
    },
    {
      "cell_type": "markdown",
      "source": [
        "# TREC-Covid Dataset"
      ],
      "metadata": {
        "id": "oD7XxwlMHUTl"
      }
    },
    {
      "cell_type": "code",
      "source": [
        "# Corpus with all passages\n",
        "!wget https://huggingface.co/datasets/BeIR/trec-covid/resolve/main/corpus.jsonl.gz\n",
        "!gzip -cd corpus.jsonl.gz > corpus.jsonl"
      ],
      "metadata": {
        "colab": {
          "base_uri": "https://localhost:8080/"
        },
        "id": "KEbChr34Hf7k",
        "outputId": "862f8760-06d7-4a54-f9ce-331ed75f4845"
      },
      "execution_count": 10,
      "outputs": [
        {
          "output_type": "stream",
          "name": "stdout",
          "text": [
            "--2023-04-20 00:24:59--  https://huggingface.co/datasets/BeIR/trec-covid/resolve/main/corpus.jsonl.gz\n",
            "Resolving huggingface.co (huggingface.co)... 13.35.7.102, 13.35.7.13, 13.35.7.28, ...\n",
            "Connecting to huggingface.co (huggingface.co)|13.35.7.102|:443... connected.\n",
            "HTTP request sent, awaiting response... 302 Found\n",
            "Location: https://cdn-lfs.huggingface.co/repos/a8/10/a810e88b0e7b233be82b89c1fa6ec2d75efc6d55784c2ada9dcac8434a634f3a/e9e97686e3138eaff989f67c04cd32e8f8f4c0d4857187e3f180275b23e24e85?response-content-disposition=attachment%3B+filename*%3DUTF-8%27%27corpus.jsonl.gz%3B+filename%3D%22corpus.jsonl.gz%22%3B&response-content-type=application%2Fgzip&Expires=1682209500&Policy=eyJTdGF0ZW1lbnQiOlt7IlJlc291cmNlIjoiaHR0cHM6Ly9jZG4tbGZzLmh1Z2dpbmdmYWNlLmNvL3JlcG9zL2E4LzEwL2E4MTBlODhiMGU3YjIzM2JlODJiODljMWZhNmVjMmQ3NWVmYzZkNTU3ODRjMmFkYTlkY2FjODQzNGE2MzRmM2EvZTllOTc2ODZlMzEzOGVhZmY5ODlmNjdjMDRjZDMyZThmOGY0YzBkNDg1NzE4N2UzZjE4MDI3NWIyM2UyNGU4NT9yZXNwb25zZS1jb250ZW50LWRpc3Bvc2l0aW9uPSomcmVzcG9uc2UtY29udGVudC10eXBlPSoiLCJDb25kaXRpb24iOnsiRGF0ZUxlc3NUaGFuIjp7IkFXUzpFcG9jaFRpbWUiOjE2ODIyMDk1MDB9fX1dfQ__&Signature=TxkCA9pC7byETaQlZ0UvaySpflIKD5Kn4lh9hZkiz0Cfs4%7EJCFFFmVoJtnkGXkEC2ixHBBm6cTgP6FV993cX%7EclZjRRnINappQRcMyLD0a31SWZUwBJ4xeFfgc921mQSCsidByQe4Upj-ogjm2RB69lS3rYByQMLdXqCRXmaSx56wZSjiACisSWSIBFLwPBnkHz7IpX8H3-j4FVq2ApVBGy1XzaLQui7sjrxrPThZtGLT4R12m-1AgDzKuB1uXvzknC6UavGX484PPQ8pHaaCaq0Wn-UU31K6mVf7FmLCXkxEOrCXjLaATVNsMmBHmkF-jsa9zOdE9prHCufWQrVKg__&Key-Pair-Id=KVTP0A1DKRTAX [following]\n",
            "--2023-04-20 00:25:00--  https://cdn-lfs.huggingface.co/repos/a8/10/a810e88b0e7b233be82b89c1fa6ec2d75efc6d55784c2ada9dcac8434a634f3a/e9e97686e3138eaff989f67c04cd32e8f8f4c0d4857187e3f180275b23e24e85?response-content-disposition=attachment%3B+filename*%3DUTF-8%27%27corpus.jsonl.gz%3B+filename%3D%22corpus.jsonl.gz%22%3B&response-content-type=application%2Fgzip&Expires=1682209500&Policy=eyJTdGF0ZW1lbnQiOlt7IlJlc291cmNlIjoiaHR0cHM6Ly9jZG4tbGZzLmh1Z2dpbmdmYWNlLmNvL3JlcG9zL2E4LzEwL2E4MTBlODhiMGU3YjIzM2JlODJiODljMWZhNmVjMmQ3NWVmYzZkNTU3ODRjMmFkYTlkY2FjODQzNGE2MzRmM2EvZTllOTc2ODZlMzEzOGVhZmY5ODlmNjdjMDRjZDMyZThmOGY0YzBkNDg1NzE4N2UzZjE4MDI3NWIyM2UyNGU4NT9yZXNwb25zZS1jb250ZW50LWRpc3Bvc2l0aW9uPSomcmVzcG9uc2UtY29udGVudC10eXBlPSoiLCJDb25kaXRpb24iOnsiRGF0ZUxlc3NUaGFuIjp7IkFXUzpFcG9jaFRpbWUiOjE2ODIyMDk1MDB9fX1dfQ__&Signature=TxkCA9pC7byETaQlZ0UvaySpflIKD5Kn4lh9hZkiz0Cfs4%7EJCFFFmVoJtnkGXkEC2ixHBBm6cTgP6FV993cX%7EclZjRRnINappQRcMyLD0a31SWZUwBJ4xeFfgc921mQSCsidByQe4Upj-ogjm2RB69lS3rYByQMLdXqCRXmaSx56wZSjiACisSWSIBFLwPBnkHz7IpX8H3-j4FVq2ApVBGy1XzaLQui7sjrxrPThZtGLT4R12m-1AgDzKuB1uXvzknC6UavGX484PPQ8pHaaCaq0Wn-UU31K6mVf7FmLCXkxEOrCXjLaATVNsMmBHmkF-jsa9zOdE9prHCufWQrVKg__&Key-Pair-Id=KVTP0A1DKRTAX\n",
            "Resolving cdn-lfs.huggingface.co (cdn-lfs.huggingface.co)... 13.226.58.25, 13.226.58.45, 13.226.58.71, ...\n",
            "Connecting to cdn-lfs.huggingface.co (cdn-lfs.huggingface.co)|13.226.58.25|:443... connected.\n",
            "HTTP request sent, awaiting response... 200 OK\n",
            "Length: 73452199 (70M) [application/gzip]\n",
            "Saving to: ‘corpus.jsonl.gz’\n",
            "\n",
            "corpus.jsonl.gz     100%[===================>]  70.05M  16.5MB/s    in 5.2s    \n",
            "\n",
            "2023-04-20 00:25:06 (13.4 MB/s) - ‘corpus.jsonl.gz’ saved [73452199/73452199]\n",
            "\n"
          ]
        }
      ]
    },
    {
      "cell_type": "code",
      "source": [
        "# Topics with all queries\n",
        "!wget https://huggingface.co/datasets/BeIR/trec-covid/resolve/main/queries.jsonl.gz\n",
        "!gzip -dc queries.jsonl.gz > queries.jsonl"
      ],
      "metadata": {
        "colab": {
          "base_uri": "https://localhost:8080/"
        },
        "id": "Xam3nn0JHwoK",
        "outputId": "c070b7ba-0877-48a3-d76a-57367d2c9977"
      },
      "execution_count": 11,
      "outputs": [
        {
          "output_type": "stream",
          "name": "stdout",
          "text": [
            "--2023-04-20 00:25:08--  https://huggingface.co/datasets/BeIR/trec-covid/resolve/main/queries.jsonl.gz\n",
            "Resolving huggingface.co (huggingface.co)... 13.35.7.102, 13.35.7.13, 13.35.7.28, ...\n",
            "Connecting to huggingface.co (huggingface.co)|13.35.7.102|:443... connected.\n",
            "HTTP request sent, awaiting response... 302 Found\n",
            "Location: https://cdn-lfs.huggingface.co/repos/a8/10/a810e88b0e7b233be82b89c1fa6ec2d75efc6d55784c2ada9dcac8434a634f3a/9eadcc2cdf140addc9dae83648bb2c6611f5e4b66eaed7475fa5a0ca48eda371?response-content-disposition=attachment%3B+filename*%3DUTF-8%27%27queries.jsonl.gz%3B+filename%3D%22queries.jsonl.gz%22%3B&response-content-type=application%2Fgzip&Expires=1682209509&Policy=eyJTdGF0ZW1lbnQiOlt7IlJlc291cmNlIjoiaHR0cHM6Ly9jZG4tbGZzLmh1Z2dpbmdmYWNlLmNvL3JlcG9zL2E4LzEwL2E4MTBlODhiMGU3YjIzM2JlODJiODljMWZhNmVjMmQ3NWVmYzZkNTU3ODRjMmFkYTlkY2FjODQzNGE2MzRmM2EvOWVhZGNjMmNkZjE0MGFkZGM5ZGFlODM2NDhiYjJjNjYxMWY1ZTRiNjZlYWVkNzQ3NWZhNWEwY2E0OGVkYTM3MT9yZXNwb25zZS1jb250ZW50LWRpc3Bvc2l0aW9uPSomcmVzcG9uc2UtY29udGVudC10eXBlPSoiLCJDb25kaXRpb24iOnsiRGF0ZUxlc3NUaGFuIjp7IkFXUzpFcG9jaFRpbWUiOjE2ODIyMDk1MDl9fX1dfQ__&Signature=apDTTK-qMljfqjfsTuV-eiQiMATXjaAqAb3mCYteJoXUoSG%7EqPAO1fFeiO6bbgnnNUxHLzDU8FTIDu6NmgT7O19u9vHqn%7EkBUhAoFVN6Dn3DzRnI1PInbONipaqQHq5bqk3Vo8McXWRs6EW21uDFqntvigkVg5Dl%7EsrrCM63rFQMDch5NhJRyZCKln2V%7EUcx0hRVMg0qQUFsHxnOooSk8O4gb1T2wfgI4-dcBv-oVCF-pqwYl-yOAtYREdHgGn8p6F2mXEVvn0qob6RMi1-sjnocwF9PbWO8ockkTDYshG%7EghcYNl7hN7KWajXRtQsQLGQ30T6XJuSU5cwxUcbUfIg__&Key-Pair-Id=KVTP0A1DKRTAX [following]\n",
            "--2023-04-20 00:25:08--  https://cdn-lfs.huggingface.co/repos/a8/10/a810e88b0e7b233be82b89c1fa6ec2d75efc6d55784c2ada9dcac8434a634f3a/9eadcc2cdf140addc9dae83648bb2c6611f5e4b66eaed7475fa5a0ca48eda371?response-content-disposition=attachment%3B+filename*%3DUTF-8%27%27queries.jsonl.gz%3B+filename%3D%22queries.jsonl.gz%22%3B&response-content-type=application%2Fgzip&Expires=1682209509&Policy=eyJTdGF0ZW1lbnQiOlt7IlJlc291cmNlIjoiaHR0cHM6Ly9jZG4tbGZzLmh1Z2dpbmdmYWNlLmNvL3JlcG9zL2E4LzEwL2E4MTBlODhiMGU3YjIzM2JlODJiODljMWZhNmVjMmQ3NWVmYzZkNTU3ODRjMmFkYTlkY2FjODQzNGE2MzRmM2EvOWVhZGNjMmNkZjE0MGFkZGM5ZGFlODM2NDhiYjJjNjYxMWY1ZTRiNjZlYWVkNzQ3NWZhNWEwY2E0OGVkYTM3MT9yZXNwb25zZS1jb250ZW50LWRpc3Bvc2l0aW9uPSomcmVzcG9uc2UtY29udGVudC10eXBlPSoiLCJDb25kaXRpb24iOnsiRGF0ZUxlc3NUaGFuIjp7IkFXUzpFcG9jaFRpbWUiOjE2ODIyMDk1MDl9fX1dfQ__&Signature=apDTTK-qMljfqjfsTuV-eiQiMATXjaAqAb3mCYteJoXUoSG%7EqPAO1fFeiO6bbgnnNUxHLzDU8FTIDu6NmgT7O19u9vHqn%7EkBUhAoFVN6Dn3DzRnI1PInbONipaqQHq5bqk3Vo8McXWRs6EW21uDFqntvigkVg5Dl%7EsrrCM63rFQMDch5NhJRyZCKln2V%7EUcx0hRVMg0qQUFsHxnOooSk8O4gb1T2wfgI4-dcBv-oVCF-pqwYl-yOAtYREdHgGn8p6F2mXEVvn0qob6RMi1-sjnocwF9PbWO8ockkTDYshG%7EghcYNl7hN7KWajXRtQsQLGQ30T6XJuSU5cwxUcbUfIg__&Key-Pair-Id=KVTP0A1DKRTAX\n",
            "Resolving cdn-lfs.huggingface.co (cdn-lfs.huggingface.co)... 13.226.58.25, 13.226.58.45, 13.226.58.71, ...\n",
            "Connecting to cdn-lfs.huggingface.co (cdn-lfs.huggingface.co)|13.226.58.25|:443... connected.\n",
            "HTTP request sent, awaiting response... 200 OK\n",
            "Length: 4702 (4.6K) [application/gzip]\n",
            "Saving to: ‘queries.jsonl.gz’\n",
            "\n",
            "queries.jsonl.gz    100%[===================>]   4.59K  --.-KB/s    in 0s      \n",
            "\n",
            "2023-04-20 00:25:09 (201 MB/s) - ‘queries.jsonl.gz’ saved [4702/4702]\n",
            "\n"
          ]
        }
      ]
    },
    {
      "cell_type": "code",
      "source": [
        "# Qrels with all relevances\n",
        "!wget https://huggingface.co/datasets/BeIR/trec-covid-qrels/raw/main/test.tsv"
      ],
      "metadata": {
        "colab": {
          "base_uri": "https://localhost:8080/"
        },
        "id": "pflVzhqgHyuE",
        "outputId": "9c7f5337-a893-4321-b25e-545df1802a5b"
      },
      "execution_count": 12,
      "outputs": [
        {
          "output_type": "stream",
          "name": "stdout",
          "text": [
            "--2023-04-20 00:25:09--  https://huggingface.co/datasets/BeIR/trec-covid-qrels/raw/main/test.tsv\n",
            "Resolving huggingface.co (huggingface.co)... 13.35.7.102, 13.35.7.13, 13.35.7.28, ...\n",
            "Connecting to huggingface.co (huggingface.co)|13.35.7.102|:443... connected.\n",
            "HTTP request sent, awaiting response... 200 OK\n",
            "Length: 980831 (958K) [text/plain]\n",
            "Saving to: ‘test.tsv’\n",
            "\n",
            "test.tsv            100%[===================>] 957.84K  --.-KB/s    in 0.02s   \n",
            "\n",
            "2023-04-20 00:25:10 (39.0 MB/s) - ‘test.tsv’ saved [980831/980831]\n",
            "\n"
          ]
        }
      ]
    },
    {
      "cell_type": "markdown",
      "source": [
        "### Qrels\n",
        "\n",
        "Create a Qrels file with the following format:\n",
        "\n",
        "\n",
        "QID 0 DOC_ID RELEVANCE\n"
      ],
      "metadata": {
        "id": "qzDX-3FEdyqI"
      }
    },
    {
      "cell_type": "code",
      "source": [
        "with open(\"qrels.tsv\", \"w\") as fout:\n",
        "    with open(\"test.tsv\", \"r\") as fin:\n",
        "        for idx, line in enumerate(fin):\n",
        "            if idx != 0:\n",
        "                qid, doc_id, relevance = line.strip().split(\"\\t\")\n",
        "                fout.write(f\"{qid}\\t0\\t{doc_id}\\t{relevance}\\n\")"
      ],
      "metadata": {
        "id": "EUJyhPBjOwhV"
      },
      "execution_count": 13,
      "outputs": []
    },
    {
      "cell_type": "markdown",
      "source": [
        "### Topics\n",
        "\n",
        "Load the queries to be used during our evaluation."
      ],
      "metadata": {
        "id": "2VravGCVdkDD"
      }
    },
    {
      "cell_type": "code",
      "source": [
        "topics = []\n",
        "\n",
        "with open(\"queries.jsonl\", \"r\") as fin:\n",
        "    for line in fin:\n",
        "        query = json.loads(line)\n",
        "        topics.append((query[\"_id\"], query[\"text\"]))"
      ],
      "metadata": {
        "id": "eDEtFXcsiLib"
      },
      "execution_count": 14,
      "outputs": []
    },
    {
      "cell_type": "markdown",
      "source": [
        "### Corpus\n",
        "\n"
      ],
      "metadata": {
        "id": "Snq_bvAoeMWt"
      }
    },
    {
      "cell_type": "code",
      "source": [
        "corpus = []\n",
        "\n",
        "with open(\"corpus.jsonl\", \"r\") as fin:\n",
        "    for line in fin:\n",
        "        doc = json.loads(line)\n",
        "        corpus.append((doc[\"_id\"], f\"{doc['title']}. {doc['text']}\"))"
      ],
      "metadata": {
        "id": "DM5OZ53FPbSu"
      },
      "execution_count": 15,
      "outputs": []
    },
    {
      "cell_type": "markdown",
      "source": [
        "### Embeddings\n",
        "\n",
        "The embeddings obtained from the passage and query texts using the mean pooling strategy will be used for search. The embeddings represent a compressed version of the input texts, where each embedding corresponds to a unique representation of the original text. "
      ],
      "metadata": {
        "id": "lZhZ30viNAzb"
      }
    },
    {
      "cell_type": "code",
      "source": [
        "# Tokenizes input texts and returns PyTorch tensors with special tokens,\n",
        "# padding and truncation\n",
        "def tokenize(texts, max_length=256):\n",
        "    return tokenizer(\n",
        "        texts,\n",
        "        add_special_tokens=True,\n",
        "        max_length=max_length,\n",
        "        truncation=True,\n",
        "        padding='max_length',\n",
        "        return_tensors='pt'\n",
        "    )\n",
        "\n",
        "\n",
        "# Computes the passage embeddings using the mean pooling strategy\n",
        "def get_passage_embeddings(passages):\n",
        "    tokenized = tokenize(passages)\n",
        "    with torch.no_grad():\n",
        "        text_outputs = text_encoder(\n",
        "            input_ids=tokenized['input_ids'].squeeze().to(device),\n",
        "            attention_mask=tokenized['attention_mask'].squeeze().to(device),\n",
        "        )\n",
        "        embeddings = mean_pooling(text_outputs.last_hidden_state[:], tokenized['attention_mask'].squeeze().to(device))\n",
        "        return embeddings\n",
        "\n",
        "\n",
        "# Computes the query embeddings using the mean pooling strategy\n",
        "def get_query_embeddings(queries):\n",
        "    tokenized = tokenize(queries, max_length=128) \n",
        "    with torch.no_grad():\n",
        "        text_outputs = query_encoder(\n",
        "            input_ids=tokenized['input_ids'].squeeze().to(device),\n",
        "            attention_mask=tokenized['attention_mask'].squeeze().to(device),\n",
        "        )\n",
        "        embeddings = mean_pooling(text_outputs.last_hidden_state[:], tokenized['attention_mask'].squeeze().to(device))\n",
        "        return embeddings"
      ],
      "metadata": {
        "id": "0-EzHvbGNENa"
      },
      "execution_count": 16,
      "outputs": []
    },
    {
      "cell_type": "code",
      "source": [
        "# Compute the queries embeddings in batches\n",
        "topics_batches = [topics[i:i+32] for i in range(0, len(topics), 32)]\n",
        "topics_embeddings = []\n",
        "\n",
        "for batch in topics_batches:\n",
        "    queries = [text[1] for text in batch]\n",
        "    ids = [text[0] for text in batch]\n",
        "    # Gets the queries embeddings\n",
        "    queries_embeddings = get_query_embeddings(queries)\n",
        "    # Gets the tuples made of (id, embedding)\n",
        "    topics_embeddings.extend(list(zip(ids, queries_embeddings)))"
      ],
      "metadata": {
        "id": "jnyo1DyUOpGO"
      },
      "execution_count": 17,
      "outputs": []
    },
    {
      "cell_type": "code",
      "source": [
        "# Compute the passages embeddings in batches\n",
        "corpus_batches = [corpus[i:i+32] for i in range(0, len(corpus), 32)]\n",
        "corpus_embeddings = []\n",
        "\n",
        "for batch in tqdm(corpus_batches, desc=\"Generating corpus embeddings\"):\n",
        "    passages = [text[1] for text in batch]\n",
        "    ids = [text[0] for text in batch]\n",
        "    # Gets the passage embeddings\n",
        "    passages_embeddings = get_passage_embeddings(passages)\n",
        "    # Get the tuples made of (id, embedding)\n",
        "    corpus_embeddings.extend(list(zip(ids, passages_embeddings)))"
      ],
      "metadata": {
        "colab": {
          "base_uri": "https://localhost:8080/"
        },
        "id": "CE-pR5N6Rodh",
        "outputId": "d5b09c65-2c1e-4989-d02b-f7f2b54bfe12"
      },
      "execution_count": 18,
      "outputs": [
        {
          "output_type": "stream",
          "name": "stderr",
          "text": [
            "Generating corpus embeddings: 100%|██████████| 5355/5355 [15:42<00:00,  5.68it/s]\n"
          ]
        }
      ]
    },
    {
      "cell_type": "markdown",
      "source": [
        "# Approximate Nearest Neighbor Search\n",
        "\n",
        "In the context of Dense Passage Retrieval (DPR), Approximate Nearest Neighbor (ANN) search is a technique used to efficiently search for relevant passages. ANN search involves creating an index of the embeddings of the passages in the corpus. This index allows for fast retrieval of the most similar embeddings to a given query embedding. The search is approximate because the nearest neighbor is not guaranteed to be the exact nearest neighbor, but it is close enough for practical purposes."
      ],
      "metadata": {
        "id": "AFdyGamYPxn5"
      }
    },
    {
      "cell_type": "code",
      "source": [
        "# Set up the index\n",
        "dim = 384  # Dimension of the feature vector\n",
        "num_elements = len(corpus_embeddings)  # Number of elements in the dataset\n",
        "index = hnswlib.Index(space='l2', dim=dim)  # Use L2 distance as the distance metric\n",
        "\n",
        "# Add the data to the index\n",
        "index.init_index(max_elements=num_elements, ef_construction=100, M=16)\n",
        "index.add_items([doc[1].cpu().numpy() for doc in corpus_embeddings])"
      ],
      "metadata": {
        "id": "h8sICXlkPzDj"
      },
      "execution_count": 30,
      "outputs": []
    },
    {
      "cell_type": "markdown",
      "source": [
        "### ANN Run\n",
        "\n",
        "This function is responsible for creating a RUN file in the TREC format:\n",
        "\n",
        "QID Q0 DOC_ID RANK SCORE LABEL"
      ],
      "metadata": {
        "id": "xUyBBdpofCz9"
      }
    },
    {
      "cell_type": "code",
      "source": [
        "def get_run(path: str, topics: list, top_k: int, doc_ids: list):\n",
        "    \"\"\"\n",
        "    This function writes a TREC run in the given path.\n",
        "    Args:\n",
        "        path: the path to save the run\n",
        "        topics: a list with [(id, embedding)] of queries for evaluating\n",
        "        top_k: number of passages to retrieve\n",
        "    \"\"\"\n",
        "    with open(path, 'w') as fout:\n",
        "        for id, query in tqdm(topics, desc=\"Running queries\"):\n",
        "            query_np = query.cpu().numpy()  # Convert the tensor to a numpy array\n",
        "            labels, distances = index.knn_query(query_np, k=top_k)  # Find the top_k nearest neighbors to the query\n",
        "            rank = 1\n",
        "            for idx, distance in zip(labels[0], distances[0]):\n",
        "                fout.write(f\"{id}\\tQ0\\t{doc_ids[idx]}\\t{rank}\\t{1/rank}\\tDPR\\n\")\n",
        "                rank += 1"
      ],
      "metadata": {
        "id": "vnT9kKFqUaD7"
      },
      "execution_count": 31,
      "outputs": []
    },
    {
      "cell_type": "code",
      "source": [
        "get_run(\"run_DPR.tsv\", topics_embeddings, 1000, [doc[0] for doc in corpus_embeddings])"
      ],
      "metadata": {
        "colab": {
          "base_uri": "https://localhost:8080/",
          "height": 49,
          "referenced_widgets": [
            "23753912177247eea3f59da7036a651e",
            "c462519226f5433db0d3e4935b8cbea6",
            "03b670521da141d682a7fc3bd0891ac1",
            "7728f39d86ee41c6a8a1cba8f9119a7d",
            "3ff8fe061efa49fd9fb2491cdb245e73",
            "007b10f7f8924462b02acf16adbb446e",
            "ad0ca8b1b6d3455fb32ff58151f96946",
            "c35f5467016f4ab287f2c0c7cbdb72b2",
            "4ef0fb3eff7f4c0ca98e57dc8c472de7",
            "dc84f9d9832741219b4bd18a60e1d044",
            "8e5e68d33091444bafe1b4ff8d73f6fc"
          ]
        },
        "id": "ECN2zhLHb8L6",
        "outputId": "53ff3968-1711-4ee6-f38d-2e500450a09f"
      },
      "execution_count": 32,
      "outputs": [
        {
          "output_type": "display_data",
          "data": {
            "text/plain": [
              "Running queries:   0%|          | 0/50 [00:00<?, ?it/s]"
            ],
            "application/vnd.jupyter.widget-view+json": {
              "version_major": 2,
              "version_minor": 0,
              "model_id": "23753912177247eea3f59da7036a651e"
            }
          },
          "metadata": {}
        }
      ]
    },
    {
      "cell_type": "markdown",
      "source": [
        "## Results"
      ],
      "metadata": {
        "id": "wcB3SW7wtdx3"
      }
    },
    {
      "cell_type": "code",
      "source": [
        "!python -m pyserini.eval.trec_eval -c -m ndcg_cut.10 -mmap -l 2 qrels.tsv run_DPR.tsv"
      ],
      "metadata": {
        "colab": {
          "base_uri": "https://localhost:8080/"
        },
        "id": "7QmZ4030d1Is",
        "outputId": "89d731d2-0a99-46cf-d7d2-a800c5f9a6cc"
      },
      "execution_count": 34,
      "outputs": [
        {
          "output_type": "stream",
          "name": "stdout",
          "text": [
            "Downloading https://search.maven.org/remotecontent?filepath=uk/ac/gla/dcs/terrierteam/jtreceval/0.0.5/jtreceval-0.0.5-jar-with-dependencies.jar to /root/.cache/pyserini/eval/jtreceval-0.0.5-jar-with-dependencies.jar...\n",
            "jtreceval-0.0.5-jar-with-dependencies.jar: 1.79MB [00:00, 6.33MB/s]                \n",
            "Running command: ['java', '-jar', '/root/.cache/pyserini/eval/jtreceval-0.0.5-jar-with-dependencies.jar', '-c', '-m', 'ndcg_cut.10', '-mmap', '-l', '2', 'qrels.tsv', 'run_DPR.tsv']\n",
            "Results:\n",
            "map                   \tall\t0.0544\n",
            "ndcg_cut_10           \tall\t0.3922\n"
          ]
        }
      ]
    },
    {
      "cell_type": "markdown",
      "source": [
        "# Exhaustive search\n",
        "\n",
        " In the context of information retrieval, an exhaustive search would involve examining every passage in the corpus to find the ones that are most relevant to a given query. However, an exhaustive search can be extremely time-consuming and resource-intensive, especially for large-scale data sets"
      ],
      "metadata": {
        "id": "2NhaHcHltbNt"
      }
    },
    {
      "cell_type": "markdown",
      "source": [
        "## Exhaustive Run"
      ],
      "metadata": {
        "id": "Ogl9MmZFthw4"
      }
    },
    {
      "cell_type": "code",
      "source": [
        "def exhaustive_search(queries, passages, top_k):\n",
        "    \"\"\"\n",
        "    Perform an exhaustive search of all queries and passages, returning the top-k\n",
        "    passages for each query.\n",
        "    Args:\n",
        "        queries (list): A list of tuples, where each tuple contains a query ID and\n",
        "        a query embedding tensor.\n",
        "        passages (list): A list of tuples, where each tuple contains a passage ID\n",
        "        and a passage embedding tensor.\n",
        "        top_k (int): The number of top passages to return for each query. \n",
        "    Yields:\n",
        "        list: A list of the top-k passages for each query. Each element in the list\n",
        "        is a tuple containing the query ID, the passage ID, and the similarity score\n",
        "        between the query and the passage.\n",
        "    \"\"\"\n",
        "    for q_id, q_emb in tqdm(queries, desc=\"Exhaustive Search\"):\n",
        "        results = []\n",
        "        for p_id, p_emb in passages:\n",
        "            dot_product = torch.dot(q_emb, p_emb).cpu().numpy()\n",
        "            results.append((q_id, p_id, dot_product))\n",
        "        results.sort(key=lambda x: x[2], reverse=True)\n",
        "        yield results[:top_k]\n",
        "\n",
        "\n",
        "\n",
        "def get_run_exaustive(path: str, topics: list, corpus: list, top_k: int):\n",
        "    \"\"\"\n",
        "    This function writes a TREC run in the given path.\n",
        "    Args:\n",
        "        path: the path to save the run\n",
        "        topics: a list with [(id, embedding)] of queries for evaluating\n",
        "        top_k: number of passages to retrieve\n",
        "    \"\"\"\n",
        "    with open(path, 'w') as fout:\n",
        "        # Find the top_k nearest neighbors to the query\n",
        "        for results in exhaustive_search(topics, corpus, top_k):\n",
        "            rank = 1\n",
        "            for qid, doc_id, score in results:\n",
        "                fout.write(f\"{qid}\\tQ0\\t{doc_id}\\t{rank}\\t{score}\\tDPR\\n\")\n",
        "                rank += 1"
      ],
      "metadata": {
        "id": "z06AvurS4ElM"
      },
      "execution_count": 42,
      "outputs": []
    },
    {
      "cell_type": "code",
      "source": [
        "get_run_exaustive(\"run_DPR_exhaustive.tsv\", topics_embeddings, corpus_embeddings, 1000)"
      ],
      "metadata": {
        "colab": {
          "base_uri": "https://localhost:8080/"
        },
        "id": "vyxH-Rry78fr",
        "outputId": "fa2043a9-a2c4-4b2b-9d39-248cf0ce73f6"
      },
      "execution_count": 43,
      "outputs": [
        {
          "output_type": "stream",
          "name": "stderr",
          "text": [
            "Exhaustive Search: 100%|██████████| 50/50 [06:38<00:00,  7.97s/it]\n"
          ]
        }
      ]
    },
    {
      "cell_type": "markdown",
      "source": [
        "## Results"
      ],
      "metadata": {
        "id": "MvWx6DMzti_F"
      }
    },
    {
      "cell_type": "code",
      "source": [
        "!python -m pyserini.eval.trec_eval -c -m ndcg_cut.10 -mmap -l 2 qrels.tsv run_DPR_exhaustive.tsv"
      ],
      "metadata": {
        "colab": {
          "base_uri": "https://localhost:8080/"
        },
        "id": "L_oS9DCft1Vy",
        "outputId": "4d611491-11d7-4866-dd62-7abe6e848eb1"
      },
      "execution_count": 44,
      "outputs": [
        {
          "output_type": "stream",
          "name": "stdout",
          "text": [
            "Downloading https://search.maven.org/remotecontent?filepath=uk/ac/gla/dcs/terrierteam/jtreceval/0.0.5/jtreceval-0.0.5-jar-with-dependencies.jar to /root/.cache/pyserini/eval/jtreceval-0.0.5-jar-with-dependencies.jar...\n",
            "/root/.cache/pyserini/eval/jtreceval-0.0.5-jar-with-dependencies.jar already exists!\n",
            "Skipping download.\n",
            "Running command: ['java', '-jar', '/root/.cache/pyserini/eval/jtreceval-0.0.5-jar-with-dependencies.jar', '-c', '-m', 'ndcg_cut.10', '-mmap', '-l', '2', 'qrels.tsv', 'run_DPR_exhaustive.tsv']\n",
            "Results:\n",
            "map                   \tall\t0.0512\n",
            "ndcg_cut_10           \tall\t0.3452\n"
          ]
        }
      ]
    }
  ]
}