{
  "nbformat": 4,
  "nbformat_minor": 0,
  "metadata": {
    "colab": {
      "provenance": [],
      "toc_visible": true,
      "machine_shape": "hm",
      "gpuType": "T4",
      "authorship_tag": "ABX9TyNnKn4QzNYN4pcOfQACsg9O",
      "include_colab_link": true
    },
    "kernelspec": {
      "name": "python3",
      "display_name": "Python 3"
    },
    "language_info": {
      "name": "python"
    },
    "accelerator": "GPU",
    "gpuClass": "standard",
    "widgets": {
      "application/vnd.jupyter.widget-state+json": {
        "b05989f637f24a42a9e47d494d59137d": {
          "model_module": "@jupyter-widgets/controls",
          "model_name": "HBoxModel",
          "model_module_version": "1.5.0",
          "state": {
            "_dom_classes": [],
            "_model_module": "@jupyter-widgets/controls",
            "_model_module_version": "1.5.0",
            "_model_name": "HBoxModel",
            "_view_count": null,
            "_view_module": "@jupyter-widgets/controls",
            "_view_module_version": "1.5.0",
            "_view_name": "HBoxView",
            "box_style": "",
            "children": [
              "IPY_MODEL_a4e4f19b25e644caa2eb5a7d57d04392",
              "IPY_MODEL_fc9c060252fe446fbc925742269ed7e5",
              "IPY_MODEL_577da6f419d14bb4876292212cfa34ec"
            ],
            "layout": "IPY_MODEL_83099ce7e91c4d4db704f6e50c04e849"
          }
        },
        "a4e4f19b25e644caa2eb5a7d57d04392": {
          "model_module": "@jupyter-widgets/controls",
          "model_name": "HTMLModel",
          "model_module_version": "1.5.0",
          "state": {
            "_dom_classes": [],
            "_model_module": "@jupyter-widgets/controls",
            "_model_module_version": "1.5.0",
            "_model_name": "HTMLModel",
            "_view_count": null,
            "_view_module": "@jupyter-widgets/controls",
            "_view_module_version": "1.5.0",
            "_view_name": "HTMLView",
            "description": "",
            "description_tooltip": null,
            "layout": "IPY_MODEL_d8b78b46660e433fb23f29f05b831f8a",
            "placeholder": "​",
            "style": "IPY_MODEL_75386a55d2c44d11bcbd43c35db65748",
            "value": "Downloading (…)okenizer_config.json: 100%"
          }
        },
        "fc9c060252fe446fbc925742269ed7e5": {
          "model_module": "@jupyter-widgets/controls",
          "model_name": "FloatProgressModel",
          "model_module_version": "1.5.0",
          "state": {
            "_dom_classes": [],
            "_model_module": "@jupyter-widgets/controls",
            "_model_module_version": "1.5.0",
            "_model_name": "FloatProgressModel",
            "_view_count": null,
            "_view_module": "@jupyter-widgets/controls",
            "_view_module_version": "1.5.0",
            "_view_name": "ProgressView",
            "bar_style": "success",
            "description": "",
            "description_tooltip": null,
            "layout": "IPY_MODEL_82665602910b4f67a21892434877296b",
            "max": 1890,
            "min": 0,
            "orientation": "horizontal",
            "style": "IPY_MODEL_c5570876e6464e2db1bff3b983172350",
            "value": 1890
          }
        },
        "577da6f419d14bb4876292212cfa34ec": {
          "model_module": "@jupyter-widgets/controls",
          "model_name": "HTMLModel",
          "model_module_version": "1.5.0",
          "state": {
            "_dom_classes": [],
            "_model_module": "@jupyter-widgets/controls",
            "_model_module_version": "1.5.0",
            "_model_name": "HTMLModel",
            "_view_count": null,
            "_view_module": "@jupyter-widgets/controls",
            "_view_module_version": "1.5.0",
            "_view_name": "HTMLView",
            "description": "",
            "description_tooltip": null,
            "layout": "IPY_MODEL_b162e11845f94f55bc21a9de30848eb0",
            "placeholder": "​",
            "style": "IPY_MODEL_6d308e9f22b846539ef90eb710286286",
            "value": " 1.89k/1.89k [00:00&lt;00:00, 137kB/s]"
          }
        },
        "83099ce7e91c4d4db704f6e50c04e849": {
          "model_module": "@jupyter-widgets/base",
          "model_name": "LayoutModel",
          "model_module_version": "1.2.0",
          "state": {
            "_model_module": "@jupyter-widgets/base",
            "_model_module_version": "1.2.0",
            "_model_name": "LayoutModel",
            "_view_count": null,
            "_view_module": "@jupyter-widgets/base",
            "_view_module_version": "1.2.0",
            "_view_name": "LayoutView",
            "align_content": null,
            "align_items": null,
            "align_self": null,
            "border": null,
            "bottom": null,
            "display": null,
            "flex": null,
            "flex_flow": null,
            "grid_area": null,
            "grid_auto_columns": null,
            "grid_auto_flow": null,
            "grid_auto_rows": null,
            "grid_column": null,
            "grid_gap": null,
            "grid_row": null,
            "grid_template_areas": null,
            "grid_template_columns": null,
            "grid_template_rows": null,
            "height": null,
            "justify_content": null,
            "justify_items": null,
            "left": null,
            "margin": null,
            "max_height": null,
            "max_width": null,
            "min_height": null,
            "min_width": null,
            "object_fit": null,
            "object_position": null,
            "order": null,
            "overflow": null,
            "overflow_x": null,
            "overflow_y": null,
            "padding": null,
            "right": null,
            "top": null,
            "visibility": null,
            "width": null
          }
        },
        "d8b78b46660e433fb23f29f05b831f8a": {
          "model_module": "@jupyter-widgets/base",
          "model_name": "LayoutModel",
          "model_module_version": "1.2.0",
          "state": {
            "_model_module": "@jupyter-widgets/base",
            "_model_module_version": "1.2.0",
            "_model_name": "LayoutModel",
            "_view_count": null,
            "_view_module": "@jupyter-widgets/base",
            "_view_module_version": "1.2.0",
            "_view_name": "LayoutView",
            "align_content": null,
            "align_items": null,
            "align_self": null,
            "border": null,
            "bottom": null,
            "display": null,
            "flex": null,
            "flex_flow": null,
            "grid_area": null,
            "grid_auto_columns": null,
            "grid_auto_flow": null,
            "grid_auto_rows": null,
            "grid_column": null,
            "grid_gap": null,
            "grid_row": null,
            "grid_template_areas": null,
            "grid_template_columns": null,
            "grid_template_rows": null,
            "height": null,
            "justify_content": null,
            "justify_items": null,
            "left": null,
            "margin": null,
            "max_height": null,
            "max_width": null,
            "min_height": null,
            "min_width": null,
            "object_fit": null,
            "object_position": null,
            "order": null,
            "overflow": null,
            "overflow_x": null,
            "overflow_y": null,
            "padding": null,
            "right": null,
            "top": null,
            "visibility": null,
            "width": null
          }
        },
        "75386a55d2c44d11bcbd43c35db65748": {
          "model_module": "@jupyter-widgets/controls",
          "model_name": "DescriptionStyleModel",
          "model_module_version": "1.5.0",
          "state": {
            "_model_module": "@jupyter-widgets/controls",
            "_model_module_version": "1.5.0",
            "_model_name": "DescriptionStyleModel",
            "_view_count": null,
            "_view_module": "@jupyter-widgets/base",
            "_view_module_version": "1.2.0",
            "_view_name": "StyleView",
            "description_width": ""
          }
        },
        "82665602910b4f67a21892434877296b": {
          "model_module": "@jupyter-widgets/base",
          "model_name": "LayoutModel",
          "model_module_version": "1.2.0",
          "state": {
            "_model_module": "@jupyter-widgets/base",
            "_model_module_version": "1.2.0",
            "_model_name": "LayoutModel",
            "_view_count": null,
            "_view_module": "@jupyter-widgets/base",
            "_view_module_version": "1.2.0",
            "_view_name": "LayoutView",
            "align_content": null,
            "align_items": null,
            "align_self": null,
            "border": null,
            "bottom": null,
            "display": null,
            "flex": null,
            "flex_flow": null,
            "grid_area": null,
            "grid_auto_columns": null,
            "grid_auto_flow": null,
            "grid_auto_rows": null,
            "grid_column": null,
            "grid_gap": null,
            "grid_row": null,
            "grid_template_areas": null,
            "grid_template_columns": null,
            "grid_template_rows": null,
            "height": null,
            "justify_content": null,
            "justify_items": null,
            "left": null,
            "margin": null,
            "max_height": null,
            "max_width": null,
            "min_height": null,
            "min_width": null,
            "object_fit": null,
            "object_position": null,
            "order": null,
            "overflow": null,
            "overflow_x": null,
            "overflow_y": null,
            "padding": null,
            "right": null,
            "top": null,
            "visibility": null,
            "width": null
          }
        },
        "c5570876e6464e2db1bff3b983172350": {
          "model_module": "@jupyter-widgets/controls",
          "model_name": "ProgressStyleModel",
          "model_module_version": "1.5.0",
          "state": {
            "_model_module": "@jupyter-widgets/controls",
            "_model_module_version": "1.5.0",
            "_model_name": "ProgressStyleModel",
            "_view_count": null,
            "_view_module": "@jupyter-widgets/base",
            "_view_module_version": "1.2.0",
            "_view_name": "StyleView",
            "bar_color": null,
            "description_width": ""
          }
        },
        "b162e11845f94f55bc21a9de30848eb0": {
          "model_module": "@jupyter-widgets/base",
          "model_name": "LayoutModel",
          "model_module_version": "1.2.0",
          "state": {
            "_model_module": "@jupyter-widgets/base",
            "_model_module_version": "1.2.0",
            "_model_name": "LayoutModel",
            "_view_count": null,
            "_view_module": "@jupyter-widgets/base",
            "_view_module_version": "1.2.0",
            "_view_name": "LayoutView",
            "align_content": null,
            "align_items": null,
            "align_self": null,
            "border": null,
            "bottom": null,
            "display": null,
            "flex": null,
            "flex_flow": null,
            "grid_area": null,
            "grid_auto_columns": null,
            "grid_auto_flow": null,
            "grid_auto_rows": null,
            "grid_column": null,
            "grid_gap": null,
            "grid_row": null,
            "grid_template_areas": null,
            "grid_template_columns": null,
            "grid_template_rows": null,
            "height": null,
            "justify_content": null,
            "justify_items": null,
            "left": null,
            "margin": null,
            "max_height": null,
            "max_width": null,
            "min_height": null,
            "min_width": null,
            "object_fit": null,
            "object_position": null,
            "order": null,
            "overflow": null,
            "overflow_x": null,
            "overflow_y": null,
            "padding": null,
            "right": null,
            "top": null,
            "visibility": null,
            "width": null
          }
        },
        "6d308e9f22b846539ef90eb710286286": {
          "model_module": "@jupyter-widgets/controls",
          "model_name": "DescriptionStyleModel",
          "model_module_version": "1.5.0",
          "state": {
            "_model_module": "@jupyter-widgets/controls",
            "_model_module_version": "1.5.0",
            "_model_name": "DescriptionStyleModel",
            "_view_count": null,
            "_view_module": "@jupyter-widgets/base",
            "_view_module_version": "1.2.0",
            "_view_name": "StyleView",
            "description_width": ""
          }
        },
        "34d6945d06894956bf67b4d161bf32a5": {
          "model_module": "@jupyter-widgets/controls",
          "model_name": "HBoxModel",
          "model_module_version": "1.5.0",
          "state": {
            "_dom_classes": [],
            "_model_module": "@jupyter-widgets/controls",
            "_model_module_version": "1.5.0",
            "_model_name": "HBoxModel",
            "_view_count": null,
            "_view_module": "@jupyter-widgets/controls",
            "_view_module_version": "1.5.0",
            "_view_name": "HBoxView",
            "box_style": "",
            "children": [
              "IPY_MODEL_643a391bfb6347d39b231cfedef35a5a",
              "IPY_MODEL_ac2183c0184443afa34d27d2e1f51fc1",
              "IPY_MODEL_acd449084c63422f80b397c95b0f3c29"
            ],
            "layout": "IPY_MODEL_934cdb11d9d34a2d9b2360ee087006f3"
          }
        },
        "643a391bfb6347d39b231cfedef35a5a": {
          "model_module": "@jupyter-widgets/controls",
          "model_name": "HTMLModel",
          "model_module_version": "1.5.0",
          "state": {
            "_dom_classes": [],
            "_model_module": "@jupyter-widgets/controls",
            "_model_module_version": "1.5.0",
            "_model_name": "HTMLModel",
            "_view_count": null,
            "_view_module": "@jupyter-widgets/controls",
            "_view_module_version": "1.5.0",
            "_view_name": "HTMLView",
            "description": "",
            "description_tooltip": null,
            "layout": "IPY_MODEL_0936bf79f2be46f9a143fb536c16bdc5",
            "placeholder": "​",
            "style": "IPY_MODEL_b70edbd566bc4ab88b1ab5492f2a08c5",
            "value": "Downloading (…)lve/main/config.json: 100%"
          }
        },
        "ac2183c0184443afa34d27d2e1f51fc1": {
          "model_module": "@jupyter-widgets/controls",
          "model_name": "FloatProgressModel",
          "model_module_version": "1.5.0",
          "state": {
            "_dom_classes": [],
            "_model_module": "@jupyter-widgets/controls",
            "_model_module_version": "1.5.0",
            "_model_name": "FloatProgressModel",
            "_view_count": null,
            "_view_module": "@jupyter-widgets/controls",
            "_view_module_version": "1.5.0",
            "_view_name": "ProgressView",
            "bar_style": "success",
            "description": "",
            "description_tooltip": null,
            "layout": "IPY_MODEL_59478cc5de354793affe8b1d9c5d9949",
            "max": 1365,
            "min": 0,
            "orientation": "horizontal",
            "style": "IPY_MODEL_576b2fad5d3c4f8399f331fd43d4a1fa",
            "value": 1365
          }
        },
        "acd449084c63422f80b397c95b0f3c29": {
          "model_module": "@jupyter-widgets/controls",
          "model_name": "HTMLModel",
          "model_module_version": "1.5.0",
          "state": {
            "_dom_classes": [],
            "_model_module": "@jupyter-widgets/controls",
            "_model_module_version": "1.5.0",
            "_model_name": "HTMLModel",
            "_view_count": null,
            "_view_module": "@jupyter-widgets/controls",
            "_view_module_version": "1.5.0",
            "_view_name": "HTMLView",
            "description": "",
            "description_tooltip": null,
            "layout": "IPY_MODEL_02d81593b74c4f8fa21c734d3dc31b50",
            "placeholder": "​",
            "style": "IPY_MODEL_cd0907e17a564fd68df27f15e0aedcde",
            "value": " 1.36k/1.36k [00:00&lt;00:00, 97.0kB/s]"
          }
        },
        "934cdb11d9d34a2d9b2360ee087006f3": {
          "model_module": "@jupyter-widgets/base",
          "model_name": "LayoutModel",
          "model_module_version": "1.2.0",
          "state": {
            "_model_module": "@jupyter-widgets/base",
            "_model_module_version": "1.2.0",
            "_model_name": "LayoutModel",
            "_view_count": null,
            "_view_module": "@jupyter-widgets/base",
            "_view_module_version": "1.2.0",
            "_view_name": "LayoutView",
            "align_content": null,
            "align_items": null,
            "align_self": null,
            "border": null,
            "bottom": null,
            "display": null,
            "flex": null,
            "flex_flow": null,
            "grid_area": null,
            "grid_auto_columns": null,
            "grid_auto_flow": null,
            "grid_auto_rows": null,
            "grid_column": null,
            "grid_gap": null,
            "grid_row": null,
            "grid_template_areas": null,
            "grid_template_columns": null,
            "grid_template_rows": null,
            "height": null,
            "justify_content": null,
            "justify_items": null,
            "left": null,
            "margin": null,
            "max_height": null,
            "max_width": null,
            "min_height": null,
            "min_width": null,
            "object_fit": null,
            "object_position": null,
            "order": null,
            "overflow": null,
            "overflow_x": null,
            "overflow_y": null,
            "padding": null,
            "right": null,
            "top": null,
            "visibility": null,
            "width": null
          }
        },
        "0936bf79f2be46f9a143fb536c16bdc5": {
          "model_module": "@jupyter-widgets/base",
          "model_name": "LayoutModel",
          "model_module_version": "1.2.0",
          "state": {
            "_model_module": "@jupyter-widgets/base",
            "_model_module_version": "1.2.0",
            "_model_name": "LayoutModel",
            "_view_count": null,
            "_view_module": "@jupyter-widgets/base",
            "_view_module_version": "1.2.0",
            "_view_name": "LayoutView",
            "align_content": null,
            "align_items": null,
            "align_self": null,
            "border": null,
            "bottom": null,
            "display": null,
            "flex": null,
            "flex_flow": null,
            "grid_area": null,
            "grid_auto_columns": null,
            "grid_auto_flow": null,
            "grid_auto_rows": null,
            "grid_column": null,
            "grid_gap": null,
            "grid_row": null,
            "grid_template_areas": null,
            "grid_template_columns": null,
            "grid_template_rows": null,
            "height": null,
            "justify_content": null,
            "justify_items": null,
            "left": null,
            "margin": null,
            "max_height": null,
            "max_width": null,
            "min_height": null,
            "min_width": null,
            "object_fit": null,
            "object_position": null,
            "order": null,
            "overflow": null,
            "overflow_x": null,
            "overflow_y": null,
            "padding": null,
            "right": null,
            "top": null,
            "visibility": null,
            "width": null
          }
        },
        "b70edbd566bc4ab88b1ab5492f2a08c5": {
          "model_module": "@jupyter-widgets/controls",
          "model_name": "DescriptionStyleModel",
          "model_module_version": "1.5.0",
          "state": {
            "_model_module": "@jupyter-widgets/controls",
            "_model_module_version": "1.5.0",
            "_model_name": "DescriptionStyleModel",
            "_view_count": null,
            "_view_module": "@jupyter-widgets/base",
            "_view_module_version": "1.2.0",
            "_view_name": "StyleView",
            "description_width": ""
          }
        },
        "59478cc5de354793affe8b1d9c5d9949": {
          "model_module": "@jupyter-widgets/base",
          "model_name": "LayoutModel",
          "model_module_version": "1.2.0",
          "state": {
            "_model_module": "@jupyter-widgets/base",
            "_model_module_version": "1.2.0",
            "_model_name": "LayoutModel",
            "_view_count": null,
            "_view_module": "@jupyter-widgets/base",
            "_view_module_version": "1.2.0",
            "_view_name": "LayoutView",
            "align_content": null,
            "align_items": null,
            "align_self": null,
            "border": null,
            "bottom": null,
            "display": null,
            "flex": null,
            "flex_flow": null,
            "grid_area": null,
            "grid_auto_columns": null,
            "grid_auto_flow": null,
            "grid_auto_rows": null,
            "grid_column": null,
            "grid_gap": null,
            "grid_row": null,
            "grid_template_areas": null,
            "grid_template_columns": null,
            "grid_template_rows": null,
            "height": null,
            "justify_content": null,
            "justify_items": null,
            "left": null,
            "margin": null,
            "max_height": null,
            "max_width": null,
            "min_height": null,
            "min_width": null,
            "object_fit": null,
            "object_position": null,
            "order": null,
            "overflow": null,
            "overflow_x": null,
            "overflow_y": null,
            "padding": null,
            "right": null,
            "top": null,
            "visibility": null,
            "width": null
          }
        },
        "576b2fad5d3c4f8399f331fd43d4a1fa": {
          "model_module": "@jupyter-widgets/controls",
          "model_name": "ProgressStyleModel",
          "model_module_version": "1.5.0",
          "state": {
            "_model_module": "@jupyter-widgets/controls",
            "_model_module_version": "1.5.0",
            "_model_name": "ProgressStyleModel",
            "_view_count": null,
            "_view_module": "@jupyter-widgets/base",
            "_view_module_version": "1.2.0",
            "_view_name": "StyleView",
            "bar_color": null,
            "description_width": ""
          }
        },
        "02d81593b74c4f8fa21c734d3dc31b50": {
          "model_module": "@jupyter-widgets/base",
          "model_name": "LayoutModel",
          "model_module_version": "1.2.0",
          "state": {
            "_model_module": "@jupyter-widgets/base",
            "_model_module_version": "1.2.0",
            "_model_name": "LayoutModel",
            "_view_count": null,
            "_view_module": "@jupyter-widgets/base",
            "_view_module_version": "1.2.0",
            "_view_name": "LayoutView",
            "align_content": null,
            "align_items": null,
            "align_self": null,
            "border": null,
            "bottom": null,
            "display": null,
            "flex": null,
            "flex_flow": null,
            "grid_area": null,
            "grid_auto_columns": null,
            "grid_auto_flow": null,
            "grid_auto_rows": null,
            "grid_column": null,
            "grid_gap": null,
            "grid_row": null,
            "grid_template_areas": null,
            "grid_template_columns": null,
            "grid_template_rows": null,
            "height": null,
            "justify_content": null,
            "justify_items": null,
            "left": null,
            "margin": null,
            "max_height": null,
            "max_width": null,
            "min_height": null,
            "min_width": null,
            "object_fit": null,
            "object_position": null,
            "order": null,
            "overflow": null,
            "overflow_x": null,
            "overflow_y": null,
            "padding": null,
            "right": null,
            "top": null,
            "visibility": null,
            "width": null
          }
        },
        "cd0907e17a564fd68df27f15e0aedcde": {
          "model_module": "@jupyter-widgets/controls",
          "model_name": "DescriptionStyleModel",
          "model_module_version": "1.5.0",
          "state": {
            "_model_module": "@jupyter-widgets/controls",
            "_model_module_version": "1.5.0",
            "_model_name": "DescriptionStyleModel",
            "_view_count": null,
            "_view_module": "@jupyter-widgets/base",
            "_view_module_version": "1.2.0",
            "_view_name": "StyleView",
            "description_width": ""
          }
        },
        "0182d3c649c44efbb3538de897e0bcde": {
          "model_module": "@jupyter-widgets/controls",
          "model_name": "HBoxModel",
          "model_module_version": "1.5.0",
          "state": {
            "_dom_classes": [],
            "_model_module": "@jupyter-widgets/controls",
            "_model_module_version": "1.5.0",
            "_model_name": "HBoxModel",
            "_view_count": null,
            "_view_module": "@jupyter-widgets/controls",
            "_view_module_version": "1.5.0",
            "_view_name": "HBoxView",
            "box_style": "",
            "children": [
              "IPY_MODEL_f3df29d6b583413581663df9ddab84bf",
              "IPY_MODEL_81ac21edf0fb4e109405f621c51686d5",
              "IPY_MODEL_c8e316d68045433a9cae25b3161a6f44"
            ],
            "layout": "IPY_MODEL_c8a67a17248a4198afcbd9a00ed50df2"
          }
        },
        "f3df29d6b583413581663df9ddab84bf": {
          "model_module": "@jupyter-widgets/controls",
          "model_name": "HTMLModel",
          "model_module_version": "1.5.0",
          "state": {
            "_dom_classes": [],
            "_model_module": "@jupyter-widgets/controls",
            "_model_module_version": "1.5.0",
            "_model_name": "HTMLModel",
            "_view_count": null,
            "_view_module": "@jupyter-widgets/controls",
            "_view_module_version": "1.5.0",
            "_view_name": "HTMLView",
            "description": "",
            "description_tooltip": null,
            "layout": "IPY_MODEL_49e64406fc784e2a96daecbe96231eea",
            "placeholder": "​",
            "style": "IPY_MODEL_b12d621ae1dc4b42ab7c0bb1244dc485",
            "value": "Downloading spiece.model: 100%"
          }
        },
        "81ac21edf0fb4e109405f621c51686d5": {
          "model_module": "@jupyter-widgets/controls",
          "model_name": "FloatProgressModel",
          "model_module_version": "1.5.0",
          "state": {
            "_dom_classes": [],
            "_model_module": "@jupyter-widgets/controls",
            "_model_module_version": "1.5.0",
            "_model_name": "FloatProgressModel",
            "_view_count": null,
            "_view_module": "@jupyter-widgets/controls",
            "_view_module_version": "1.5.0",
            "_view_name": "ProgressView",
            "bar_style": "success",
            "description": "",
            "description_tooltip": null,
            "layout": "IPY_MODEL_193bb97fcee34830914f7767318843c4",
            "max": 791656,
            "min": 0,
            "orientation": "horizontal",
            "style": "IPY_MODEL_6841acb046c1416380f17c18022b9ef6",
            "value": 791656
          }
        },
        "c8e316d68045433a9cae25b3161a6f44": {
          "model_module": "@jupyter-widgets/controls",
          "model_name": "HTMLModel",
          "model_module_version": "1.5.0",
          "state": {
            "_dom_classes": [],
            "_model_module": "@jupyter-widgets/controls",
            "_model_module_version": "1.5.0",
            "_model_name": "HTMLModel",
            "_view_count": null,
            "_view_module": "@jupyter-widgets/controls",
            "_view_module_version": "1.5.0",
            "_view_name": "HTMLView",
            "description": "",
            "description_tooltip": null,
            "layout": "IPY_MODEL_cb07cafdbea049fab07b3150f124dccf",
            "placeholder": "​",
            "style": "IPY_MODEL_e20b7b76ea5f488cb0d67dd44b02a15c",
            "value": " 792k/792k [00:00&lt;00:00, 35.7MB/s]"
          }
        },
        "c8a67a17248a4198afcbd9a00ed50df2": {
          "model_module": "@jupyter-widgets/base",
          "model_name": "LayoutModel",
          "model_module_version": "1.2.0",
          "state": {
            "_model_module": "@jupyter-widgets/base",
            "_model_module_version": "1.2.0",
            "_model_name": "LayoutModel",
            "_view_count": null,
            "_view_module": "@jupyter-widgets/base",
            "_view_module_version": "1.2.0",
            "_view_name": "LayoutView",
            "align_content": null,
            "align_items": null,
            "align_self": null,
            "border": null,
            "bottom": null,
            "display": null,
            "flex": null,
            "flex_flow": null,
            "grid_area": null,
            "grid_auto_columns": null,
            "grid_auto_flow": null,
            "grid_auto_rows": null,
            "grid_column": null,
            "grid_gap": null,
            "grid_row": null,
            "grid_template_areas": null,
            "grid_template_columns": null,
            "grid_template_rows": null,
            "height": null,
            "justify_content": null,
            "justify_items": null,
            "left": null,
            "margin": null,
            "max_height": null,
            "max_width": null,
            "min_height": null,
            "min_width": null,
            "object_fit": null,
            "object_position": null,
            "order": null,
            "overflow": null,
            "overflow_x": null,
            "overflow_y": null,
            "padding": null,
            "right": null,
            "top": null,
            "visibility": null,
            "width": null
          }
        },
        "49e64406fc784e2a96daecbe96231eea": {
          "model_module": "@jupyter-widgets/base",
          "model_name": "LayoutModel",
          "model_module_version": "1.2.0",
          "state": {
            "_model_module": "@jupyter-widgets/base",
            "_model_module_version": "1.2.0",
            "_model_name": "LayoutModel",
            "_view_count": null,
            "_view_module": "@jupyter-widgets/base",
            "_view_module_version": "1.2.0",
            "_view_name": "LayoutView",
            "align_content": null,
            "align_items": null,
            "align_self": null,
            "border": null,
            "bottom": null,
            "display": null,
            "flex": null,
            "flex_flow": null,
            "grid_area": null,
            "grid_auto_columns": null,
            "grid_auto_flow": null,
            "grid_auto_rows": null,
            "grid_column": null,
            "grid_gap": null,
            "grid_row": null,
            "grid_template_areas": null,
            "grid_template_columns": null,
            "grid_template_rows": null,
            "height": null,
            "justify_content": null,
            "justify_items": null,
            "left": null,
            "margin": null,
            "max_height": null,
            "max_width": null,
            "min_height": null,
            "min_width": null,
            "object_fit": null,
            "object_position": null,
            "order": null,
            "overflow": null,
            "overflow_x": null,
            "overflow_y": null,
            "padding": null,
            "right": null,
            "top": null,
            "visibility": null,
            "width": null
          }
        },
        "b12d621ae1dc4b42ab7c0bb1244dc485": {
          "model_module": "@jupyter-widgets/controls",
          "model_name": "DescriptionStyleModel",
          "model_module_version": "1.5.0",
          "state": {
            "_model_module": "@jupyter-widgets/controls",
            "_model_module_version": "1.5.0",
            "_model_name": "DescriptionStyleModel",
            "_view_count": null,
            "_view_module": "@jupyter-widgets/base",
            "_view_module_version": "1.2.0",
            "_view_name": "StyleView",
            "description_width": ""
          }
        },
        "193bb97fcee34830914f7767318843c4": {
          "model_module": "@jupyter-widgets/base",
          "model_name": "LayoutModel",
          "model_module_version": "1.2.0",
          "state": {
            "_model_module": "@jupyter-widgets/base",
            "_model_module_version": "1.2.0",
            "_model_name": "LayoutModel",
            "_view_count": null,
            "_view_module": "@jupyter-widgets/base",
            "_view_module_version": "1.2.0",
            "_view_name": "LayoutView",
            "align_content": null,
            "align_items": null,
            "align_self": null,
            "border": null,
            "bottom": null,
            "display": null,
            "flex": null,
            "flex_flow": null,
            "grid_area": null,
            "grid_auto_columns": null,
            "grid_auto_flow": null,
            "grid_auto_rows": null,
            "grid_column": null,
            "grid_gap": null,
            "grid_row": null,
            "grid_template_areas": null,
            "grid_template_columns": null,
            "grid_template_rows": null,
            "height": null,
            "justify_content": null,
            "justify_items": null,
            "left": null,
            "margin": null,
            "max_height": null,
            "max_width": null,
            "min_height": null,
            "min_width": null,
            "object_fit": null,
            "object_position": null,
            "order": null,
            "overflow": null,
            "overflow_x": null,
            "overflow_y": null,
            "padding": null,
            "right": null,
            "top": null,
            "visibility": null,
            "width": null
          }
        },
        "6841acb046c1416380f17c18022b9ef6": {
          "model_module": "@jupyter-widgets/controls",
          "model_name": "ProgressStyleModel",
          "model_module_version": "1.5.0",
          "state": {
            "_model_module": "@jupyter-widgets/controls",
            "_model_module_version": "1.5.0",
            "_model_name": "ProgressStyleModel",
            "_view_count": null,
            "_view_module": "@jupyter-widgets/base",
            "_view_module_version": "1.2.0",
            "_view_name": "StyleView",
            "bar_color": null,
            "description_width": ""
          }
        },
        "cb07cafdbea049fab07b3150f124dccf": {
          "model_module": "@jupyter-widgets/base",
          "model_name": "LayoutModel",
          "model_module_version": "1.2.0",
          "state": {
            "_model_module": "@jupyter-widgets/base",
            "_model_module_version": "1.2.0",
            "_model_name": "LayoutModel",
            "_view_count": null,
            "_view_module": "@jupyter-widgets/base",
            "_view_module_version": "1.2.0",
            "_view_name": "LayoutView",
            "align_content": null,
            "align_items": null,
            "align_self": null,
            "border": null,
            "bottom": null,
            "display": null,
            "flex": null,
            "flex_flow": null,
            "grid_area": null,
            "grid_auto_columns": null,
            "grid_auto_flow": null,
            "grid_auto_rows": null,
            "grid_column": null,
            "grid_gap": null,
            "grid_row": null,
            "grid_template_areas": null,
            "grid_template_columns": null,
            "grid_template_rows": null,
            "height": null,
            "justify_content": null,
            "justify_items": null,
            "left": null,
            "margin": null,
            "max_height": null,
            "max_width": null,
            "min_height": null,
            "min_width": null,
            "object_fit": null,
            "object_position": null,
            "order": null,
            "overflow": null,
            "overflow_x": null,
            "overflow_y": null,
            "padding": null,
            "right": null,
            "top": null,
            "visibility": null,
            "width": null
          }
        },
        "e20b7b76ea5f488cb0d67dd44b02a15c": {
          "model_module": "@jupyter-widgets/controls",
          "model_name": "DescriptionStyleModel",
          "model_module_version": "1.5.0",
          "state": {
            "_model_module": "@jupyter-widgets/controls",
            "_model_module_version": "1.5.0",
            "_model_name": "DescriptionStyleModel",
            "_view_count": null,
            "_view_module": "@jupyter-widgets/base",
            "_view_module_version": "1.2.0",
            "_view_name": "StyleView",
            "description_width": ""
          }
        },
        "4d18c2474e6548dbbaf83124295539e8": {
          "model_module": "@jupyter-widgets/controls",
          "model_name": "HBoxModel",
          "model_module_version": "1.5.0",
          "state": {
            "_dom_classes": [],
            "_model_module": "@jupyter-widgets/controls",
            "_model_module_version": "1.5.0",
            "_model_name": "HBoxModel",
            "_view_count": null,
            "_view_module": "@jupyter-widgets/controls",
            "_view_module_version": "1.5.0",
            "_view_name": "HBoxView",
            "box_style": "",
            "children": [
              "IPY_MODEL_258744a77da94066a340223aef44eaa8",
              "IPY_MODEL_dc0d9ac82cdb4cc2be3eb26bec85b9fb",
              "IPY_MODEL_2cdaa9dc49d4469b98ee402a2ecf529b"
            ],
            "layout": "IPY_MODEL_75bb8b05cd7f4819a6d379eb279e577b"
          }
        },
        "258744a77da94066a340223aef44eaa8": {
          "model_module": "@jupyter-widgets/controls",
          "model_name": "HTMLModel",
          "model_module_version": "1.5.0",
          "state": {
            "_dom_classes": [],
            "_model_module": "@jupyter-widgets/controls",
            "_model_module_version": "1.5.0",
            "_model_name": "HTMLModel",
            "_view_count": null,
            "_view_module": "@jupyter-widgets/controls",
            "_view_module_version": "1.5.0",
            "_view_name": "HTMLView",
            "description": "",
            "description_tooltip": null,
            "layout": "IPY_MODEL_1c656391bcdc492faeaba16a016d44cf",
            "placeholder": "​",
            "style": "IPY_MODEL_209335b2c18740158ca695afa8e49f28",
            "value": "Downloading (…)cial_tokens_map.json: 100%"
          }
        },
        "dc0d9ac82cdb4cc2be3eb26bec85b9fb": {
          "model_module": "@jupyter-widgets/controls",
          "model_name": "FloatProgressModel",
          "model_module_version": "1.5.0",
          "state": {
            "_dom_classes": [],
            "_model_module": "@jupyter-widgets/controls",
            "_model_module_version": "1.5.0",
            "_model_name": "FloatProgressModel",
            "_view_count": null,
            "_view_module": "@jupyter-widgets/controls",
            "_view_module_version": "1.5.0",
            "_view_name": "ProgressView",
            "bar_style": "success",
            "description": "",
            "description_tooltip": null,
            "layout": "IPY_MODEL_f731b8581b25449b924b4fdc8bca71c8",
            "max": 1786,
            "min": 0,
            "orientation": "horizontal",
            "style": "IPY_MODEL_c09625c01d354033b2a59ae60e0c2420",
            "value": 1786
          }
        },
        "2cdaa9dc49d4469b98ee402a2ecf529b": {
          "model_module": "@jupyter-widgets/controls",
          "model_name": "HTMLModel",
          "model_module_version": "1.5.0",
          "state": {
            "_dom_classes": [],
            "_model_module": "@jupyter-widgets/controls",
            "_model_module_version": "1.5.0",
            "_model_name": "HTMLModel",
            "_view_count": null,
            "_view_module": "@jupyter-widgets/controls",
            "_view_module_version": "1.5.0",
            "_view_name": "HTMLView",
            "description": "",
            "description_tooltip": null,
            "layout": "IPY_MODEL_a8e659d9f1ff4912a2ed55d64abb35f6",
            "placeholder": "​",
            "style": "IPY_MODEL_af2631c21cbf450b90bee1752b294e13",
            "value": " 1.79k/1.79k [00:00&lt;00:00, 151kB/s]"
          }
        },
        "75bb8b05cd7f4819a6d379eb279e577b": {
          "model_module": "@jupyter-widgets/base",
          "model_name": "LayoutModel",
          "model_module_version": "1.2.0",
          "state": {
            "_model_module": "@jupyter-widgets/base",
            "_model_module_version": "1.2.0",
            "_model_name": "LayoutModel",
            "_view_count": null,
            "_view_module": "@jupyter-widgets/base",
            "_view_module_version": "1.2.0",
            "_view_name": "LayoutView",
            "align_content": null,
            "align_items": null,
            "align_self": null,
            "border": null,
            "bottom": null,
            "display": null,
            "flex": null,
            "flex_flow": null,
            "grid_area": null,
            "grid_auto_columns": null,
            "grid_auto_flow": null,
            "grid_auto_rows": null,
            "grid_column": null,
            "grid_gap": null,
            "grid_row": null,
            "grid_template_areas": null,
            "grid_template_columns": null,
            "grid_template_rows": null,
            "height": null,
            "justify_content": null,
            "justify_items": null,
            "left": null,
            "margin": null,
            "max_height": null,
            "max_width": null,
            "min_height": null,
            "min_width": null,
            "object_fit": null,
            "object_position": null,
            "order": null,
            "overflow": null,
            "overflow_x": null,
            "overflow_y": null,
            "padding": null,
            "right": null,
            "top": null,
            "visibility": null,
            "width": null
          }
        },
        "1c656391bcdc492faeaba16a016d44cf": {
          "model_module": "@jupyter-widgets/base",
          "model_name": "LayoutModel",
          "model_module_version": "1.2.0",
          "state": {
            "_model_module": "@jupyter-widgets/base",
            "_model_module_version": "1.2.0",
            "_model_name": "LayoutModel",
            "_view_count": null,
            "_view_module": "@jupyter-widgets/base",
            "_view_module_version": "1.2.0",
            "_view_name": "LayoutView",
            "align_content": null,
            "align_items": null,
            "align_self": null,
            "border": null,
            "bottom": null,
            "display": null,
            "flex": null,
            "flex_flow": null,
            "grid_area": null,
            "grid_auto_columns": null,
            "grid_auto_flow": null,
            "grid_auto_rows": null,
            "grid_column": null,
            "grid_gap": null,
            "grid_row": null,
            "grid_template_areas": null,
            "grid_template_columns": null,
            "grid_template_rows": null,
            "height": null,
            "justify_content": null,
            "justify_items": null,
            "left": null,
            "margin": null,
            "max_height": null,
            "max_width": null,
            "min_height": null,
            "min_width": null,
            "object_fit": null,
            "object_position": null,
            "order": null,
            "overflow": null,
            "overflow_x": null,
            "overflow_y": null,
            "padding": null,
            "right": null,
            "top": null,
            "visibility": null,
            "width": null
          }
        },
        "209335b2c18740158ca695afa8e49f28": {
          "model_module": "@jupyter-widgets/controls",
          "model_name": "DescriptionStyleModel",
          "model_module_version": "1.5.0",
          "state": {
            "_model_module": "@jupyter-widgets/controls",
            "_model_module_version": "1.5.0",
            "_model_name": "DescriptionStyleModel",
            "_view_count": null,
            "_view_module": "@jupyter-widgets/base",
            "_view_module_version": "1.2.0",
            "_view_name": "StyleView",
            "description_width": ""
          }
        },
        "f731b8581b25449b924b4fdc8bca71c8": {
          "model_module": "@jupyter-widgets/base",
          "model_name": "LayoutModel",
          "model_module_version": "1.2.0",
          "state": {
            "_model_module": "@jupyter-widgets/base",
            "_model_module_version": "1.2.0",
            "_model_name": "LayoutModel",
            "_view_count": null,
            "_view_module": "@jupyter-widgets/base",
            "_view_module_version": "1.2.0",
            "_view_name": "LayoutView",
            "align_content": null,
            "align_items": null,
            "align_self": null,
            "border": null,
            "bottom": null,
            "display": null,
            "flex": null,
            "flex_flow": null,
            "grid_area": null,
            "grid_auto_columns": null,
            "grid_auto_flow": null,
            "grid_auto_rows": null,
            "grid_column": null,
            "grid_gap": null,
            "grid_row": null,
            "grid_template_areas": null,
            "grid_template_columns": null,
            "grid_template_rows": null,
            "height": null,
            "justify_content": null,
            "justify_items": null,
            "left": null,
            "margin": null,
            "max_height": null,
            "max_width": null,
            "min_height": null,
            "min_width": null,
            "object_fit": null,
            "object_position": null,
            "order": null,
            "overflow": null,
            "overflow_x": null,
            "overflow_y": null,
            "padding": null,
            "right": null,
            "top": null,
            "visibility": null,
            "width": null
          }
        },
        "c09625c01d354033b2a59ae60e0c2420": {
          "model_module": "@jupyter-widgets/controls",
          "model_name": "ProgressStyleModel",
          "model_module_version": "1.5.0",
          "state": {
            "_model_module": "@jupyter-widgets/controls",
            "_model_module_version": "1.5.0",
            "_model_name": "ProgressStyleModel",
            "_view_count": null,
            "_view_module": "@jupyter-widgets/base",
            "_view_module_version": "1.2.0",
            "_view_name": "StyleView",
            "bar_color": null,
            "description_width": ""
          }
        },
        "a8e659d9f1ff4912a2ed55d64abb35f6": {
          "model_module": "@jupyter-widgets/base",
          "model_name": "LayoutModel",
          "model_module_version": "1.2.0",
          "state": {
            "_model_module": "@jupyter-widgets/base",
            "_model_module_version": "1.2.0",
            "_model_name": "LayoutModel",
            "_view_count": null,
            "_view_module": "@jupyter-widgets/base",
            "_view_module_version": "1.2.0",
            "_view_name": "LayoutView",
            "align_content": null,
            "align_items": null,
            "align_self": null,
            "border": null,
            "bottom": null,
            "display": null,
            "flex": null,
            "flex_flow": null,
            "grid_area": null,
            "grid_auto_columns": null,
            "grid_auto_flow": null,
            "grid_auto_rows": null,
            "grid_column": null,
            "grid_gap": null,
            "grid_row": null,
            "grid_template_areas": null,
            "grid_template_columns": null,
            "grid_template_rows": null,
            "height": null,
            "justify_content": null,
            "justify_items": null,
            "left": null,
            "margin": null,
            "max_height": null,
            "max_width": null,
            "min_height": null,
            "min_width": null,
            "object_fit": null,
            "object_position": null,
            "order": null,
            "overflow": null,
            "overflow_x": null,
            "overflow_y": null,
            "padding": null,
            "right": null,
            "top": null,
            "visibility": null,
            "width": null
          }
        },
        "af2631c21cbf450b90bee1752b294e13": {
          "model_module": "@jupyter-widgets/controls",
          "model_name": "DescriptionStyleModel",
          "model_module_version": "1.5.0",
          "state": {
            "_model_module": "@jupyter-widgets/controls",
            "_model_module_version": "1.5.0",
            "_model_name": "DescriptionStyleModel",
            "_view_count": null,
            "_view_module": "@jupyter-widgets/base",
            "_view_module_version": "1.2.0",
            "_view_name": "StyleView",
            "description_width": ""
          }
        },
        "2fdba530df5d4b97b0e646a501eca96d": {
          "model_module": "@jupyter-widgets/controls",
          "model_name": "HBoxModel",
          "model_module_version": "1.5.0",
          "state": {
            "_dom_classes": [],
            "_model_module": "@jupyter-widgets/controls",
            "_model_module_version": "1.5.0",
            "_model_name": "HBoxModel",
            "_view_count": null,
            "_view_module": "@jupyter-widgets/controls",
            "_view_module_version": "1.5.0",
            "_view_name": "HBoxView",
            "box_style": "",
            "children": [
              "IPY_MODEL_e542778e5c774341a6c1ee52ede0e085",
              "IPY_MODEL_9ad397f33075434c9194e919db929d4f",
              "IPY_MODEL_a235f64a013140c2ae840159bb0e3713"
            ],
            "layout": "IPY_MODEL_8b0b6a886f5f4b1f99e7a84dae6fd8f4"
          }
        },
        "e542778e5c774341a6c1ee52ede0e085": {
          "model_module": "@jupyter-widgets/controls",
          "model_name": "HTMLModel",
          "model_module_version": "1.5.0",
          "state": {
            "_dom_classes": [],
            "_model_module": "@jupyter-widgets/controls",
            "_model_module_version": "1.5.0",
            "_model_name": "HTMLModel",
            "_view_count": null,
            "_view_module": "@jupyter-widgets/controls",
            "_view_module_version": "1.5.0",
            "_view_name": "HTMLView",
            "description": "",
            "description_tooltip": null,
            "layout": "IPY_MODEL_3b151b40839c4926a78133155b07327c",
            "placeholder": "​",
            "style": "IPY_MODEL_b6b2760ae0254e13837252bbda820c43",
            "value": "Downloading pytorch_model.bin: 100%"
          }
        },
        "9ad397f33075434c9194e919db929d4f": {
          "model_module": "@jupyter-widgets/controls",
          "model_name": "FloatProgressModel",
          "model_module_version": "1.5.0",
          "state": {
            "_dom_classes": [],
            "_model_module": "@jupyter-widgets/controls",
            "_model_module_version": "1.5.0",
            "_model_name": "FloatProgressModel",
            "_view_count": null,
            "_view_module": "@jupyter-widgets/controls",
            "_view_module_version": "1.5.0",
            "_view_name": "ProgressView",
            "bar_style": "success",
            "description": "",
            "description_tooltip": null,
            "layout": "IPY_MODEL_b1ab032bc822432fae33381e28c5b909",
            "max": 2950910673,
            "min": 0,
            "orientation": "horizontal",
            "style": "IPY_MODEL_cd8165e8b0234e05b6bb722ee44367c7",
            "value": 2950910673
          }
        },
        "a235f64a013140c2ae840159bb0e3713": {
          "model_module": "@jupyter-widgets/controls",
          "model_name": "HTMLModel",
          "model_module_version": "1.5.0",
          "state": {
            "_dom_classes": [],
            "_model_module": "@jupyter-widgets/controls",
            "_model_module_version": "1.5.0",
            "_model_name": "HTMLModel",
            "_view_count": null,
            "_view_module": "@jupyter-widgets/controls",
            "_view_module_version": "1.5.0",
            "_view_name": "HTMLView",
            "description": "",
            "description_tooltip": null,
            "layout": "IPY_MODEL_bc66341e62614996900935d0bad9aeec",
            "placeholder": "​",
            "style": "IPY_MODEL_ff6e00724f5b4da78999bf212f0ac761",
            "value": " 2.95G/2.95G [03:09&lt;00:00, 8.39MB/s]"
          }
        },
        "8b0b6a886f5f4b1f99e7a84dae6fd8f4": {
          "model_module": "@jupyter-widgets/base",
          "model_name": "LayoutModel",
          "model_module_version": "1.2.0",
          "state": {
            "_model_module": "@jupyter-widgets/base",
            "_model_module_version": "1.2.0",
            "_model_name": "LayoutModel",
            "_view_count": null,
            "_view_module": "@jupyter-widgets/base",
            "_view_module_version": "1.2.0",
            "_view_name": "LayoutView",
            "align_content": null,
            "align_items": null,
            "align_self": null,
            "border": null,
            "bottom": null,
            "display": null,
            "flex": null,
            "flex_flow": null,
            "grid_area": null,
            "grid_auto_columns": null,
            "grid_auto_flow": null,
            "grid_auto_rows": null,
            "grid_column": null,
            "grid_gap": null,
            "grid_row": null,
            "grid_template_areas": null,
            "grid_template_columns": null,
            "grid_template_rows": null,
            "height": null,
            "justify_content": null,
            "justify_items": null,
            "left": null,
            "margin": null,
            "max_height": null,
            "max_width": null,
            "min_height": null,
            "min_width": null,
            "object_fit": null,
            "object_position": null,
            "order": null,
            "overflow": null,
            "overflow_x": null,
            "overflow_y": null,
            "padding": null,
            "right": null,
            "top": null,
            "visibility": null,
            "width": null
          }
        },
        "3b151b40839c4926a78133155b07327c": {
          "model_module": "@jupyter-widgets/base",
          "model_name": "LayoutModel",
          "model_module_version": "1.2.0",
          "state": {
            "_model_module": "@jupyter-widgets/base",
            "_model_module_version": "1.2.0",
            "_model_name": "LayoutModel",
            "_view_count": null,
            "_view_module": "@jupyter-widgets/base",
            "_view_module_version": "1.2.0",
            "_view_name": "LayoutView",
            "align_content": null,
            "align_items": null,
            "align_self": null,
            "border": null,
            "bottom": null,
            "display": null,
            "flex": null,
            "flex_flow": null,
            "grid_area": null,
            "grid_auto_columns": null,
            "grid_auto_flow": null,
            "grid_auto_rows": null,
            "grid_column": null,
            "grid_gap": null,
            "grid_row": null,
            "grid_template_areas": null,
            "grid_template_columns": null,
            "grid_template_rows": null,
            "height": null,
            "justify_content": null,
            "justify_items": null,
            "left": null,
            "margin": null,
            "max_height": null,
            "max_width": null,
            "min_height": null,
            "min_width": null,
            "object_fit": null,
            "object_position": null,
            "order": null,
            "overflow": null,
            "overflow_x": null,
            "overflow_y": null,
            "padding": null,
            "right": null,
            "top": null,
            "visibility": null,
            "width": null
          }
        },
        "b6b2760ae0254e13837252bbda820c43": {
          "model_module": "@jupyter-widgets/controls",
          "model_name": "DescriptionStyleModel",
          "model_module_version": "1.5.0",
          "state": {
            "_model_module": "@jupyter-widgets/controls",
            "_model_module_version": "1.5.0",
            "_model_name": "DescriptionStyleModel",
            "_view_count": null,
            "_view_module": "@jupyter-widgets/base",
            "_view_module_version": "1.2.0",
            "_view_name": "StyleView",
            "description_width": ""
          }
        },
        "b1ab032bc822432fae33381e28c5b909": {
          "model_module": "@jupyter-widgets/base",
          "model_name": "LayoutModel",
          "model_module_version": "1.2.0",
          "state": {
            "_model_module": "@jupyter-widgets/base",
            "_model_module_version": "1.2.0",
            "_model_name": "LayoutModel",
            "_view_count": null,
            "_view_module": "@jupyter-widgets/base",
            "_view_module_version": "1.2.0",
            "_view_name": "LayoutView",
            "align_content": null,
            "align_items": null,
            "align_self": null,
            "border": null,
            "bottom": null,
            "display": null,
            "flex": null,
            "flex_flow": null,
            "grid_area": null,
            "grid_auto_columns": null,
            "grid_auto_flow": null,
            "grid_auto_rows": null,
            "grid_column": null,
            "grid_gap": null,
            "grid_row": null,
            "grid_template_areas": null,
            "grid_template_columns": null,
            "grid_template_rows": null,
            "height": null,
            "justify_content": null,
            "justify_items": null,
            "left": null,
            "margin": null,
            "max_height": null,
            "max_width": null,
            "min_height": null,
            "min_width": null,
            "object_fit": null,
            "object_position": null,
            "order": null,
            "overflow": null,
            "overflow_x": null,
            "overflow_y": null,
            "padding": null,
            "right": null,
            "top": null,
            "visibility": null,
            "width": null
          }
        },
        "cd8165e8b0234e05b6bb722ee44367c7": {
          "model_module": "@jupyter-widgets/controls",
          "model_name": "ProgressStyleModel",
          "model_module_version": "1.5.0",
          "state": {
            "_model_module": "@jupyter-widgets/controls",
            "_model_module_version": "1.5.0",
            "_model_name": "ProgressStyleModel",
            "_view_count": null,
            "_view_module": "@jupyter-widgets/base",
            "_view_module_version": "1.2.0",
            "_view_name": "StyleView",
            "bar_color": null,
            "description_width": ""
          }
        },
        "bc66341e62614996900935d0bad9aeec": {
          "model_module": "@jupyter-widgets/base",
          "model_name": "LayoutModel",
          "model_module_version": "1.2.0",
          "state": {
            "_model_module": "@jupyter-widgets/base",
            "_model_module_version": "1.2.0",
            "_model_name": "LayoutModel",
            "_view_count": null,
            "_view_module": "@jupyter-widgets/base",
            "_view_module_version": "1.2.0",
            "_view_name": "LayoutView",
            "align_content": null,
            "align_items": null,
            "align_self": null,
            "border": null,
            "bottom": null,
            "display": null,
            "flex": null,
            "flex_flow": null,
            "grid_area": null,
            "grid_auto_columns": null,
            "grid_auto_flow": null,
            "grid_auto_rows": null,
            "grid_column": null,
            "grid_gap": null,
            "grid_row": null,
            "grid_template_areas": null,
            "grid_template_columns": null,
            "grid_template_rows": null,
            "height": null,
            "justify_content": null,
            "justify_items": null,
            "left": null,
            "margin": null,
            "max_height": null,
            "max_width": null,
            "min_height": null,
            "min_width": null,
            "object_fit": null,
            "object_position": null,
            "order": null,
            "overflow": null,
            "overflow_x": null,
            "overflow_y": null,
            "padding": null,
            "right": null,
            "top": null,
            "visibility": null,
            "width": null
          }
        },
        "ff6e00724f5b4da78999bf212f0ac761": {
          "model_module": "@jupyter-widgets/controls",
          "model_name": "DescriptionStyleModel",
          "model_module_version": "1.5.0",
          "state": {
            "_model_module": "@jupyter-widgets/controls",
            "_model_module_version": "1.5.0",
            "_model_name": "DescriptionStyleModel",
            "_view_count": null,
            "_view_module": "@jupyter-widgets/base",
            "_view_module_version": "1.2.0",
            "_view_name": "StyleView",
            "description_width": ""
          }
        }
      }
    }
  },
  "cells": [
    {
      "cell_type": "markdown",
      "metadata": {
        "id": "view-in-github",
        "colab_type": "text"
      },
      "source": [
        "<a href=\"https://colab.research.google.com/github/thiagolaitz/IA368-search-engines/blob/main/Project%2009/multidocqa.ipynb\" target=\"_parent\"><img src=\"https://colab.research.google.com/assets/colab-badge.svg\" alt=\"Open In Colab\"/></a>"
      ]
    },
    {
      "cell_type": "markdown",
      "source": [
        "# Introduction - Multi-document QA\n",
        "\n",
        "This Colab notebook presents a comprehensive approach to building a multi-document question answering (QA) pipeline and evaluating its performance on IIRC. The pipeline encompasses various natural language processing techniques, including document retrieval (using BM25 + Monot5 ranking), question decomposition, evidence reasoning and answer aggregation. By leveraging the power of deep learning models and state-of-the-art language understanding, this notebook aims to provide a practical and robust solution for extracting relevant information from multiple sources and generating concise answers to user queries in real-world scenarios."
      ],
      "metadata": {
        "id": "H62E1wq7ruJJ"
      }
    },
    {
      "cell_type": "code",
      "source": [
        "!pip install beautifulsoup4 -q"
      ],
      "metadata": {
        "id": "9YyFKFFce1xt"
      },
      "execution_count": 1,
      "outputs": []
    },
    {
      "cell_type": "code",
      "source": [
        "!pip install pyserini -q\n",
        "!pip install faiss-cpu==1.7.2 -q"
      ],
      "metadata": {
        "colab": {
          "base_uri": "https://localhost:8080/"
        },
        "id": "-LWAFHxmoKPK",
        "outputId": "0d18c9e2-4072-4d65-828f-485282e2d57b"
      },
      "execution_count": 2,
      "outputs": [
        {
          "output_type": "stream",
          "name": "stdout",
          "text": [
            "\u001b[2K     \u001b[90m━━━━━━━━━━━━━━━━━━━━━━━━━━━━━━━━━━━━━━━\u001b[0m \u001b[32m154.1/154.1 MB\u001b[0m \u001b[31m6.2 MB/s\u001b[0m eta \u001b[36m0:00:00\u001b[0m\n",
            "\u001b[2K     \u001b[90m━━━━━━━━━━━━━━━━━━━━━━━━━━━━━━━━━━━━━━━━\u001b[0m \u001b[32m1.4/1.4 MB\u001b[0m \u001b[31m85.9 MB/s\u001b[0m eta \u001b[36m0:00:00\u001b[0m\n",
            "\u001b[2K     \u001b[90m━━━━━━━━━━━━━━━━━━━━━━━━━━━━━━━━━━━━━━━━\u001b[0m \u001b[32m7.1/7.1 MB\u001b[0m \u001b[31m101.1 MB/s\u001b[0m eta \u001b[36m0:00:00\u001b[0m\n",
            "\u001b[2K     \u001b[90m━━━━━━━━━━━━━━━━━━━━━━━━━━━━━━━━━━━━━━━━\u001b[0m \u001b[32m1.3/1.3 MB\u001b[0m \u001b[31m72.7 MB/s\u001b[0m eta \u001b[36m0:00:00\u001b[0m\n",
            "\u001b[2K     \u001b[90m━━━━━━━━━━━━━━━━━━━━━━━━━━━━━━━━━━━━━━\u001b[0m \u001b[32m188.7/188.7 kB\u001b[0m \u001b[31m20.3 MB/s\u001b[0m eta \u001b[36m0:00:00\u001b[0m\n",
            "\u001b[?25h  Preparing metadata (setup.py) ... \u001b[?25l\u001b[?25hdone\n",
            "\u001b[2K     \u001b[90m━━━━━━━━━━━━━━━━━━━━━━━━━━━━━━━━━━━━━━━━\u001b[0m \u001b[32m5.0/5.0 MB\u001b[0m \u001b[31m123.1 MB/s\u001b[0m eta \u001b[36m0:00:00\u001b[0m\n",
            "\u001b[2K     \u001b[90m━━━━━━━━━━━━━━━━━━━━━━━━━━━━━━━━━━━━━━━━\u001b[0m \u001b[32m46.0/46.0 kB\u001b[0m \u001b[31m6.2 MB/s\u001b[0m eta \u001b[36m0:00:00\u001b[0m\n",
            "\u001b[2K     \u001b[90m━━━━━━━━━━━━━━━━━━━━━━━━━━━━━━━━━━━━━━\u001b[0m \u001b[32m224.5/224.5 kB\u001b[0m \u001b[31m25.3 MB/s\u001b[0m eta \u001b[36m0:00:00\u001b[0m\n",
            "\u001b[2K     \u001b[90m━━━━━━━━━━━━━━━━━━━━━━━━━━━━━━━━━━━━━━━━\u001b[0m \u001b[32m7.8/7.8 MB\u001b[0m \u001b[31m125.4 MB/s\u001b[0m eta \u001b[36m0:00:00\u001b[0m\n",
            "\u001b[2K     \u001b[90m━━━━━━━━━━━━━━━━━━━━━━━━━━━━━━━━━━━━━━━━\u001b[0m \u001b[32m86.8/86.8 kB\u001b[0m \u001b[31m11.6 MB/s\u001b[0m eta \u001b[36m0:00:00\u001b[0m\n",
            "\u001b[?25h  Building wheel for nmslib (setup.py) ... \u001b[?25l\u001b[?25hdone\n",
            "\u001b[2K     \u001b[90m━━━━━━━━━━━━━━━━━━━━━━━━━━━━━━━━━━━━━━━━\u001b[0m \u001b[32m8.6/8.6 MB\u001b[0m \u001b[31m109.1 MB/s\u001b[0m eta \u001b[36m0:00:00\u001b[0m\n",
            "\u001b[?25h"
          ]
        }
      ]
    },
    {
      "cell_type": "code",
      "source": [
        "!pip install accelerate"
      ],
      "metadata": {
        "id": "3Zx8jTDRH3Vd"
      },
      "execution_count": null,
      "outputs": []
    },
    {
      "cell_type": "markdown",
      "source": [
        "# IIRC"
      ],
      "metadata": {
        "id": "f20_q5vV3vsz"
      }
    },
    {
      "cell_type": "code",
      "execution_count": 3,
      "metadata": {
        "id": "pAZLy_dmwE8B"
      },
      "outputs": [],
      "source": [
        "!wget https://iirc-dataset.s3.us-west-2.amazonaws.com/context_articles.tar.gz -q \n",
        "!wget https://iirc-dataset.s3.us-west-2.amazonaws.com/iirc_test.json -q"
      ]
    },
    {
      "cell_type": "code",
      "source": [
        "!tar -xf context_articles.tar.gz"
      ],
      "metadata": {
        "id": "9Xmi6FCC3Y3j"
      },
      "execution_count": 4,
      "outputs": []
    },
    {
      "cell_type": "markdown",
      "source": [
        "## Data Preprocessing"
      ],
      "metadata": {
        "id": "kICT_452n_tc"
      }
    },
    {
      "cell_type": "code",
      "source": [
        "import json\n",
        "\n",
        "dev_data = json.load(open(\"/content/iirc_test.json\", \"r\"))\n",
        "context_articles = json.load(open(\"/content/context_articles.json\", \"r\"))"
      ],
      "metadata": {
        "id": "EaJq0qYc8hL3"
      },
      "execution_count": 5,
      "outputs": []
    },
    {
      "cell_type": "code",
      "source": [
        "from bs4 import BeautifulSoup\n",
        "\n",
        "# Adapted from Visconde: https://github.com/neuralmind-ai/visconde\n",
        "documents = []\n",
        "all_titles = []\n",
        "\n",
        "# Gets content and title of passages\n",
        "# Filters HTML tags using beautifulSoup\n",
        "for item in dev_data:\n",
        "    if item['title'].lower() not in all_titles:\n",
        "        documents.append({\n",
        "                \"title\": BeautifulSoup(item['title'], 'html.parser').get_text().strip().lower(),\n",
        "                \"contents\": BeautifulSoup(item[\"text\"], 'html.parser').get_text().strip().lower()\n",
        "            }\n",
        "        )\n",
        "        all_titles.append(BeautifulSoup(item[\"title\"], 'html.parser').get_text().strip().lower())\n",
        "    # Get content from related links\n",
        "    for link in item[\"links\"]:\n",
        "        if link['target'].lower() in context_articles and link['target'].lower() not in all_titles:\n",
        "            documents.append({\n",
        "                \"title\": BeautifulSoup(link['target'], 'html.parser').get_text().strip().lower(),\n",
        "                \"contents\": BeautifulSoup(context_articles[link['target'].lower()], 'html.parser').get_text().strip().lower()\n",
        "            })\n",
        "            all_titles.append(BeautifulSoup(link['target'], 'html.parser').get_text().strip().lower())"
      ],
      "metadata": {
        "id": "UacDoiuZZtYk"
      },
      "execution_count": null,
      "outputs": []
    },
    {
      "cell_type": "code",
      "source": [
        "import os\n",
        "\n",
        "os.makedirs(\"iirc_docs\", exist_ok=True)\n",
        "\n",
        "# Creates a jsonl file with all contents to be indexed using the Pyserini's library\n",
        "with open(\"iirc_docs/iirc_docs.jsonl\", \"w\") as fout:\n",
        "    for idx, doc in enumerate(documents):\n",
        "        doc_dict = {\"id\": idx, **doc}\n",
        "        fout.write(json.dumps(doc_dict) + \"\\n\")"
      ],
      "metadata": {
        "id": "D4SP8jhEdomz"
      },
      "execution_count": 7,
      "outputs": []
    },
    {
      "cell_type": "markdown",
      "source": [
        "## BM25 Index"
      ],
      "metadata": {
        "id": "GT35QrHLBC3d"
      }
    },
    {
      "cell_type": "code",
      "source": [
        "# Creates the BM25 index with Pyserini\n",
        "!python -m pyserini.index.lucene \\\n",
        "  --collection JsonCollection \\\n",
        "  --input iirc_docs \\\n",
        "  --index iirc \\\n",
        "  --language en\\\n",
        "  --generator DefaultLuceneDocumentGenerator \\\n",
        "  --threads 1 \\\n",
        "  --storePositions --storeDocvectors --storeRaw "
      ],
      "metadata": {
        "colab": {
          "base_uri": "https://localhost:8080/"
        },
        "id": "1k78UfrHnaPI",
        "outputId": "e9cf22f7-66a4-4647-88f4-6b574deb3144"
      },
      "execution_count": 8,
      "outputs": [
        {
          "output_type": "stream",
          "name": "stdout",
          "text": [
            "WARNING: sun.reflect.Reflection.getCallerClass is not supported. This will impact performance.\n",
            "2023-05-17 19:05:27,106 INFO  [main] index.IndexCollection (IndexCollection.java:380) - Setting log level to INFO\n",
            "2023-05-17 19:05:27,108 INFO  [main] index.IndexCollection (IndexCollection.java:383) - Starting indexer...\n",
            "2023-05-17 19:05:27,108 INFO  [main] index.IndexCollection (IndexCollection.java:384) - ============ Loading Parameters ============\n",
            "2023-05-17 19:05:27,109 INFO  [main] index.IndexCollection (IndexCollection.java:385) - DocumentCollection path: iirc_docs\n",
            "2023-05-17 19:05:27,109 INFO  [main] index.IndexCollection (IndexCollection.java:386) - CollectionClass: JsonCollection\n",
            "2023-05-17 19:05:27,109 INFO  [main] index.IndexCollection (IndexCollection.java:387) - Generator: DefaultLuceneDocumentGenerator\n",
            "2023-05-17 19:05:27,109 INFO  [main] index.IndexCollection (IndexCollection.java:388) - Threads: 1\n",
            "2023-05-17 19:05:27,110 INFO  [main] index.IndexCollection (IndexCollection.java:389) - Language: en\n",
            "2023-05-17 19:05:27,110 INFO  [main] index.IndexCollection (IndexCollection.java:390) - Stemmer: porter\n",
            "2023-05-17 19:05:27,110 INFO  [main] index.IndexCollection (IndexCollection.java:391) - Keep stopwords? false\n",
            "2023-05-17 19:05:27,110 INFO  [main] index.IndexCollection (IndexCollection.java:392) - Stopwords: null\n",
            "2023-05-17 19:05:27,111 INFO  [main] index.IndexCollection (IndexCollection.java:393) - Store positions? true\n",
            "2023-05-17 19:05:27,111 INFO  [main] index.IndexCollection (IndexCollection.java:394) - Store docvectors? true\n",
            "2023-05-17 19:05:27,111 INFO  [main] index.IndexCollection (IndexCollection.java:395) - Store document \"contents\" field? false\n",
            "2023-05-17 19:05:27,111 INFO  [main] index.IndexCollection (IndexCollection.java:396) - Store document \"raw\" field? true\n",
            "2023-05-17 19:05:27,112 INFO  [main] index.IndexCollection (IndexCollection.java:397) - Additional fields to index: []\n",
            "2023-05-17 19:05:27,112 INFO  [main] index.IndexCollection (IndexCollection.java:398) - Optimize (merge segments)? false\n",
            "2023-05-17 19:05:27,112 INFO  [main] index.IndexCollection (IndexCollection.java:399) - Whitelist: null\n",
            "2023-05-17 19:05:27,112 INFO  [main] index.IndexCollection (IndexCollection.java:400) - Pretokenized?: false\n",
            "2023-05-17 19:05:27,113 INFO  [main] index.IndexCollection (IndexCollection.java:401) - Index path: iirc\n",
            "2023-05-17 19:05:27,115 INFO  [main] index.IndexCollection (IndexCollection.java:481) - ============ Indexing Collection ============\n",
            "2023-05-17 19:05:27,125 INFO  [main] index.IndexCollection (IndexCollection.java:468) - Using DefaultEnglishAnalyzer\n",
            "2023-05-17 19:05:27,126 INFO  [main] index.IndexCollection (IndexCollection.java:469) - Stemmer: porter\n",
            "2023-05-17 19:05:27,126 INFO  [main] index.IndexCollection (IndexCollection.java:470) - Keep stopwords? false\n",
            "2023-05-17 19:05:27,126 INFO  [main] index.IndexCollection (IndexCollection.java:471) - Stopwords file: null\n",
            "2023-05-17 19:05:27,246 INFO  [main] index.IndexCollection (IndexCollection.java:510) - Thread pool with 1 threads initialized.\n",
            "2023-05-17 19:05:27,246 INFO  [main] index.IndexCollection (IndexCollection.java:512) - Initializing collection in iirc_docs\n",
            "2023-05-17 19:05:27,249 INFO  [main] index.IndexCollection (IndexCollection.java:521) - 1 file found\n",
            "2023-05-17 19:05:27,249 INFO  [main] index.IndexCollection (IndexCollection.java:522) - Starting to index...\n",
            "2023-05-17 19:05:45,021 DEBUG [pool-2-thread-1] index.IndexCollection$LocalIndexerThread (IndexCollection.java:345) - iirc_docs/iirc_docs.jsonl: 7025 docs added.\n",
            "2023-05-17 19:05:47,666 INFO  [main] index.IndexCollection (IndexCollection.java:578) - Indexing Complete! 7,025 documents indexed\n",
            "2023-05-17 19:05:47,666 INFO  [main] index.IndexCollection (IndexCollection.java:579) - ============ Final Counter Values ============\n",
            "2023-05-17 19:05:47,666 INFO  [main] index.IndexCollection (IndexCollection.java:580) - indexed:            7,025\n",
            "2023-05-17 19:05:47,667 INFO  [main] index.IndexCollection (IndexCollection.java:581) - unindexable:            0\n",
            "2023-05-17 19:05:47,667 INFO  [main] index.IndexCollection (IndexCollection.java:582) - empty:                  3\n",
            "2023-05-17 19:05:47,667 INFO  [main] index.IndexCollection (IndexCollection.java:583) - skipped:                0\n",
            "2023-05-17 19:05:47,667 INFO  [main] index.IndexCollection (IndexCollection.java:584) - errors:                 0\n",
            "2023-05-17 19:05:47,674 INFO  [main] index.IndexCollection (IndexCollection.java:587) - Total 7,025 documents indexed in 00:00:20\n"
          ]
        }
      ]
    },
    {
      "cell_type": "markdown",
      "source": [
        "## Questions and Gold data"
      ],
      "metadata": {
        "id": "PSUOoHvd9PWk"
      }
    },
    {
      "cell_type": "code",
      "source": [
        "import random\n",
        "\n",
        "dev_sample = random.sample(dev_data, 50)"
      ],
      "metadata": {
        "id": "cC0QbOZw9vK4"
      },
      "execution_count": 79,
      "outputs": []
    },
    {
      "cell_type": "code",
      "source": [
        "import re\n",
        "\n",
        "def clean_string(input_string):\n",
        "    # Convert the string to lowercase\n",
        "    lowercase_string = input_string.lower()\n",
        "    # Remove multiple spaces with a single space\n",
        "    cleaned_string = re.sub(r'\\s+', ' ', lowercase_string)\n",
        "    # Remove punctuation marks using regular expressions\n",
        "    cleaned_string = re.sub(r'[^\\w\\s]', '', cleaned_string)\n",
        "    \n",
        "    return cleaned_string\n",
        "\n",
        "def get_answer(answer):\n",
        "    if answer[\"type\"] == \"span\":\n",
        "        return clean_string(answer[\"answer_spans\"][0][\"text\"])\n",
        "    elif answer[\"type\"] == \"value\":\n",
        "        return clean_string(f\"{answer['answer_value']} {answer['answer_unit']}\")\n",
        "    elif answer[\"type\"] == None:\n",
        "        return \"not enough information\"\n",
        "    elif answer[\"type\"] == \"binary\":\n",
        "        return clean_string(answer[\"answer_value\"])"
      ],
      "metadata": {
        "id": "0COWeIvc-Spa"
      },
      "execution_count": 80,
      "outputs": []
    },
    {
      "cell_type": "code",
      "source": [
        "# Contains tuples with (question, gold_answer)\n",
        "evaluation_dataset = []\n",
        "\n",
        "for passage in dev_sample:\n",
        "    for question in passage[\"questions\"]:\n",
        "        query = question[\"question\"]\n",
        "        answer = get_answer(question[\"answer\"])\n",
        "        evaluation_dataset.append((query, answer))\n",
        "\n",
        "# Selects only a subset of all dataset\n",
        "evaluation_dataset = evaluation_dataset[:20]"
      ],
      "metadata": {
        "id": "nKk08IA39J-u"
      },
      "execution_count": 81,
      "outputs": []
    },
    {
      "cell_type": "markdown",
      "source": [
        "# Evaluation pipeline"
      ],
      "metadata": {
        "id": "kCFUjENQcv95"
      }
    },
    {
      "cell_type": "markdown",
      "source": [
        "## OpenAI"
      ],
      "metadata": {
        "id": "NOFFrtiKj5fR"
      }
    },
    {
      "cell_type": "code",
      "source": [
        "!pip install openai -q"
      ],
      "metadata": {
        "colab": {
          "base_uri": "https://localhost:8080/"
        },
        "id": "Ip2JGGiAjrc1",
        "outputId": "c7403d37-d378-4b81-b55d-1497766d7a6f"
      },
      "execution_count": 12,
      "outputs": [
        {
          "output_type": "stream",
          "name": "stdout",
          "text": [
            "\u001b[2K     \u001b[90m━━━━━━━━━━━━━━━━━━━━━━━━━━━━━━━━━━━━━━━━\u001b[0m \u001b[32m71.9/71.9 kB\u001b[0m \u001b[31m8.3 MB/s\u001b[0m eta \u001b[36m0:00:00\u001b[0m\n",
            "\u001b[2K     \u001b[90m━━━━━━━━━━━━━━━━━━━━━━━━━━━━━━━━━━━━━━━━\u001b[0m \u001b[32m1.0/1.0 MB\u001b[0m \u001b[31m60.2 MB/s\u001b[0m eta \u001b[36m0:00:00\u001b[0m\n",
            "\u001b[2K     \u001b[90m━━━━━━━━━━━━━━━━━━━━━━━━━━━━━━━━━━━━━━\u001b[0m \u001b[32m114.5/114.5 kB\u001b[0m \u001b[31m13.0 MB/s\u001b[0m eta \u001b[36m0:00:00\u001b[0m\n",
            "\u001b[2K     \u001b[90m━━━━━━━━━━━━━━━━━━━━━━━━━━━━━━━━━━━━━━\u001b[0m \u001b[32m268.8/268.8 kB\u001b[0m \u001b[31m33.3 MB/s\u001b[0m eta \u001b[36m0:00:00\u001b[0m\n",
            "\u001b[2K     \u001b[90m━━━━━━━━━━━━━━━━━━━━━━━━━━━━━━━━━━━━━━\u001b[0m \u001b[32m149.6/149.6 kB\u001b[0m \u001b[31m21.7 MB/s\u001b[0m eta \u001b[36m0:00:00\u001b[0m\n",
            "\u001b[?25h"
          ]
        }
      ]
    },
    {
      "cell_type": "code",
      "source": [
        "api_key = \"YOUR_API_KEY\""
      ],
      "metadata": {
        "id": "HpgRd1Bmj1v6"
      },
      "execution_count": 13,
      "outputs": []
    },
    {
      "cell_type": "code",
      "source": [
        "import requests\n",
        "import time\n",
        "\n",
        "def get_llm_response(prompt):\n",
        "    \"\"\"\n",
        "    Send a prompt to ChatGPT and get its answer.\n",
        "    Args:\n",
        "        prompt (str): a string containing the prompt\n",
        "    Returns:\n",
        "        The answer and the request cost\n",
        "    \"\"\"\n",
        "    for _ in range(5):\n",
        "        data = {\n",
        "            \"model\": \"gpt-3.5-turbo\",\n",
        "            \"messages\": [{\"role\": \"user\", \"content\": prompt}],\n",
        "            \"temperature\": 0,\n",
        "            \"top_p\": 1\n",
        "        }\n",
        "\n",
        "        headers = {\n",
        "            \"Content-Type\": \"application/json\",\n",
        "            \"Authorization\": f\"Bearer {api_key}\"\n",
        "        }\n",
        "\n",
        "        response = requests.post(\n",
        "            \"https://api.openai.com/v1/chat/completions\",\n",
        "            json=data,\n",
        "            headers=headers\n",
        "        )\n",
        "        if not response.ok:\n",
        "            time.sleep(5)\n",
        "            continue\n",
        "        response = response.json()\n",
        "        cost = 0.000002 * response[\"usage\"][\"total_tokens\"]\n",
        "        \n",
        "        return response[\"choices\"][0][\"message\"][\"content\"].strip().lower(), cost"
      ],
      "metadata": {
        "id": "bU5x5FaIiGgz"
      },
      "execution_count": 41,
      "outputs": []
    },
    {
      "cell_type": "markdown",
      "source": [
        "## Reranker - MonoT5"
      ],
      "metadata": {
        "id": "MjE3gclcWSSw"
      }
    },
    {
      "cell_type": "code",
      "source": [
        "from math import exp\n",
        "from typing import List\n",
        "\n",
        "import torch\n",
        "from tqdm.auto import tqdm\n",
        "from transformers import (\n",
        "    AutoModelForSequenceClassification,\n",
        "    AutoTokenizer,\n",
        "    BatchEncoding,\n",
        "    AutoModelForSeq2SeqLM\n",
        ")\n",
        "\n",
        "class MonoT5():\n",
        "    def __init__(self, model_name_or_path: str = 'castorini/monot5-base-msmarco-10k', fp16: bool = False):\n",
        "        \"\"\"\n",
        "        Loads the T5 model from the given path.\n",
        "        Args:\n",
        "            model_name_or_path: path to the model\n",
        "            fp16: whether the model should be loaded using FP16\n",
        "        \"\"\"\n",
        "        self.tokenizer = AutoTokenizer.from_pretrained(model_name_or_path)\n",
        "        # The training was carried out using two specific tokens for relevant and non-relevant passages\n",
        "        self.token_false_id = self.tokenizer.get_vocab()['▁false']\n",
        "        self.token_true_id  = self.tokenizer.get_vocab()['▁true']\n",
        "\n",
        "        self.device = torch.device(\"cuda\" if torch.cuda.is_available() else \"cpu\")\n",
        "\n",
        "        # Loads the model with model_args\n",
        "        model_args = {}\n",
        "        if fp16:\n",
        "            model_args[\"torch_dtype\"] = torch.float16\n",
        "\n",
        "        self.model = AutoModelForSeq2SeqLM.from_pretrained(model_name_or_path, **model_args).to(self.device)\n",
        "\n",
        "    @torch.no_grad()\n",
        "    def rescore(self, query: str, batch: List[str]):\n",
        "        \"\"\"\n",
        "        Adapted from Pygaggle's repo.\n",
        "        Rescore all documents for the given query.\n",
        "        Args:\n",
        "            query: the query for ranking\n",
        "            batch: list of passages for ranking\n",
        "        \"\"\"\n",
        "        scores = []\n",
        "        # Creates the inputs to the model\n",
        "        queries_documents = [f\"Query: {query} Document: {text} Relevant:\" for text in batch]\n",
        "        tokenized = self.tokenizer(\n",
        "            queries_documents,\n",
        "            padding=True,\n",
        "            truncation=\"longest_first\",\n",
        "            return_tensors=\"pt\",\n",
        "            max_length=256,\n",
        "        ).to(self.device)\n",
        "        input_ids = tokenized[\"input_ids\"].to(self.device)\n",
        "        attention_mask = tokenized[\"attention_mask\"].to(self.device)\n",
        "        _ , batch_scores = self.greedy_decode(model=self.model,\n",
        "                                            input_ids=input_ids,\n",
        "                                            length=1,\n",
        "                                            attention_mask=attention_mask,\n",
        "                                            return_last_logits=True)\n",
        "        batch_scores = batch_scores[:, [self.token_false_id, self.token_true_id]]\n",
        "        batch_scores = torch.nn.functional.log_softmax(batch_scores, dim=1)\n",
        "        batch_log_probs = batch_scores[:, 1].tolist()\n",
        "        batch_probs = [exp(log_prob) for log_prob in batch_log_probs]\n",
        "        scores.extend(batch_probs)\n",
        "        return scores\n",
        "\n",
        "    @torch.no_grad()\n",
        "    def greedy_decode(\n",
        "        self,\n",
        "        model,\n",
        "        input_ids: torch.Tensor,\n",
        "        length: int,\n",
        "        attention_mask: torch.Tensor = None,\n",
        "        return_last_logits: bool = True\n",
        "    ):\n",
        "        \"\"\"\n",
        "        Adapted from Pygaggle's repo.\n",
        "        Performs the greedy_decode on t5's output.\n",
        "        \"\"\"\n",
        "        decode_ids = torch.full((input_ids.size(0), 1),\n",
        "                                model.config.decoder_start_token_id,\n",
        "                                dtype=torch.long).to(input_ids.device)\n",
        "        encoder_outputs = model.get_encoder()(input_ids, attention_mask=attention_mask)\n",
        "        next_token_logits = None\n",
        "        for _ in range(length):\n",
        "            model_inputs = model.prepare_inputs_for_generation(\n",
        "                decode_ids,\n",
        "                encoder_outputs=encoder_outputs,\n",
        "                past=None,\n",
        "                attention_mask=attention_mask,\n",
        "                use_cache=True)\n",
        "            outputs = model(**model_inputs)  # (batch_size, cur_len, vocab_size)\n",
        "            next_token_logits = outputs[0][:, -1, :]  # (batch_size, vocab_size)\n",
        "            decode_ids = torch.cat([decode_ids,\n",
        "                                    next_token_logits.max(1)[1].unsqueeze(-1)],\n",
        "                                dim=-1)\n",
        "        if return_last_logits:\n",
        "            return decode_ids, next_token_logits\n",
        "        return decode_ids"
      ],
      "metadata": {
        "id": "lpmHSbiCWUu9"
      },
      "execution_count": 15,
      "outputs": []
    },
    {
      "cell_type": "code",
      "source": [
        "t5_3b = MonoT5('castorini/monot5-large-msmarco-10k', fp16=True)"
      ],
      "metadata": {
        "id": "ROSdj2bXYWQl",
        "colab": {
          "base_uri": "https://localhost:8080/",
          "height": 214,
          "referenced_widgets": [
            "b05989f637f24a42a9e47d494d59137d",
            "a4e4f19b25e644caa2eb5a7d57d04392",
            "fc9c060252fe446fbc925742269ed7e5",
            "577da6f419d14bb4876292212cfa34ec",
            "83099ce7e91c4d4db704f6e50c04e849",
            "d8b78b46660e433fb23f29f05b831f8a",
            "75386a55d2c44d11bcbd43c35db65748",
            "82665602910b4f67a21892434877296b",
            "c5570876e6464e2db1bff3b983172350",
            "b162e11845f94f55bc21a9de30848eb0",
            "6d308e9f22b846539ef90eb710286286",
            "34d6945d06894956bf67b4d161bf32a5",
            "643a391bfb6347d39b231cfedef35a5a",
            "ac2183c0184443afa34d27d2e1f51fc1",
            "acd449084c63422f80b397c95b0f3c29",
            "934cdb11d9d34a2d9b2360ee087006f3",
            "0936bf79f2be46f9a143fb536c16bdc5",
            "b70edbd566bc4ab88b1ab5492f2a08c5",
            "59478cc5de354793affe8b1d9c5d9949",
            "576b2fad5d3c4f8399f331fd43d4a1fa",
            "02d81593b74c4f8fa21c734d3dc31b50",
            "cd0907e17a564fd68df27f15e0aedcde",
            "0182d3c649c44efbb3538de897e0bcde",
            "f3df29d6b583413581663df9ddab84bf",
            "81ac21edf0fb4e109405f621c51686d5",
            "c8e316d68045433a9cae25b3161a6f44",
            "c8a67a17248a4198afcbd9a00ed50df2",
            "49e64406fc784e2a96daecbe96231eea",
            "b12d621ae1dc4b42ab7c0bb1244dc485",
            "193bb97fcee34830914f7767318843c4",
            "6841acb046c1416380f17c18022b9ef6",
            "cb07cafdbea049fab07b3150f124dccf",
            "e20b7b76ea5f488cb0d67dd44b02a15c",
            "4d18c2474e6548dbbaf83124295539e8",
            "258744a77da94066a340223aef44eaa8",
            "dc0d9ac82cdb4cc2be3eb26bec85b9fb",
            "2cdaa9dc49d4469b98ee402a2ecf529b",
            "75bb8b05cd7f4819a6d379eb279e577b",
            "1c656391bcdc492faeaba16a016d44cf",
            "209335b2c18740158ca695afa8e49f28",
            "f731b8581b25449b924b4fdc8bca71c8",
            "c09625c01d354033b2a59ae60e0c2420",
            "a8e659d9f1ff4912a2ed55d64abb35f6",
            "af2631c21cbf450b90bee1752b294e13",
            "2fdba530df5d4b97b0e646a501eca96d",
            "e542778e5c774341a6c1ee52ede0e085",
            "9ad397f33075434c9194e919db929d4f",
            "a235f64a013140c2ae840159bb0e3713",
            "8b0b6a886f5f4b1f99e7a84dae6fd8f4",
            "3b151b40839c4926a78133155b07327c",
            "b6b2760ae0254e13837252bbda820c43",
            "b1ab032bc822432fae33381e28c5b909",
            "cd8165e8b0234e05b6bb722ee44367c7",
            "bc66341e62614996900935d0bad9aeec",
            "ff6e00724f5b4da78999bf212f0ac761"
          ]
        },
        "outputId": "005940c5-0ee1-4e0a-d865-2d03dfbcc834"
      },
      "execution_count": 17,
      "outputs": [
        {
          "output_type": "display_data",
          "data": {
            "text/plain": [
              "Downloading (…)okenizer_config.json:   0%|          | 0.00/1.89k [00:00<?, ?B/s]"
            ],
            "application/vnd.jupyter.widget-view+json": {
              "version_major": 2,
              "version_minor": 0,
              "model_id": "b05989f637f24a42a9e47d494d59137d"
            }
          },
          "metadata": {}
        },
        {
          "output_type": "display_data",
          "data": {
            "text/plain": [
              "Downloading (…)lve/main/config.json:   0%|          | 0.00/1.36k [00:00<?, ?B/s]"
            ],
            "application/vnd.jupyter.widget-view+json": {
              "version_major": 2,
              "version_minor": 0,
              "model_id": "34d6945d06894956bf67b4d161bf32a5"
            }
          },
          "metadata": {}
        },
        {
          "output_type": "display_data",
          "data": {
            "text/plain": [
              "Downloading spiece.model:   0%|          | 0.00/792k [00:00<?, ?B/s]"
            ],
            "application/vnd.jupyter.widget-view+json": {
              "version_major": 2,
              "version_minor": 0,
              "model_id": "0182d3c649c44efbb3538de897e0bcde"
            }
          },
          "metadata": {}
        },
        {
          "output_type": "display_data",
          "data": {
            "text/plain": [
              "Downloading (…)cial_tokens_map.json:   0%|          | 0.00/1.79k [00:00<?, ?B/s]"
            ],
            "application/vnd.jupyter.widget-view+json": {
              "version_major": 2,
              "version_minor": 0,
              "model_id": "4d18c2474e6548dbbaf83124295539e8"
            }
          },
          "metadata": {}
        },
        {
          "output_type": "display_data",
          "data": {
            "text/plain": [
              "Downloading pytorch_model.bin:   0%|          | 0.00/2.95G [00:00<?, ?B/s]"
            ],
            "application/vnd.jupyter.widget-view+json": {
              "version_major": 2,
              "version_minor": 0,
              "model_id": "2fdba530df5d4b97b0e646a501eca96d"
            }
          },
          "metadata": {}
        },
        {
          "output_type": "stream",
          "name": "stderr",
          "text": [
            "For stability purposes, it is recommended to have accelerate installed when using this model in torch.float16, please install it with `pip install accelerate`\n"
          ]
        }
      ]
    },
    {
      "cell_type": "markdown",
      "source": [
        "## Query decomposition + search\n",
        "\n",
        "The idea is to break the query into multiple sub-questions, allowing the aggregation step to effectively answer the original query."
      ],
      "metadata": {
        "id": "7Qy3f_FCj9Mc"
      }
    },
    {
      "cell_type": "code",
      "source": [
        "import spacy\n",
        "\n",
        "def break_text_into_sentences(text: str):\n",
        "    nlp = spacy.load('en_core_web_sm')\n",
        "    doc = nlp(text)\n",
        "    sentences = [sent.text for sent in doc.sents]\n",
        "    return sentences"
      ],
      "metadata": {
        "id": "EAZvnvU1YxFq"
      },
      "execution_count": 16,
      "outputs": []
    },
    {
      "cell_type": "code",
      "source": [
        "import json\n",
        "\n",
        "def decompose_query(query):\n",
        "    # Prompt adapted from Visconde\n",
        "    prompt = f\"Decompose a question in sub-questions using a python list. Use \\\"The question needs no decomposition\\\" when no decomposition is needed.\\n\\nExample 1:\\n\\nQuestion: Is Hamlet more common on IMDB than Comedy of Errors?\\n\\nDecompositions: \\n[\\\"How many listings of Hamlet are there on IMDB?\\\", \\\"How many listing of Comedy of Errors is there on IMDB?\\\"]\\n\\nExample 2:\\n\\nQuestion: Are birds important to badminton?\\n\\nDecompositions:\\nThe question needs no decomposition\\n\\nExample 3:\\n\\nQuestion: Is it legal for a licensed child driving Mercedes-Benz to be employed in US?\\n\\nDecompositions:\\n[\\\"What is the minimum driving age in the US?\\\", \\\"What is the minimum age for someone to be employed in the US?\\\"]\\n\\nExample 4:\\n\\nQuestion: Are all cucumbers the same texture?\\n\\nDecompositions:\\nThe question needs no decomposition\\n\\nExample 5:\\n\\nQuestion: Hydrogen's atomic number squared exceeds number of Spice Girls?\\n\\nDecompositions:\\n[\\\"What is the atomic number of hydrogen?\\\", \\\"How many Spice Girls are there?\\\"]\\n\\nExample 6:\\n\\nQuestion: {query}\\n\\nDecompositions:\"\n",
        "    answer, _ = get_llm_response(prompt)\n",
        "    try:\n",
        "        return json.loads(answer)\n",
        "    except:\n",
        "        return []"
      ],
      "metadata": {
        "id": "0kuKDGrAj3bp"
      },
      "execution_count": 18,
      "outputs": []
    },
    {
      "cell_type": "code",
      "source": [
        "from pyserini.search.lucene import LuceneSearcher\n",
        "\n",
        "# Performs the BM25 search (initial retrieval)\n",
        "searcher = LuceneSearcher('/content/iirc')\n",
        "\n",
        "def get_passages(query, top_k):\n",
        "    hits = searcher.search(query, top_k)\n",
        "    return hits"
      ],
      "metadata": {
        "id": "AN2cSrwIl2XJ"
      },
      "execution_count": 19,
      "outputs": []
    },
    {
      "cell_type": "markdown",
      "source": [
        "## Aggregation\n",
        "\n",
        "The full pipeline consists of four steps: (1) Question decomposition, (2) Document retrieval for each sub-question, (3) QA for each sub-question, and (4) aggregation of answers."
      ],
      "metadata": {
        "id": "1CQPK5JEs0A7"
      }
    },
    {
      "cell_type": "code",
      "source": [
        "def get_aggregated_answer(question):\n",
        "    # [STEP 1] - get sub-questions\n",
        "    decomposed_questions = decompose_query(question)\n",
        "    if len(decomposed_questions) == 0:\n",
        "        decomposed_questions = [question]\n",
        "\n",
        "    aggregated_prompt = f\"Provide an answer to the question \\\"{question}\\\" given the answers of the questions below:\\n\"\n",
        "    for q_idx, query in enumerate(decomposed_questions):\n",
        "        # [STEP 2] - document retrieval\n",
        "        hits = get_passages(question, top_k=3)\n",
        "        # [STEP 3] - QA on sub-questions - Adapted from Visconde\n",
        "        prompt = f\"For each example, use the documents to provide an answer to the question and cite evidence from the documents to support the answer. If there is not enough information in the documents to answer the question, then state \\\"not enough information\\\".\\n\\nExample 1:\\n\\nDocument 1: Title: Fred J. Shields. Content: Ollie Murphy\\'s first-half goal gave \\'the Royals\\' a huge boost at half-time.\\n\\nDocument 2: Title: Ollie Murphy. Content: He plays club football for Carnaross\\n\\nDocument 3: Title: Ollie Murphy. Content: He came to national prominence in 1999 when he was one of Meath\\'s best player\\'s\\n\\nQuestion: Based on the above documents, Did Ollie Murphy play for any teams other than \\'the Royals\\'?\\n\\nEvidence: Document 1 says that Ollie Murphy\\'s first-half goal gave \\'the Royals\\' a huge boost at half-time. However, this does not necessarily mean that Ollie only played for \\'the Royals\\'. Document 2 states that Ollie plays club football for Carnaross. This suggests that Ollie may have played for other teams in addition to \\'the Royals\\'. Document 3 says that Ollie came to national prominence in 1999 when he was one of Meath\\'s best players. This also suggests that Ollie has played for other teams. Therefore, it is likely that Ollie has played for teams other than \\'the Royals\\'.\\n\\nAnswer: yes.\\n\\nExample 2:\\n\\nDocument 1: Title: Don Rendell. Content: The club played in the Brunei Premier League in the early 2000s, winning the league title in 2002 and 2004.\\n\\nQuestion: Based on the above documents, What club came in second at the 2004 Brunei Premier League?\\n\\nEvidence:  There is not enough information in the documents to answer the question.\\n\\nAnswer: not enough information.\\n\\nExample 3:\\n\\nDocument 1: Title: Stacy Compton. Content: Despicable Me, the first film in the series, and the first film from Illumination, was released on July 9, 2010.\\n\\nDocument 2: Title: Miranda Cosgrove. Content: Cosgrove\\'s first television appearance (aside from commercials) was in 2001 as the voice of young Lana Lang in the pilot episode of Smallville.\\n\\nDocument 3: Title: Miranda Cosgrove. Content: In 2004, Cosgrove soon landed her first major role in a television series when she was awarded a main role in the Nickelodeon series Drake & Josh\\n\\nDocument 4: Title: Miranda Cosgrove. Content: Also in 2004, Cosgrove guest-starred in a special episode of the animated series What\\'s New, Scooby-Doo?, as well as guest-starring in a season five episode of Grounded For Life\\n\\nDocument 5: Title: Miranda Cosgrove. Content: The television series, which aired on Disney, is a spin-off of the original film, Lilo & Stitch\\n\\nDocument 6: Title: Miranda Cosgrove. Content: The first of these appearances was in Zoey 101. Cosgrove later guest starred on an episode of Unfabulous,\\n\\nDocument 7: Title: Miranda Cosgrove. Content: However, Cosgrove was already in the works of starring in her own sitcom, titled iCarly, released on September 8, 2007.\\n\\nQuestion: Based on the above documents, How many TV shows had Miranda Cosgrove been featured in by the year Despicable Me was released?\\n\\nEvidence: According to document 1, Despicable Me was released on July 9, 2010.Document 2 states that Cosgrove\\'s first television appearance was in 2001 as the voice of young Lana Lang in the pilot episode of Smallville.Document 3 says that, in 2004, Cosgrove landed her first major role in a television series when she was awarded a main role in the Nickelodeon series Drake & Josh.Document 4 states that, also in 2004, Cosgrove guest-starred in a special episode of the animated series What\\'s New, Scooby-Doo?, as well as guest-starring in a season five episode of Grounded For Life.Document 5 says that the television series, which aired on Disney, is a spin-off of the original film, Lilo & Stitch.Document 6 states that the first of these appearances was in Zoey 101. Cosgrove later guest starred on an episode of Unfabulous.Document 7 says that, however, Cosgrove was already in the works of starring in her own sitcom, titled iCarly, released on September 8, 2007.Therefore, Miranda Cosgrove had been featured in 8 TV shows by the year Despicable Me was released.\\n\\nAnswer: 8 TV shows.\\n\\nExample 4:\\n\\n\"\n",
        "        for idx, hit in enumerate(hits):\n",
        "            raw_content = json.loads(hit.raw)\n",
        "            paragraphs = break_text_into_sentences(raw_content[\"contents\"])[:5]\n",
        "            # Rerank the sentences of documents, since they are too long\n",
        "            scores = t5_3b.rescore(query, paragraphs)\n",
        "            sorted_paragraphs = sorted(paragraphs, key=lambda x: scores[paragraphs.index(x)], reverse=True)\n",
        "            content = '...'.join(sorted_paragraphs[:2])\n",
        "            prompt += f\"Document {idx}: Title: {raw_content['title']}. Content: {content}\\n\\n\"\n",
        "        prompt += f\"Question: {query}\\n\\nEvidence:\"\n",
        "        # Uses chain-of-thought to improve results\n",
        "        evidence, _ = get_llm_response(prompt)\n",
        "        prompt += f\"{evidence}\\n\\nAnswer:\"\n",
        "        query_answer, _ = get_llm_response(prompt)\n",
        "        # The final output is constructed based on previous answers\n",
        "        aggregated_prompt += f\"Question {q_idx}: {query}\\nAnswer {q_idx}: {query_answer}\\n\"\n",
        "    \n",
        "    aggregated_prompt += \"If it is impossible to answer, you should write \\\"None\\\".\\nAnswer:\"\n",
        "    final_answer, _ = get_llm_response(aggregated_prompt)\n",
        "    return final_answer.strip()"
      ],
      "metadata": {
        "id": "eKx4YJPwstLn"
      },
      "execution_count": 107,
      "outputs": []
    },
    {
      "cell_type": "markdown",
      "source": [
        "## Evaluation + metrics"
      ],
      "metadata": {
        "id": "7c0_9QwFxXZG"
      }
    },
    {
      "cell_type": "code",
      "source": [
        "def calculate_f1_bow(pred, gold):\n",
        "    \"\"\"\n",
        "    Computes the f1-bow (bag of words) for the results.\n",
        "    This is done by comparing the f1-score for the tokens in the predicted answer\n",
        "    \"\"\"\n",
        "    if pred.lower().rstrip(\".\") == \"none\" and gold is None:\n",
        "        return 1\n",
        "    elif gold is None and pred.lower().rstrip(\".\") != \"none\":\n",
        "        return 0\n",
        "    else:\n",
        "        tokens_pred = pred.split(\" \")\n",
        "        tokens_gold = gold.split(\" \")\n",
        "        precision = sum([1 for token in tokens_pred if token in tokens_gold]) / len(tokens_pred)\n",
        "        recall = sum([1 for token in tokens_gold if token in tokens_pred]) / len(tokens_gold)\n",
        "        if precision + recall != 0:\n",
        "            return 2 * ((precision * recall) / (precision + recall))\n",
        "        else:\n",
        "            return 0"
      ],
      "metadata": {
        "id": "-6uIaJrmk7ia"
      },
      "execution_count": null,
      "outputs": []
    },
    {
      "cell_type": "code",
      "source": [
        "# evaluation_dataset: (tuple) => (query, gold_answer)\n",
        "f1_list = []\n",
        "for query, gold in evaluation_dataset:\n",
        "    pred = get_aggregated_answer(query)\n",
        "    f1 = calculate_f1_bow(pred, gold)\n",
        "    f1_list.append(f1)"
      ],
      "metadata": {
        "id": "xgKnDYznTNTI"
      },
      "execution_count": null,
      "outputs": []
    },
    {
      "cell_type": "code",
      "source": [
        "print(\"F1-BOW score:\", (sum(f1_list) / len(f1_list)))"
      ],
      "metadata": {
        "colab": {
          "base_uri": "https://localhost:8080/"
        },
        "id": "dgnCCh98MIqq",
        "outputId": "1175c150-606b-4fcf-c4ec-75aed289f41e"
      },
      "execution_count": 113,
      "outputs": [
        {
          "output_type": "stream",
          "name": "stdout",
          "text": [
            "F1-BOW score: 0.3064516129032258\n"
          ]
        }
      ]
    }
  ]
}