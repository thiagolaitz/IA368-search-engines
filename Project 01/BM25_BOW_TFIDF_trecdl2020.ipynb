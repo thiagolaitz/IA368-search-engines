{
  "nbformat": 4,
  "nbformat_minor": 0,
  "metadata": {
    "colab": {
      "provenance": [],
      "machine_shape": "hm"
    },
    "kernelspec": {
      "name": "python3",
      "display_name": "Python 3"
    },
    "language_info": {
      "name": "python"
    },
    "widgets": {
      "application/vnd.jupyter.widget-state+json": {
        "2f13cea0734b4b30a3b0ccafb3477f68": {
          "model_module": "@jupyter-widgets/controls",
          "model_name": "HBoxModel",
          "model_module_version": "1.5.0",
          "state": {
            "_dom_classes": [],
            "_model_module": "@jupyter-widgets/controls",
            "_model_module_version": "1.5.0",
            "_model_name": "HBoxModel",
            "_view_count": null,
            "_view_module": "@jupyter-widgets/controls",
            "_view_module_version": "1.5.0",
            "_view_name": "HBoxView",
            "box_style": "",
            "children": [
              "IPY_MODEL_c594ce904e494cb4878153424e792896",
              "IPY_MODEL_58c356c1349045e5b70d4a0e3fe169c5",
              "IPY_MODEL_2f9851f8cbcc49f6ba05e390c272f171"
            ],
            "layout": "IPY_MODEL_e5995cb0e1744f84be5717d227653411"
          }
        },
        "c594ce904e494cb4878153424e792896": {
          "model_module": "@jupyter-widgets/controls",
          "model_name": "HTMLModel",
          "model_module_version": "1.5.0",
          "state": {
            "_dom_classes": [],
            "_model_module": "@jupyter-widgets/controls",
            "_model_module_version": "1.5.0",
            "_model_name": "HTMLModel",
            "_view_count": null,
            "_view_module": "@jupyter-widgets/controls",
            "_view_module_version": "1.5.0",
            "_view_name": "HTMLView",
            "description": "",
            "description_tooltip": null,
            "layout": "IPY_MODEL_0a1539a11a704b8a957064df29d97fa9",
            "placeholder": "​",
            "style": "IPY_MODEL_26c485b9d10544cba996f947a529d999",
            "value": "Running queries: 100%"
          }
        },
        "58c356c1349045e5b70d4a0e3fe169c5": {
          "model_module": "@jupyter-widgets/controls",
          "model_name": "FloatProgressModel",
          "model_module_version": "1.5.0",
          "state": {
            "_dom_classes": [],
            "_model_module": "@jupyter-widgets/controls",
            "_model_module_version": "1.5.0",
            "_model_name": "FloatProgressModel",
            "_view_count": null,
            "_view_module": "@jupyter-widgets/controls",
            "_view_module_version": "1.5.0",
            "_view_name": "ProgressView",
            "bar_style": "success",
            "description": "",
            "description_tooltip": null,
            "layout": "IPY_MODEL_a0829dab89dc4e06bedd7fce2fc05d0b",
            "max": 200,
            "min": 0,
            "orientation": "horizontal",
            "style": "IPY_MODEL_f287c42fba3d4e5cbfd636bb9ce08903",
            "value": 200
          }
        },
        "2f9851f8cbcc49f6ba05e390c272f171": {
          "model_module": "@jupyter-widgets/controls",
          "model_name": "HTMLModel",
          "model_module_version": "1.5.0",
          "state": {
            "_dom_classes": [],
            "_model_module": "@jupyter-widgets/controls",
            "_model_module_version": "1.5.0",
            "_model_name": "HTMLModel",
            "_view_count": null,
            "_view_module": "@jupyter-widgets/controls",
            "_view_module_version": "1.5.0",
            "_view_name": "HTMLView",
            "description": "",
            "description_tooltip": null,
            "layout": "IPY_MODEL_197f77160bfa4872a0a52e1c28f47092",
            "placeholder": "​",
            "style": "IPY_MODEL_8a849b68cf15483abdeff0c8311284d7",
            "value": " 200/200 [00:23&lt;00:00,  7.00it/s]"
          }
        },
        "e5995cb0e1744f84be5717d227653411": {
          "model_module": "@jupyter-widgets/base",
          "model_name": "LayoutModel",
          "model_module_version": "1.2.0",
          "state": {
            "_model_module": "@jupyter-widgets/base",
            "_model_module_version": "1.2.0",
            "_model_name": "LayoutModel",
            "_view_count": null,
            "_view_module": "@jupyter-widgets/base",
            "_view_module_version": "1.2.0",
            "_view_name": "LayoutView",
            "align_content": null,
            "align_items": null,
            "align_self": null,
            "border": null,
            "bottom": null,
            "display": null,
            "flex": null,
            "flex_flow": null,
            "grid_area": null,
            "grid_auto_columns": null,
            "grid_auto_flow": null,
            "grid_auto_rows": null,
            "grid_column": null,
            "grid_gap": null,
            "grid_row": null,
            "grid_template_areas": null,
            "grid_template_columns": null,
            "grid_template_rows": null,
            "height": null,
            "justify_content": null,
            "justify_items": null,
            "left": null,
            "margin": null,
            "max_height": null,
            "max_width": null,
            "min_height": null,
            "min_width": null,
            "object_fit": null,
            "object_position": null,
            "order": null,
            "overflow": null,
            "overflow_x": null,
            "overflow_y": null,
            "padding": null,
            "right": null,
            "top": null,
            "visibility": null,
            "width": null
          }
        },
        "0a1539a11a704b8a957064df29d97fa9": {
          "model_module": "@jupyter-widgets/base",
          "model_name": "LayoutModel",
          "model_module_version": "1.2.0",
          "state": {
            "_model_module": "@jupyter-widgets/base",
            "_model_module_version": "1.2.0",
            "_model_name": "LayoutModel",
            "_view_count": null,
            "_view_module": "@jupyter-widgets/base",
            "_view_module_version": "1.2.0",
            "_view_name": "LayoutView",
            "align_content": null,
            "align_items": null,
            "align_self": null,
            "border": null,
            "bottom": null,
            "display": null,
            "flex": null,
            "flex_flow": null,
            "grid_area": null,
            "grid_auto_columns": null,
            "grid_auto_flow": null,
            "grid_auto_rows": null,
            "grid_column": null,
            "grid_gap": null,
            "grid_row": null,
            "grid_template_areas": null,
            "grid_template_columns": null,
            "grid_template_rows": null,
            "height": null,
            "justify_content": null,
            "justify_items": null,
            "left": null,
            "margin": null,
            "max_height": null,
            "max_width": null,
            "min_height": null,
            "min_width": null,
            "object_fit": null,
            "object_position": null,
            "order": null,
            "overflow": null,
            "overflow_x": null,
            "overflow_y": null,
            "padding": null,
            "right": null,
            "top": null,
            "visibility": null,
            "width": null
          }
        },
        "26c485b9d10544cba996f947a529d999": {
          "model_module": "@jupyter-widgets/controls",
          "model_name": "DescriptionStyleModel",
          "model_module_version": "1.5.0",
          "state": {
            "_model_module": "@jupyter-widgets/controls",
            "_model_module_version": "1.5.0",
            "_model_name": "DescriptionStyleModel",
            "_view_count": null,
            "_view_module": "@jupyter-widgets/base",
            "_view_module_version": "1.2.0",
            "_view_name": "StyleView",
            "description_width": ""
          }
        },
        "a0829dab89dc4e06bedd7fce2fc05d0b": {
          "model_module": "@jupyter-widgets/base",
          "model_name": "LayoutModel",
          "model_module_version": "1.2.0",
          "state": {
            "_model_module": "@jupyter-widgets/base",
            "_model_module_version": "1.2.0",
            "_model_name": "LayoutModel",
            "_view_count": null,
            "_view_module": "@jupyter-widgets/base",
            "_view_module_version": "1.2.0",
            "_view_name": "LayoutView",
            "align_content": null,
            "align_items": null,
            "align_self": null,
            "border": null,
            "bottom": null,
            "display": null,
            "flex": null,
            "flex_flow": null,
            "grid_area": null,
            "grid_auto_columns": null,
            "grid_auto_flow": null,
            "grid_auto_rows": null,
            "grid_column": null,
            "grid_gap": null,
            "grid_row": null,
            "grid_template_areas": null,
            "grid_template_columns": null,
            "grid_template_rows": null,
            "height": null,
            "justify_content": null,
            "justify_items": null,
            "left": null,
            "margin": null,
            "max_height": null,
            "max_width": null,
            "min_height": null,
            "min_width": null,
            "object_fit": null,
            "object_position": null,
            "order": null,
            "overflow": null,
            "overflow_x": null,
            "overflow_y": null,
            "padding": null,
            "right": null,
            "top": null,
            "visibility": null,
            "width": null
          }
        },
        "f287c42fba3d4e5cbfd636bb9ce08903": {
          "model_module": "@jupyter-widgets/controls",
          "model_name": "ProgressStyleModel",
          "model_module_version": "1.5.0",
          "state": {
            "_model_module": "@jupyter-widgets/controls",
            "_model_module_version": "1.5.0",
            "_model_name": "ProgressStyleModel",
            "_view_count": null,
            "_view_module": "@jupyter-widgets/base",
            "_view_module_version": "1.2.0",
            "_view_name": "StyleView",
            "bar_color": null,
            "description_width": ""
          }
        },
        "197f77160bfa4872a0a52e1c28f47092": {
          "model_module": "@jupyter-widgets/base",
          "model_name": "LayoutModel",
          "model_module_version": "1.2.0",
          "state": {
            "_model_module": "@jupyter-widgets/base",
            "_model_module_version": "1.2.0",
            "_model_name": "LayoutModel",
            "_view_count": null,
            "_view_module": "@jupyter-widgets/base",
            "_view_module_version": "1.2.0",
            "_view_name": "LayoutView",
            "align_content": null,
            "align_items": null,
            "align_self": null,
            "border": null,
            "bottom": null,
            "display": null,
            "flex": null,
            "flex_flow": null,
            "grid_area": null,
            "grid_auto_columns": null,
            "grid_auto_flow": null,
            "grid_auto_rows": null,
            "grid_column": null,
            "grid_gap": null,
            "grid_row": null,
            "grid_template_areas": null,
            "grid_template_columns": null,
            "grid_template_rows": null,
            "height": null,
            "justify_content": null,
            "justify_items": null,
            "left": null,
            "margin": null,
            "max_height": null,
            "max_width": null,
            "min_height": null,
            "min_width": null,
            "object_fit": null,
            "object_position": null,
            "order": null,
            "overflow": null,
            "overflow_x": null,
            "overflow_y": null,
            "padding": null,
            "right": null,
            "top": null,
            "visibility": null,
            "width": null
          }
        },
        "8a849b68cf15483abdeff0c8311284d7": {
          "model_module": "@jupyter-widgets/controls",
          "model_name": "DescriptionStyleModel",
          "model_module_version": "1.5.0",
          "state": {
            "_model_module": "@jupyter-widgets/controls",
            "_model_module_version": "1.5.0",
            "_model_name": "DescriptionStyleModel",
            "_view_count": null,
            "_view_module": "@jupyter-widgets/base",
            "_view_module_version": "1.2.0",
            "_view_name": "StyleView",
            "description_width": ""
          }
        },
        "5f6ccaedb78b48d3a4de2f55f4ad87c9": {
          "model_module": "@jupyter-widgets/controls",
          "model_name": "HBoxModel",
          "model_module_version": "1.5.0",
          "state": {
            "_dom_classes": [],
            "_model_module": "@jupyter-widgets/controls",
            "_model_module_version": "1.5.0",
            "_model_name": "HBoxModel",
            "_view_count": null,
            "_view_module": "@jupyter-widgets/controls",
            "_view_module_version": "1.5.0",
            "_view_name": "HBoxView",
            "box_style": "",
            "children": [
              "IPY_MODEL_4759c0473071432eb6c0fe79b8a6776a",
              "IPY_MODEL_f893f4afe8344f3a8cb94b8ba1696057",
              "IPY_MODEL_1d9ffb6f05fe4d089e27118f1b73b91e"
            ],
            "layout": "IPY_MODEL_4e315ee9fa1c49c9bfd43e57427c059e"
          }
        },
        "4759c0473071432eb6c0fe79b8a6776a": {
          "model_module": "@jupyter-widgets/controls",
          "model_name": "HTMLModel",
          "model_module_version": "1.5.0",
          "state": {
            "_dom_classes": [],
            "_model_module": "@jupyter-widgets/controls",
            "_model_module_version": "1.5.0",
            "_model_name": "HTMLModel",
            "_view_count": null,
            "_view_module": "@jupyter-widgets/controls",
            "_view_module_version": "1.5.0",
            "_view_name": "HTMLView",
            "description": "",
            "description_tooltip": null,
            "layout": "IPY_MODEL_ddb3dbf1734b44ba8256f8b2208ca0af",
            "placeholder": "​",
            "style": "IPY_MODEL_fe3616cb023642188bcd85e8e29b1008",
            "value": "Loading corpus: 100%"
          }
        },
        "f893f4afe8344f3a8cb94b8ba1696057": {
          "model_module": "@jupyter-widgets/controls",
          "model_name": "FloatProgressModel",
          "model_module_version": "1.5.0",
          "state": {
            "_dom_classes": [],
            "_model_module": "@jupyter-widgets/controls",
            "_model_module_version": "1.5.0",
            "_model_name": "FloatProgressModel",
            "_view_count": null,
            "_view_module": "@jupyter-widgets/controls",
            "_view_module_version": "1.5.0",
            "_view_name": "ProgressView",
            "bar_style": "success",
            "description": "",
            "description_tooltip": null,
            "layout": "IPY_MODEL_95ac605888044f53ac2678f464c560c3",
            "max": 8841823,
            "min": 0,
            "orientation": "horizontal",
            "style": "IPY_MODEL_e239a5f578364fd7a7bc6df8fab9c643",
            "value": 8841823
          }
        },
        "1d9ffb6f05fe4d089e27118f1b73b91e": {
          "model_module": "@jupyter-widgets/controls",
          "model_name": "HTMLModel",
          "model_module_version": "1.5.0",
          "state": {
            "_dom_classes": [],
            "_model_module": "@jupyter-widgets/controls",
            "_model_module_version": "1.5.0",
            "_model_name": "HTMLModel",
            "_view_count": null,
            "_view_module": "@jupyter-widgets/controls",
            "_view_module_version": "1.5.0",
            "_view_name": "HTMLView",
            "description": "",
            "description_tooltip": null,
            "layout": "IPY_MODEL_8f646134f71b4a749d24ea82c79f83e7",
            "placeholder": "​",
            "style": "IPY_MODEL_9c1dce1b299c45829dd6e6ef7a523f6d",
            "value": " 8841823/8841823 [40:46&lt;00:00, 3956.00it/s]"
          }
        },
        "4e315ee9fa1c49c9bfd43e57427c059e": {
          "model_module": "@jupyter-widgets/base",
          "model_name": "LayoutModel",
          "model_module_version": "1.2.0",
          "state": {
            "_model_module": "@jupyter-widgets/base",
            "_model_module_version": "1.2.0",
            "_model_name": "LayoutModel",
            "_view_count": null,
            "_view_module": "@jupyter-widgets/base",
            "_view_module_version": "1.2.0",
            "_view_name": "LayoutView",
            "align_content": null,
            "align_items": null,
            "align_self": null,
            "border": null,
            "bottom": null,
            "display": null,
            "flex": null,
            "flex_flow": null,
            "grid_area": null,
            "grid_auto_columns": null,
            "grid_auto_flow": null,
            "grid_auto_rows": null,
            "grid_column": null,
            "grid_gap": null,
            "grid_row": null,
            "grid_template_areas": null,
            "grid_template_columns": null,
            "grid_template_rows": null,
            "height": null,
            "justify_content": null,
            "justify_items": null,
            "left": null,
            "margin": null,
            "max_height": null,
            "max_width": null,
            "min_height": null,
            "min_width": null,
            "object_fit": null,
            "object_position": null,
            "order": null,
            "overflow": null,
            "overflow_x": null,
            "overflow_y": null,
            "padding": null,
            "right": null,
            "top": null,
            "visibility": null,
            "width": null
          }
        },
        "ddb3dbf1734b44ba8256f8b2208ca0af": {
          "model_module": "@jupyter-widgets/base",
          "model_name": "LayoutModel",
          "model_module_version": "1.2.0",
          "state": {
            "_model_module": "@jupyter-widgets/base",
            "_model_module_version": "1.2.0",
            "_model_name": "LayoutModel",
            "_view_count": null,
            "_view_module": "@jupyter-widgets/base",
            "_view_module_version": "1.2.0",
            "_view_name": "LayoutView",
            "align_content": null,
            "align_items": null,
            "align_self": null,
            "border": null,
            "bottom": null,
            "display": null,
            "flex": null,
            "flex_flow": null,
            "grid_area": null,
            "grid_auto_columns": null,
            "grid_auto_flow": null,
            "grid_auto_rows": null,
            "grid_column": null,
            "grid_gap": null,
            "grid_row": null,
            "grid_template_areas": null,
            "grid_template_columns": null,
            "grid_template_rows": null,
            "height": null,
            "justify_content": null,
            "justify_items": null,
            "left": null,
            "margin": null,
            "max_height": null,
            "max_width": null,
            "min_height": null,
            "min_width": null,
            "object_fit": null,
            "object_position": null,
            "order": null,
            "overflow": null,
            "overflow_x": null,
            "overflow_y": null,
            "padding": null,
            "right": null,
            "top": null,
            "visibility": null,
            "width": null
          }
        },
        "fe3616cb023642188bcd85e8e29b1008": {
          "model_module": "@jupyter-widgets/controls",
          "model_name": "DescriptionStyleModel",
          "model_module_version": "1.5.0",
          "state": {
            "_model_module": "@jupyter-widgets/controls",
            "_model_module_version": "1.5.0",
            "_model_name": "DescriptionStyleModel",
            "_view_count": null,
            "_view_module": "@jupyter-widgets/base",
            "_view_module_version": "1.2.0",
            "_view_name": "StyleView",
            "description_width": ""
          }
        },
        "95ac605888044f53ac2678f464c560c3": {
          "model_module": "@jupyter-widgets/base",
          "model_name": "LayoutModel",
          "model_module_version": "1.2.0",
          "state": {
            "_model_module": "@jupyter-widgets/base",
            "_model_module_version": "1.2.0",
            "_model_name": "LayoutModel",
            "_view_count": null,
            "_view_module": "@jupyter-widgets/base",
            "_view_module_version": "1.2.0",
            "_view_name": "LayoutView",
            "align_content": null,
            "align_items": null,
            "align_self": null,
            "border": null,
            "bottom": null,
            "display": null,
            "flex": null,
            "flex_flow": null,
            "grid_area": null,
            "grid_auto_columns": null,
            "grid_auto_flow": null,
            "grid_auto_rows": null,
            "grid_column": null,
            "grid_gap": null,
            "grid_row": null,
            "grid_template_areas": null,
            "grid_template_columns": null,
            "grid_template_rows": null,
            "height": null,
            "justify_content": null,
            "justify_items": null,
            "left": null,
            "margin": null,
            "max_height": null,
            "max_width": null,
            "min_height": null,
            "min_width": null,
            "object_fit": null,
            "object_position": null,
            "order": null,
            "overflow": null,
            "overflow_x": null,
            "overflow_y": null,
            "padding": null,
            "right": null,
            "top": null,
            "visibility": null,
            "width": null
          }
        },
        "e239a5f578364fd7a7bc6df8fab9c643": {
          "model_module": "@jupyter-widgets/controls",
          "model_name": "ProgressStyleModel",
          "model_module_version": "1.5.0",
          "state": {
            "_model_module": "@jupyter-widgets/controls",
            "_model_module_version": "1.5.0",
            "_model_name": "ProgressStyleModel",
            "_view_count": null,
            "_view_module": "@jupyter-widgets/base",
            "_view_module_version": "1.2.0",
            "_view_name": "StyleView",
            "bar_color": null,
            "description_width": ""
          }
        },
        "8f646134f71b4a749d24ea82c79f83e7": {
          "model_module": "@jupyter-widgets/base",
          "model_name": "LayoutModel",
          "model_module_version": "1.2.0",
          "state": {
            "_model_module": "@jupyter-widgets/base",
            "_model_module_version": "1.2.0",
            "_model_name": "LayoutModel",
            "_view_count": null,
            "_view_module": "@jupyter-widgets/base",
            "_view_module_version": "1.2.0",
            "_view_name": "LayoutView",
            "align_content": null,
            "align_items": null,
            "align_self": null,
            "border": null,
            "bottom": null,
            "display": null,
            "flex": null,
            "flex_flow": null,
            "grid_area": null,
            "grid_auto_columns": null,
            "grid_auto_flow": null,
            "grid_auto_rows": null,
            "grid_column": null,
            "grid_gap": null,
            "grid_row": null,
            "grid_template_areas": null,
            "grid_template_columns": null,
            "grid_template_rows": null,
            "height": null,
            "justify_content": null,
            "justify_items": null,
            "left": null,
            "margin": null,
            "max_height": null,
            "max_width": null,
            "min_height": null,
            "min_width": null,
            "object_fit": null,
            "object_position": null,
            "order": null,
            "overflow": null,
            "overflow_x": null,
            "overflow_y": null,
            "padding": null,
            "right": null,
            "top": null,
            "visibility": null,
            "width": null
          }
        },
        "9c1dce1b299c45829dd6e6ef7a523f6d": {
          "model_module": "@jupyter-widgets/controls",
          "model_name": "DescriptionStyleModel",
          "model_module_version": "1.5.0",
          "state": {
            "_model_module": "@jupyter-widgets/controls",
            "_model_module_version": "1.5.0",
            "_model_name": "DescriptionStyleModel",
            "_view_count": null,
            "_view_module": "@jupyter-widgets/base",
            "_view_module_version": "1.2.0",
            "_view_name": "StyleView",
            "description_width": ""
          }
        },
        "1961f9eb1e464a83b06781f7a7a6defe": {
          "model_module": "@jupyter-widgets/controls",
          "model_name": "HBoxModel",
          "model_module_version": "1.5.0",
          "state": {
            "_dom_classes": [],
            "_model_module": "@jupyter-widgets/controls",
            "_model_module_version": "1.5.0",
            "_model_name": "HBoxModel",
            "_view_count": null,
            "_view_module": "@jupyter-widgets/controls",
            "_view_module_version": "1.5.0",
            "_view_name": "HBoxView",
            "box_style": "",
            "children": [
              "IPY_MODEL_9f5f27e45c7841d89fd06a321919e735",
              "IPY_MODEL_e4ae7e0f74164aab9f8e35138a3b971c",
              "IPY_MODEL_d9dec72d7e05479a95291f91678d1ca0"
            ],
            "layout": "IPY_MODEL_6272dc6078c54041b1d384d0bb3e99e1"
          }
        },
        "9f5f27e45c7841d89fd06a321919e735": {
          "model_module": "@jupyter-widgets/controls",
          "model_name": "HTMLModel",
          "model_module_version": "1.5.0",
          "state": {
            "_dom_classes": [],
            "_model_module": "@jupyter-widgets/controls",
            "_model_module_version": "1.5.0",
            "_model_name": "HTMLModel",
            "_view_count": null,
            "_view_module": "@jupyter-widgets/controls",
            "_view_module_version": "1.5.0",
            "_view_name": "HTMLView",
            "description": "",
            "description_tooltip": null,
            "layout": "IPY_MODEL_f8fa0fa59fe04c2c8cc3844352fee8db",
            "placeholder": "​",
            "style": "IPY_MODEL_155c9c3e8b0f43c5ae666bfd83147bc9",
            "value": "Getting scores: 100%"
          }
        },
        "e4ae7e0f74164aab9f8e35138a3b971c": {
          "model_module": "@jupyter-widgets/controls",
          "model_name": "FloatProgressModel",
          "model_module_version": "1.5.0",
          "state": {
            "_dom_classes": [],
            "_model_module": "@jupyter-widgets/controls",
            "_model_module_version": "1.5.0",
            "_model_name": "FloatProgressModel",
            "_view_count": null,
            "_view_module": "@jupyter-widgets/controls",
            "_view_module_version": "1.5.0",
            "_view_name": "ProgressView",
            "bar_style": "success",
            "description": "",
            "description_tooltip": null,
            "layout": "IPY_MODEL_00676eeb819048f99d32d9f8b390df15",
            "max": 200,
            "min": 0,
            "orientation": "horizontal",
            "style": "IPY_MODEL_dd7c237e7cd04f1eb573318bae5e3e72",
            "value": 200
          }
        },
        "d9dec72d7e05479a95291f91678d1ca0": {
          "model_module": "@jupyter-widgets/controls",
          "model_name": "HTMLModel",
          "model_module_version": "1.5.0",
          "state": {
            "_dom_classes": [],
            "_model_module": "@jupyter-widgets/controls",
            "_model_module_version": "1.5.0",
            "_model_name": "HTMLModel",
            "_view_count": null,
            "_view_module": "@jupyter-widgets/controls",
            "_view_module_version": "1.5.0",
            "_view_name": "HTMLView",
            "description": "",
            "description_tooltip": null,
            "layout": "IPY_MODEL_3d6ca02fed4c42d2a002b50ad6591f63",
            "placeholder": "​",
            "style": "IPY_MODEL_d980a173bc764c36a02ac4265ef12997",
            "value": " 200/200 [01:29&lt;00:00,  2.13it/s]"
          }
        },
        "6272dc6078c54041b1d384d0bb3e99e1": {
          "model_module": "@jupyter-widgets/base",
          "model_name": "LayoutModel",
          "model_module_version": "1.2.0",
          "state": {
            "_model_module": "@jupyter-widgets/base",
            "_model_module_version": "1.2.0",
            "_model_name": "LayoutModel",
            "_view_count": null,
            "_view_module": "@jupyter-widgets/base",
            "_view_module_version": "1.2.0",
            "_view_name": "LayoutView",
            "align_content": null,
            "align_items": null,
            "align_self": null,
            "border": null,
            "bottom": null,
            "display": null,
            "flex": null,
            "flex_flow": null,
            "grid_area": null,
            "grid_auto_columns": null,
            "grid_auto_flow": null,
            "grid_auto_rows": null,
            "grid_column": null,
            "grid_gap": null,
            "grid_row": null,
            "grid_template_areas": null,
            "grid_template_columns": null,
            "grid_template_rows": null,
            "height": null,
            "justify_content": null,
            "justify_items": null,
            "left": null,
            "margin": null,
            "max_height": null,
            "max_width": null,
            "min_height": null,
            "min_width": null,
            "object_fit": null,
            "object_position": null,
            "order": null,
            "overflow": null,
            "overflow_x": null,
            "overflow_y": null,
            "padding": null,
            "right": null,
            "top": null,
            "visibility": null,
            "width": null
          }
        },
        "f8fa0fa59fe04c2c8cc3844352fee8db": {
          "model_module": "@jupyter-widgets/base",
          "model_name": "LayoutModel",
          "model_module_version": "1.2.0",
          "state": {
            "_model_module": "@jupyter-widgets/base",
            "_model_module_version": "1.2.0",
            "_model_name": "LayoutModel",
            "_view_count": null,
            "_view_module": "@jupyter-widgets/base",
            "_view_module_version": "1.2.0",
            "_view_name": "LayoutView",
            "align_content": null,
            "align_items": null,
            "align_self": null,
            "border": null,
            "bottom": null,
            "display": null,
            "flex": null,
            "flex_flow": null,
            "grid_area": null,
            "grid_auto_columns": null,
            "grid_auto_flow": null,
            "grid_auto_rows": null,
            "grid_column": null,
            "grid_gap": null,
            "grid_row": null,
            "grid_template_areas": null,
            "grid_template_columns": null,
            "grid_template_rows": null,
            "height": null,
            "justify_content": null,
            "justify_items": null,
            "left": null,
            "margin": null,
            "max_height": null,
            "max_width": null,
            "min_height": null,
            "min_width": null,
            "object_fit": null,
            "object_position": null,
            "order": null,
            "overflow": null,
            "overflow_x": null,
            "overflow_y": null,
            "padding": null,
            "right": null,
            "top": null,
            "visibility": null,
            "width": null
          }
        },
        "155c9c3e8b0f43c5ae666bfd83147bc9": {
          "model_module": "@jupyter-widgets/controls",
          "model_name": "DescriptionStyleModel",
          "model_module_version": "1.5.0",
          "state": {
            "_model_module": "@jupyter-widgets/controls",
            "_model_module_version": "1.5.0",
            "_model_name": "DescriptionStyleModel",
            "_view_count": null,
            "_view_module": "@jupyter-widgets/base",
            "_view_module_version": "1.2.0",
            "_view_name": "StyleView",
            "description_width": ""
          }
        },
        "00676eeb819048f99d32d9f8b390df15": {
          "model_module": "@jupyter-widgets/base",
          "model_name": "LayoutModel",
          "model_module_version": "1.2.0",
          "state": {
            "_model_module": "@jupyter-widgets/base",
            "_model_module_version": "1.2.0",
            "_model_name": "LayoutModel",
            "_view_count": null,
            "_view_module": "@jupyter-widgets/base",
            "_view_module_version": "1.2.0",
            "_view_name": "LayoutView",
            "align_content": null,
            "align_items": null,
            "align_self": null,
            "border": null,
            "bottom": null,
            "display": null,
            "flex": null,
            "flex_flow": null,
            "grid_area": null,
            "grid_auto_columns": null,
            "grid_auto_flow": null,
            "grid_auto_rows": null,
            "grid_column": null,
            "grid_gap": null,
            "grid_row": null,
            "grid_template_areas": null,
            "grid_template_columns": null,
            "grid_template_rows": null,
            "height": null,
            "justify_content": null,
            "justify_items": null,
            "left": null,
            "margin": null,
            "max_height": null,
            "max_width": null,
            "min_height": null,
            "min_width": null,
            "object_fit": null,
            "object_position": null,
            "order": null,
            "overflow": null,
            "overflow_x": null,
            "overflow_y": null,
            "padding": null,
            "right": null,
            "top": null,
            "visibility": null,
            "width": null
          }
        },
        "dd7c237e7cd04f1eb573318bae5e3e72": {
          "model_module": "@jupyter-widgets/controls",
          "model_name": "ProgressStyleModel",
          "model_module_version": "1.5.0",
          "state": {
            "_model_module": "@jupyter-widgets/controls",
            "_model_module_version": "1.5.0",
            "_model_name": "ProgressStyleModel",
            "_view_count": null,
            "_view_module": "@jupyter-widgets/base",
            "_view_module_version": "1.2.0",
            "_view_name": "StyleView",
            "bar_color": null,
            "description_width": ""
          }
        },
        "3d6ca02fed4c42d2a002b50ad6591f63": {
          "model_module": "@jupyter-widgets/base",
          "model_name": "LayoutModel",
          "model_module_version": "1.2.0",
          "state": {
            "_model_module": "@jupyter-widgets/base",
            "_model_module_version": "1.2.0",
            "_model_name": "LayoutModel",
            "_view_count": null,
            "_view_module": "@jupyter-widgets/base",
            "_view_module_version": "1.2.0",
            "_view_name": "LayoutView",
            "align_content": null,
            "align_items": null,
            "align_self": null,
            "border": null,
            "bottom": null,
            "display": null,
            "flex": null,
            "flex_flow": null,
            "grid_area": null,
            "grid_auto_columns": null,
            "grid_auto_flow": null,
            "grid_auto_rows": null,
            "grid_column": null,
            "grid_gap": null,
            "grid_row": null,
            "grid_template_areas": null,
            "grid_template_columns": null,
            "grid_template_rows": null,
            "height": null,
            "justify_content": null,
            "justify_items": null,
            "left": null,
            "margin": null,
            "max_height": null,
            "max_width": null,
            "min_height": null,
            "min_width": null,
            "object_fit": null,
            "object_position": null,
            "order": null,
            "overflow": null,
            "overflow_x": null,
            "overflow_y": null,
            "padding": null,
            "right": null,
            "top": null,
            "visibility": null,
            "width": null
          }
        },
        "d980a173bc764c36a02ac4265ef12997": {
          "model_module": "@jupyter-widgets/controls",
          "model_name": "DescriptionStyleModel",
          "model_module_version": "1.5.0",
          "state": {
            "_model_module": "@jupyter-widgets/controls",
            "_model_module_version": "1.5.0",
            "_model_name": "DescriptionStyleModel",
            "_view_count": null,
            "_view_module": "@jupyter-widgets/base",
            "_view_module_version": "1.2.0",
            "_view_name": "StyleView",
            "description_width": ""
          }
        },
        "e944f3725a63444b8c6c6a0feaede758": {
          "model_module": "@jupyter-widgets/controls",
          "model_name": "HBoxModel",
          "model_module_version": "1.5.0",
          "state": {
            "_dom_classes": [],
            "_model_module": "@jupyter-widgets/controls",
            "_model_module_version": "1.5.0",
            "_model_name": "HBoxModel",
            "_view_count": null,
            "_view_module": "@jupyter-widgets/controls",
            "_view_module_version": "1.5.0",
            "_view_name": "HBoxView",
            "box_style": "",
            "children": [
              "IPY_MODEL_30bc9ee35f2c492a932cdc046787add4",
              "IPY_MODEL_5b4ae42454bb493c885a04b27b2c684c",
              "IPY_MODEL_df63f6f59a084e8fa26caa87d22e1a1a"
            ],
            "layout": "IPY_MODEL_2d9d36ebf13b4e7e90694457ebb51001"
          }
        },
        "30bc9ee35f2c492a932cdc046787add4": {
          "model_module": "@jupyter-widgets/controls",
          "model_name": "HTMLModel",
          "model_module_version": "1.5.0",
          "state": {
            "_dom_classes": [],
            "_model_module": "@jupyter-widgets/controls",
            "_model_module_version": "1.5.0",
            "_model_name": "HTMLModel",
            "_view_count": null,
            "_view_module": "@jupyter-widgets/controls",
            "_view_module_version": "1.5.0",
            "_view_name": "HTMLView",
            "description": "",
            "description_tooltip": null,
            "layout": "IPY_MODEL_b81d23e97c7c429ba84795d681221d6a",
            "placeholder": "​",
            "style": "IPY_MODEL_f5fee51fdc1948079bd9cacb0a478f4e",
            "value": "Getting scores: 100%"
          }
        },
        "5b4ae42454bb493c885a04b27b2c684c": {
          "model_module": "@jupyter-widgets/controls",
          "model_name": "FloatProgressModel",
          "model_module_version": "1.5.0",
          "state": {
            "_dom_classes": [],
            "_model_module": "@jupyter-widgets/controls",
            "_model_module_version": "1.5.0",
            "_model_name": "FloatProgressModel",
            "_view_count": null,
            "_view_module": "@jupyter-widgets/controls",
            "_view_module_version": "1.5.0",
            "_view_name": "ProgressView",
            "bar_style": "success",
            "description": "",
            "description_tooltip": null,
            "layout": "IPY_MODEL_328607a460a040749062acc8912bda28",
            "max": 200,
            "min": 0,
            "orientation": "horizontal",
            "style": "IPY_MODEL_ed5e1833366046a989ede548c400e328",
            "value": 200
          }
        },
        "df63f6f59a084e8fa26caa87d22e1a1a": {
          "model_module": "@jupyter-widgets/controls",
          "model_name": "HTMLModel",
          "model_module_version": "1.5.0",
          "state": {
            "_dom_classes": [],
            "_model_module": "@jupyter-widgets/controls",
            "_model_module_version": "1.5.0",
            "_model_name": "HTMLModel",
            "_view_count": null,
            "_view_module": "@jupyter-widgets/controls",
            "_view_module_version": "1.5.0",
            "_view_name": "HTMLView",
            "description": "",
            "description_tooltip": null,
            "layout": "IPY_MODEL_0be4b88fb4a14adba841d2f387338010",
            "placeholder": "​",
            "style": "IPY_MODEL_467345f756e048b49cd46a1600a74cba",
            "value": " 200/200 [01:47&lt;00:00,  1.81it/s]"
          }
        },
        "2d9d36ebf13b4e7e90694457ebb51001": {
          "model_module": "@jupyter-widgets/base",
          "model_name": "LayoutModel",
          "model_module_version": "1.2.0",
          "state": {
            "_model_module": "@jupyter-widgets/base",
            "_model_module_version": "1.2.0",
            "_model_name": "LayoutModel",
            "_view_count": null,
            "_view_module": "@jupyter-widgets/base",
            "_view_module_version": "1.2.0",
            "_view_name": "LayoutView",
            "align_content": null,
            "align_items": null,
            "align_self": null,
            "border": null,
            "bottom": null,
            "display": null,
            "flex": null,
            "flex_flow": null,
            "grid_area": null,
            "grid_auto_columns": null,
            "grid_auto_flow": null,
            "grid_auto_rows": null,
            "grid_column": null,
            "grid_gap": null,
            "grid_row": null,
            "grid_template_areas": null,
            "grid_template_columns": null,
            "grid_template_rows": null,
            "height": null,
            "justify_content": null,
            "justify_items": null,
            "left": null,
            "margin": null,
            "max_height": null,
            "max_width": null,
            "min_height": null,
            "min_width": null,
            "object_fit": null,
            "object_position": null,
            "order": null,
            "overflow": null,
            "overflow_x": null,
            "overflow_y": null,
            "padding": null,
            "right": null,
            "top": null,
            "visibility": null,
            "width": null
          }
        },
        "b81d23e97c7c429ba84795d681221d6a": {
          "model_module": "@jupyter-widgets/base",
          "model_name": "LayoutModel",
          "model_module_version": "1.2.0",
          "state": {
            "_model_module": "@jupyter-widgets/base",
            "_model_module_version": "1.2.0",
            "_model_name": "LayoutModel",
            "_view_count": null,
            "_view_module": "@jupyter-widgets/base",
            "_view_module_version": "1.2.0",
            "_view_name": "LayoutView",
            "align_content": null,
            "align_items": null,
            "align_self": null,
            "border": null,
            "bottom": null,
            "display": null,
            "flex": null,
            "flex_flow": null,
            "grid_area": null,
            "grid_auto_columns": null,
            "grid_auto_flow": null,
            "grid_auto_rows": null,
            "grid_column": null,
            "grid_gap": null,
            "grid_row": null,
            "grid_template_areas": null,
            "grid_template_columns": null,
            "grid_template_rows": null,
            "height": null,
            "justify_content": null,
            "justify_items": null,
            "left": null,
            "margin": null,
            "max_height": null,
            "max_width": null,
            "min_height": null,
            "min_width": null,
            "object_fit": null,
            "object_position": null,
            "order": null,
            "overflow": null,
            "overflow_x": null,
            "overflow_y": null,
            "padding": null,
            "right": null,
            "top": null,
            "visibility": null,
            "width": null
          }
        },
        "f5fee51fdc1948079bd9cacb0a478f4e": {
          "model_module": "@jupyter-widgets/controls",
          "model_name": "DescriptionStyleModel",
          "model_module_version": "1.5.0",
          "state": {
            "_model_module": "@jupyter-widgets/controls",
            "_model_module_version": "1.5.0",
            "_model_name": "DescriptionStyleModel",
            "_view_count": null,
            "_view_module": "@jupyter-widgets/base",
            "_view_module_version": "1.2.0",
            "_view_name": "StyleView",
            "description_width": ""
          }
        },
        "328607a460a040749062acc8912bda28": {
          "model_module": "@jupyter-widgets/base",
          "model_name": "LayoutModel",
          "model_module_version": "1.2.0",
          "state": {
            "_model_module": "@jupyter-widgets/base",
            "_model_module_version": "1.2.0",
            "_model_name": "LayoutModel",
            "_view_count": null,
            "_view_module": "@jupyter-widgets/base",
            "_view_module_version": "1.2.0",
            "_view_name": "LayoutView",
            "align_content": null,
            "align_items": null,
            "align_self": null,
            "border": null,
            "bottom": null,
            "display": null,
            "flex": null,
            "flex_flow": null,
            "grid_area": null,
            "grid_auto_columns": null,
            "grid_auto_flow": null,
            "grid_auto_rows": null,
            "grid_column": null,
            "grid_gap": null,
            "grid_row": null,
            "grid_template_areas": null,
            "grid_template_columns": null,
            "grid_template_rows": null,
            "height": null,
            "justify_content": null,
            "justify_items": null,
            "left": null,
            "margin": null,
            "max_height": null,
            "max_width": null,
            "min_height": null,
            "min_width": null,
            "object_fit": null,
            "object_position": null,
            "order": null,
            "overflow": null,
            "overflow_x": null,
            "overflow_y": null,
            "padding": null,
            "right": null,
            "top": null,
            "visibility": null,
            "width": null
          }
        },
        "ed5e1833366046a989ede548c400e328": {
          "model_module": "@jupyter-widgets/controls",
          "model_name": "ProgressStyleModel",
          "model_module_version": "1.5.0",
          "state": {
            "_model_module": "@jupyter-widgets/controls",
            "_model_module_version": "1.5.0",
            "_model_name": "ProgressStyleModel",
            "_view_count": null,
            "_view_module": "@jupyter-widgets/base",
            "_view_module_version": "1.2.0",
            "_view_name": "StyleView",
            "bar_color": null,
            "description_width": ""
          }
        },
        "0be4b88fb4a14adba841d2f387338010": {
          "model_module": "@jupyter-widgets/base",
          "model_name": "LayoutModel",
          "model_module_version": "1.2.0",
          "state": {
            "_model_module": "@jupyter-widgets/base",
            "_model_module_version": "1.2.0",
            "_model_name": "LayoutModel",
            "_view_count": null,
            "_view_module": "@jupyter-widgets/base",
            "_view_module_version": "1.2.0",
            "_view_name": "LayoutView",
            "align_content": null,
            "align_items": null,
            "align_self": null,
            "border": null,
            "bottom": null,
            "display": null,
            "flex": null,
            "flex_flow": null,
            "grid_area": null,
            "grid_auto_columns": null,
            "grid_auto_flow": null,
            "grid_auto_rows": null,
            "grid_column": null,
            "grid_gap": null,
            "grid_row": null,
            "grid_template_areas": null,
            "grid_template_columns": null,
            "grid_template_rows": null,
            "height": null,
            "justify_content": null,
            "justify_items": null,
            "left": null,
            "margin": null,
            "max_height": null,
            "max_width": null,
            "min_height": null,
            "min_width": null,
            "object_fit": null,
            "object_position": null,
            "order": null,
            "overflow": null,
            "overflow_x": null,
            "overflow_y": null,
            "padding": null,
            "right": null,
            "top": null,
            "visibility": null,
            "width": null
          }
        },
        "467345f756e048b49cd46a1600a74cba": {
          "model_module": "@jupyter-widgets/controls",
          "model_name": "DescriptionStyleModel",
          "model_module_version": "1.5.0",
          "state": {
            "_model_module": "@jupyter-widgets/controls",
            "_model_module_version": "1.5.0",
            "_model_name": "DescriptionStyleModel",
            "_view_count": null,
            "_view_module": "@jupyter-widgets/base",
            "_view_module_version": "1.2.0",
            "_view_name": "StyleView",
            "description_width": ""
          }
        }
      }
    },
    "gpuClass": "standard"
  },
  "cells": [
    {
      "cell_type": "markdown",
      "source": [
        "#Introduction"
      ],
      "metadata": {
        "id": "LoQYd73vHAxA"
      }
    },
    {
      "cell_type": "markdown",
      "source": [
        "This Colab notebook aims to explore three popular techniques for information retrieval: BM25, BOW, and TF-IDF. In this notebook, I will be utilizing the Pyserini library to implement the BM25 algorithm.\n",
        "\n",
        "Firstly, I will provide a simple implementation of these three techniques and assess their performance on the MsMarco subset: TRECDL-2020. By the end of this notebook, a performance comparison between the algorithms will be presented."
      ],
      "metadata": {
        "id": "DGRPQo0JE2C5"
      }
    },
    {
      "cell_type": "markdown",
      "source": [
        "Usually, when evaluating an information retrieval system, it is essential to use a standardized format to compare the results obtained by different algorithms. In this context, the Text Retrieval Conference (TREC) format is widely used. \n",
        "<br>\n",
        "<br>\n",
        "To do this, we generally use three files: (1) topics (user queries), (2) qrels (query relevance), indicating the relevant documents for each query, and (3) the run file containing the ranking information."
      ],
      "metadata": {
        "id": "y__uqWFZHGaM"
      }
    },
    {
      "cell_type": "markdown",
      "source": [
        "# BM25 - Pyserini"
      ],
      "metadata": {
        "id": "LffbcFPaEwrO"
      }
    },
    {
      "cell_type": "markdown",
      "source": [
        "Install the Pyserini library and faiss-cpu (used by Pyserini)"
      ],
      "metadata": {
        "id": "IhcgZHfKE0zq"
      }
    },
    {
      "cell_type": "code",
      "execution_count": 1,
      "metadata": {
        "colab": {
          "base_uri": "https://localhost:8080/"
        },
        "id": "hYYTcwK35gXi",
        "outputId": "44aeb88b-61bb-4b50-e498-66f365021f37"
      },
      "outputs": [
        {
          "output_type": "stream",
          "name": "stdout",
          "text": [
            "\u001b[2K     \u001b[90m━━━━━━━━━━━━━━━━━━━━━━━━━━━━━━━━━━━━━━━\u001b[0m \u001b[32m137.1/137.1 MB\u001b[0m \u001b[31m7.4 MB/s\u001b[0m eta \u001b[36m0:00:00\u001b[0m\n",
            "\u001b[2K     \u001b[90m━━━━━━━━━━━━━━━━━━━━━━━━━━━━━━━━━━━━━━━━\u001b[0m \u001b[32m13.4/13.4 MB\u001b[0m \u001b[31m52.4 MB/s\u001b[0m eta \u001b[36m0:00:00\u001b[0m\n",
            "\u001b[2K     \u001b[90m━━━━━━━━━━━━━━━━━━━━━━━━━━━━━━━━━━━━━━━━\u001b[0m \u001b[32m6.3/6.3 MB\u001b[0m \u001b[31m61.5 MB/s\u001b[0m eta \u001b[36m0:00:00\u001b[0m\n",
            "\u001b[2K     \u001b[90m━━━━━━━━━━━━━━━━━━━━━━━━━━━━━━━━━━━━━━━━\u001b[0m \u001b[32m1.3/1.3 MB\u001b[0m \u001b[31m32.8 MB/s\u001b[0m eta \u001b[36m0:00:00\u001b[0m\n",
            "\u001b[2K     \u001b[90m━━━━━━━━━━━━━━━━━━━━━━━━━━━━━━━━━━━━━━━━\u001b[0m \u001b[32m2.0/2.0 MB\u001b[0m \u001b[31m43.0 MB/s\u001b[0m eta \u001b[36m0:00:00\u001b[0m\n",
            "\u001b[2K     \u001b[90m━━━━━━━━━━━━━━━━━━━━━━━━━━━━━━━━━━━━━━━━\u001b[0m \u001b[32m1.5/1.5 MB\u001b[0m \u001b[31m27.8 MB/s\u001b[0m eta \u001b[36m0:00:00\u001b[0m\n",
            "\u001b[2K     \u001b[90m━━━━━━━━━━━━━━━━━━━━━━━━━━━━━━━━━━━━━━━━\u001b[0m \u001b[32m5.0/5.0 MB\u001b[0m \u001b[31m64.9 MB/s\u001b[0m eta \u001b[36m0:00:00\u001b[0m\n",
            "\u001b[2K     \u001b[90m━━━━━━━━━━━━━━━━━━━━━━━━━━━━━━━━━━━━━━━━\u001b[0m \u001b[32m12.2/12.2 MB\u001b[0m \u001b[31m49.3 MB/s\u001b[0m eta \u001b[36m0:00:00\u001b[0m\n",
            "\u001b[2K     \u001b[90m━━━━━━━━━━━━━━━━━━━━━━━━━━━━━━━━━━━━━━━\u001b[0m \u001b[32m188.5/188.5 KB\u001b[0m \u001b[31m9.9 MB/s\u001b[0m eta \u001b[36m0:00:00\u001b[0m\n",
            "\u001b[2K     \u001b[90m━━━━━━━━━━━━━━━━━━━━━━━━━━━━━━━━━━━━━━━\u001b[0m \u001b[32m46.0/46.0 KB\u001b[0m \u001b[31m955.9 kB/s\u001b[0m eta \u001b[36m0:00:00\u001b[0m\n",
            "\u001b[2K     \u001b[90m━━━━━━━━━━━━━━━━━━━━━━━━━━━━━━━━━━━━━━━\u001b[0m \u001b[32m190.3/190.3 KB\u001b[0m \u001b[31m9.9 MB/s\u001b[0m eta \u001b[36m0:00:00\u001b[0m\n",
            "\u001b[2K     \u001b[90m━━━━━━━━━━━━━━━━━━━━━━━━━━━━━━━━━━━━━━━━\u001b[0m \u001b[32m7.6/7.6 MB\u001b[0m \u001b[31m65.3 MB/s\u001b[0m eta \u001b[36m0:00:00\u001b[0m\n",
            "\u001b[2K     \u001b[90m━━━━━━━━━━━━━━━━━━━━━━━━━━━━━━━━━━━━━━━━\u001b[0m \u001b[32m86.8/86.8 KB\u001b[0m \u001b[31m4.9 MB/s\u001b[0m eta \u001b[36m0:00:00\u001b[0m\n",
            "\u001b[2K     \u001b[90m━━━━━━━━━━━━━━━━━━━━━━━━━━━━━━━━━━━━━━━━\u001b[0m \u001b[32m8.6/8.6 MB\u001b[0m \u001b[31m61.1 MB/s\u001b[0m eta \u001b[36m0:00:00\u001b[0m\n",
            "\u001b[?25h"
          ]
        }
      ],
      "source": [
        "!pip install pyserini -q\n",
        "!pip install faiss-cpu==1.7.2 -q"
      ]
    },
    {
      "cell_type": "markdown",
      "source": [
        "The first step is to get the topics dictionary containing the query IDs and text"
      ],
      "metadata": {
        "id": "PtJyW5WyG8uM"
      }
    },
    {
      "cell_type": "code",
      "source": [
        "from pyserini.search import get_topics\n",
        "\n",
        "topics = get_topics('dl20')"
      ],
      "metadata": {
        "id": "NTyRqo4R5lz0"
      },
      "execution_count": 2,
      "outputs": []
    },
    {
      "cell_type": "code",
      "source": [
        "# topics HEAD\n",
        "dict(list(topics.items())[:10])"
      ],
      "metadata": {
        "colab": {
          "base_uri": "https://localhost:8080/"
        },
        "id": "dk2drcCiHe7Y",
        "outputId": "cd46bf62-95df-4d61-cfe4-e22558f273e2"
      },
      "execution_count": 3,
      "outputs": [
        {
          "output_type": "execute_result",
          "data": {
            "text/plain": [
              "{735922: {'title': 'what is crimp oil'},\n",
              " 23849: {'title': 'are naturalization records public information'},\n",
              " 514096: {'title': 'the after hours clinic'},\n",
              " 156498: {'title': 'do google docs auto save'},\n",
              " 258062: {'title': 'how long does it take to remove wisdom tooth'},\n",
              " 703782: {'title': 'what is a torn disc'},\n",
              " 1071750: {'title': 'why is pete rose banned from hall of fame'},\n",
              " 436707: {'title': 'largest known insects'},\n",
              " 1117817: {'title': 'what does unauthorized act in writing mean'},\n",
              " 1135268: {'title': 'antibiotics for what kind of infection'}}"
            ]
          },
          "metadata": {},
          "execution_count": 3
        }
      ]
    },
    {
      "cell_type": "markdown",
      "source": [
        "The second step is to download a pre-built index version of the MsMarco-Passage dataset that contains the documents we want to rank. This can be accomplished by creating a LuceneSearcher object."
      ],
      "metadata": {
        "id": "_1luIuPbIZDT"
      }
    },
    {
      "cell_type": "code",
      "source": [
        "from pyserini.search.lucene import LuceneSearcher\n",
        "\n",
        "searcher = LuceneSearcher.from_prebuilt_index('msmarco-passage')"
      ],
      "metadata": {
        "id": "Vo1C5KMQ6VlU",
        "colab": {
          "base_uri": "https://localhost:8080/"
        },
        "outputId": "f320b6ff-7626-4894-8780-33e8ccc395c0"
      },
      "execution_count": 4,
      "outputs": [
        {
          "output_type": "stream",
          "name": "stdout",
          "text": [
            "Downloading index at https://rgw.cs.uwaterloo.ca/pyserini/indexes/index-msmarco-passage-20201117-f87c94.tar.gz...\n"
          ]
        },
        {
          "output_type": "stream",
          "name": "stderr",
          "text": [
            "index-msmarco-passage-20201117-f87c94.tar.gz: 2.07GB [01:20, 27.7MB/s]                            \n"
          ]
        }
      ]
    },
    {
      "cell_type": "markdown",
      "source": [
        "Now, performing the information retrieval, we need to format and output the results in a way that can be evaluated using standard metrics. To achieve this, we create a RUN file in the TREC format, which specifies the ranking of documents for each query in the evaluation dataset. This allows us to compare the performance of different techniques using established evaluation measures.\n",
        "<br>\n",
        "<br>\n",
        "TREC format:\n",
        "<br>\n",
        "`topic_id Q0 doc_id rank score label `"
      ],
      "metadata": {
        "id": "kS8iOG1hI_I1"
      }
    },
    {
      "cell_type": "code",
      "source": [
        "from tqdm.notebook import tqdm\n",
        "\n",
        "def get_run(path: str, topics: dict, top_k: int, searcher):\n",
        "    with open(path, 'w') as fout:\n",
        "        for id in tqdm(topics, desc=\"Running queries\"):\n",
        "            query = topics[id]['title']\n",
        "            hits = searcher.search(query, top_k)\n",
        "            for idx, hit in enumerate(hits):\n",
        "              fout.write(f\"{id}\\tQ0\\t{hit.docid}\\t{idx+1}\\t{hit.score}\\tBM25\\n\")"
      ],
      "metadata": {
        "id": "rMtpmMv_6QPH"
      },
      "execution_count": 5,
      "outputs": []
    },
    {
      "cell_type": "code",
      "source": [
        "get_run('run-msmarco-bm25.tsv', topics, 1000, searcher)"
      ],
      "metadata": {
        "colab": {
          "base_uri": "https://localhost:8080/",
          "height": 49,
          "referenced_widgets": [
            "2f13cea0734b4b30a3b0ccafb3477f68",
            "c594ce904e494cb4878153424e792896",
            "58c356c1349045e5b70d4a0e3fe169c5",
            "2f9851f8cbcc49f6ba05e390c272f171",
            "e5995cb0e1744f84be5717d227653411",
            "0a1539a11a704b8a957064df29d97fa9",
            "26c485b9d10544cba996f947a529d999",
            "a0829dab89dc4e06bedd7fce2fc05d0b",
            "f287c42fba3d4e5cbfd636bb9ce08903",
            "197f77160bfa4872a0a52e1c28f47092",
            "8a849b68cf15483abdeff0c8311284d7"
          ]
        },
        "id": "ImW0cH9q7fCp",
        "outputId": "7063e8cc-25db-484a-9ca2-fb4d6a335461"
      },
      "execution_count": 6,
      "outputs": [
        {
          "output_type": "display_data",
          "data": {
            "text/plain": [
              "Running queries:   0%|          | 0/200 [00:00<?, ?it/s]"
            ],
            "application/vnd.jupyter.widget-view+json": {
              "version_major": 2,
              "version_minor": 0,
              "model_id": "2f13cea0734b4b30a3b0ccafb3477f68"
            }
          },
          "metadata": {}
        }
      ]
    },
    {
      "cell_type": "markdown",
      "source": [
        "# Corpus\n",
        "\n",
        "Downloads the MSMarco corpus"
      ],
      "metadata": {
        "id": "nRDqoc0VKUt6"
      }
    },
    {
      "cell_type": "code",
      "source": [
        "# Downloads the MsMarco dataset\n",
        "!wget https://msmarco.blob.core.windows.net/msmarcoranking/collectionandqueries.tar.gz -P collections/msmarco-passage\n",
        "!tar xvfz collections/msmarco-passage/collectionandqueries.tar.gz -C collections/msmarco-passage"
      ],
      "metadata": {
        "colab": {
          "base_uri": "https://localhost:8080/"
        },
        "id": "6Zs5A3Lodfne",
        "outputId": "9017b72e-6812-4bbe-89f9-d2890cdc816d"
      },
      "execution_count": 7,
      "outputs": [
        {
          "output_type": "stream",
          "name": "stdout",
          "text": [
            "--2023-03-07 21:06:43--  https://msmarco.blob.core.windows.net/msmarcoranking/collectionandqueries.tar.gz\n",
            "Resolving msmarco.blob.core.windows.net (msmarco.blob.core.windows.net)... 20.150.34.4\n",
            "Connecting to msmarco.blob.core.windows.net (msmarco.blob.core.windows.net)|20.150.34.4|:443... connected.\n",
            "HTTP request sent, awaiting response... 200 OK\n",
            "Length: 1057717952 (1009M) [application/gzip]\n",
            "Saving to: ‘collections/msmarco-passage/collectionandqueries.tar.gz’\n",
            "\n",
            "collectionandquerie 100%[===================>]   1009M  6.79MB/s    in 2m 58s  \n",
            "\n",
            "2023-03-07 21:09:42 (5.66 MB/s) - ‘collections/msmarco-passage/collectionandqueries.tar.gz’ saved [1057717952/1057717952]\n",
            "\n",
            "collection.tsv\n",
            "qrels.dev.small.tsv\n",
            "qrels.train.tsv\n",
            "queries.dev.small.tsv\n",
            "queries.dev.tsv\n",
            "queries.eval.small.tsv\n",
            "queries.eval.tsv\n",
            "queries.train.tsv\n"
          ]
        }
      ]
    },
    {
      "cell_type": "code",
      "source": [
        "# Number of documents (MsMarco)\n",
        "!wc -l /content/collections/msmarco-passage/collection.tsv"
      ],
      "metadata": {
        "colab": {
          "base_uri": "https://localhost:8080/"
        },
        "id": "PlQrHm7qefJe",
        "outputId": "23c2d0a1-f876-417c-e619-a9690f98c022"
      },
      "execution_count": 8,
      "outputs": [
        {
          "output_type": "stream",
          "name": "stdout",
          "text": [
            "8841823 /content/collections/msmarco-passage/collection.tsv\n"
          ]
        }
      ]
    },
    {
      "cell_type": "markdown",
      "source": [
        "Uses nltk to get a list of stopwords to filter during the indexing"
      ],
      "metadata": {
        "id": "GrpaLHpKuj6d"
      }
    },
    {
      "cell_type": "code",
      "source": [
        "import nltk\n",
        "nltk.download('stopwords') # downloads the stopwords dataset\n",
        "from nltk.corpus import stopwords"
      ],
      "metadata": {
        "colab": {
          "base_uri": "https://localhost:8080/"
        },
        "id": "I4kK-TzktrxV",
        "outputId": "87d27601-0a8c-4451-dcda-04031e17059c"
      },
      "execution_count": 9,
      "outputs": [
        {
          "output_type": "stream",
          "name": "stderr",
          "text": [
            "[nltk_data] Downloading package stopwords to /root/nltk_data...\n",
            "[nltk_data]   Unzipping corpora/stopwords.zip.\n"
          ]
        }
      ]
    },
    {
      "cell_type": "code",
      "source": [
        "from collections import defaultdict\n",
        "from tqdm.notebook import tqdm\n",
        "from spacy.lang.en import English\n",
        "\n",
        "\n",
        "class Dataloader():\n",
        "  def __init__(self, corpus_path: str):\n",
        "    self.corpus = corpus_path\n",
        "    self.stop_words = set(stopwords.words('english'))\n",
        "    self.inverted_index = defaultdict(lambda: defaultdict(int))\n",
        "    self.nlp = English()\n",
        "    self.load_corpus(corpus_path)\n",
        "\n",
        "  def filter_stop_words(self, words: list):\n",
        "    return [word for word in words if word not in self.stop_words]\n",
        "\n",
        "  def tokenize(self, document: str):\n",
        "    doc = self.nlp(document)\n",
        "    return [str(token.text).lower() for token in doc if not token.is_punct]\n",
        "\n",
        "  def load_corpus(self, corpus: str):\n",
        "    '''\n",
        "    Each line of the corpus file represents one document.\n",
        "    '''\n",
        "    count = 0\n",
        "    with open(corpus, \"r\") as file:\n",
        "      for line in tqdm(file, desc=\"Loading corpus\", total=8841823):\n",
        "        count += 1\n",
        "        id, content = line.strip().split(\"\\t\")\n",
        "        tokens = self.tokenize(content)\n",
        "        filtered_tokens = self.filter_stop_words(tokens)\n",
        "        for token in filtered_tokens:\n",
        "            self.inverted_index[token][str(id)] += 1\n",
        "    self.corpus_length = count"
      ],
      "metadata": {
        "id": "2dnh3ftCt-rD",
        "colab": {
          "base_uri": "https://localhost:8080/"
        },
        "outputId": "1caa6a2d-8396-40d1-b447-d8572ca4b012"
      },
      "execution_count": 10,
      "outputs": [
        {
          "output_type": "stream",
          "name": "stderr",
          "text": [
            "/usr/local/lib/python3.8/dist-packages/torch/cuda/__init__.py:497: UserWarning: Can't initialize NVML\n",
            "  warnings.warn(\"Can't initialize NVML\")\n"
          ]
        }
      ]
    },
    {
      "cell_type": "code",
      "source": [
        "dataset = Dataloader(\"/content/collections/msmarco-passage/collection.tsv\")"
      ],
      "metadata": {
        "colab": {
          "base_uri": "https://localhost:8080/",
          "height": 49,
          "referenced_widgets": [
            "5f6ccaedb78b48d3a4de2f55f4ad87c9",
            "4759c0473071432eb6c0fe79b8a6776a",
            "f893f4afe8344f3a8cb94b8ba1696057",
            "1d9ffb6f05fe4d089e27118f1b73b91e",
            "4e315ee9fa1c49c9bfd43e57427c059e",
            "ddb3dbf1734b44ba8256f8b2208ca0af",
            "fe3616cb023642188bcd85e8e29b1008",
            "95ac605888044f53ac2678f464c560c3",
            "e239a5f578364fd7a7bc6df8fab9c643",
            "8f646134f71b4a749d24ea82c79f83e7",
            "9c1dce1b299c45829dd6e6ef7a523f6d"
          ]
        },
        "id": "sQejz1yJYsRR",
        "outputId": "34f39c5e-96c6-4a61-a649-3021d3d1f46a"
      },
      "execution_count": 11,
      "outputs": [
        {
          "output_type": "display_data",
          "data": {
            "text/plain": [
              "Loading corpus:   0%|          | 0/8841823 [00:00<?, ?it/s]"
            ],
            "application/vnd.jupyter.widget-view+json": {
              "version_major": 2,
              "version_minor": 0,
              "model_id": "5f6ccaedb78b48d3a4de2f55f4ad87c9"
            }
          },
          "metadata": {}
        }
      ]
    },
    {
      "cell_type": "code",
      "source": [
        "# RAM usage so far\n",
        "!free -h"
      ],
      "metadata": {
        "colab": {
          "base_uri": "https://localhost:8080/"
        },
        "id": "EYWsMPxkvciA",
        "outputId": "022d7db4-d50a-4ae9-cebf-1749c5b3f2b1"
      },
      "execution_count": 12,
      "outputs": [
        {
          "output_type": "stream",
          "name": "stdout",
          "text": [
            "              total        used        free      shared  buff/cache   available\n",
            "Mem:           25Gi        15Gi       388Mi       1.0Mi       9.5Gi       9.5Gi\n",
            "Swap:            0B          0B          0B\n"
          ]
        }
      ]
    },
    {
      "cell_type": "markdown",
      "source": [
        "# BoW\n",
        "The Bag of Words (BoW) technique is a common approach used in search engines to represent documents as vectors of word frequencies. In this technique, a document is first pre-processed to remove stop words, punctuation, and other noise. When a query is entered into the search engine, it is also converted into a vector using the same BoW technique. The search engine then computes the similarity between the query vector and each document vector, returning the documents that are most similar to the query. The BoW technique is simple yet effective, but it has limitations, such as ignoring the order of words and not considering the meaning of words in context. \n",
        "\n",
        "The implementation below uses the inverted index to speed up the search."
      ],
      "metadata": {
        "id": "11IMW12Szzg2"
      }
    },
    {
      "cell_type": "code",
      "source": [
        "class BoW():\n",
        "    def __init__(self, dataset, topics, run_path):\n",
        "        self.dataset = dataset\n",
        "        self.nlp = English()\n",
        "        self.stop_words = set(stopwords.words('english'))\n",
        "        self.get_run(topics, run_path)\n",
        "\n",
        "    def get_score(self, query):\n",
        "        \"\"\"\n",
        "        Get the scores for a given query.\n",
        "        Args:\n",
        "            query: the query being searched\n",
        "        \"\"\"\n",
        "        query = self.nlp(query)\n",
        "        tokens = set([str(token.text).lower() for token in query if not token.is_punct])\n",
        "        # Remove stopwords\n",
        "        filtered_tokens = [token for token in tokens if token not in self.stop_words]\n",
        "        scores = defaultdict(int)\n",
        "        for token in filtered_tokens:\n",
        "            # A document score is the sum of all token frequencies that\n",
        "            # occur in the query\n",
        "            for doc in self.dataset.inverted_index[token].keys():\n",
        "                scores[doc] += self.dataset.inverted_index[token][doc] \n",
        "        return scores\n",
        "\n",
        "    def get_run(self, topics, run_path):\n",
        "        \"\"\"\n",
        "        Creates a TREC run.\n",
        "        Args:\n",
        "            topics: file containing all queries\n",
        "            run_path: path to save the RUN\n",
        "        \"\"\"\n",
        "        with open(run_path, \"w\") as fout:\n",
        "            for qid, query in tqdm(topics.items(), desc=\"Getting scores\"):\n",
        "                scores = self.get_score(query[\"title\"])\n",
        "                sorted_docs = sorted(scores.items(), key=lambda item: item[1], reverse=True)[:1000]\n",
        "                count = 0\n",
        "                for docid, score in sorted_docs:\n",
        "                    count += 1\n",
        "                    fout.write(f\"{qid}\\tQ0\\t{docid}\\t{count}\\t{score}\\tBoW\\n\")\n"
      ],
      "metadata": {
        "id": "IggbzR5bt070"
      },
      "execution_count": 13,
      "outputs": []
    },
    {
      "cell_type": "code",
      "source": [
        "bow = BoW(dataset, topics, \"BoW_run.tsv\")"
      ],
      "metadata": {
        "colab": {
          "base_uri": "https://localhost:8080/",
          "height": 49,
          "referenced_widgets": [
            "1961f9eb1e464a83b06781f7a7a6defe",
            "9f5f27e45c7841d89fd06a321919e735",
            "e4ae7e0f74164aab9f8e35138a3b971c",
            "d9dec72d7e05479a95291f91678d1ca0",
            "6272dc6078c54041b1d384d0bb3e99e1",
            "f8fa0fa59fe04c2c8cc3844352fee8db",
            "155c9c3e8b0f43c5ae666bfd83147bc9",
            "00676eeb819048f99d32d9f8b390df15",
            "dd7c237e7cd04f1eb573318bae5e3e72",
            "3d6ca02fed4c42d2a002b50ad6591f63",
            "d980a173bc764c36a02ac4265ef12997"
          ]
        },
        "id": "TvDnXwHX7p6M",
        "outputId": "072a9a70-6d88-4669-904a-9cdb7174d986"
      },
      "execution_count": 14,
      "outputs": [
        {
          "output_type": "display_data",
          "data": {
            "text/plain": [
              "Getting scores:   0%|          | 0/200 [00:00<?, ?it/s]"
            ],
            "application/vnd.jupyter.widget-view+json": {
              "version_major": 2,
              "version_minor": 0,
              "model_id": "1961f9eb1e464a83b06781f7a7a6defe"
            }
          },
          "metadata": {}
        }
      ]
    },
    {
      "cell_type": "code",
      "source": [
        "# RAM Usage\n",
        "!free -h"
      ],
      "metadata": {
        "id": "qWkXwtGd4W52",
        "colab": {
          "base_uri": "https://localhost:8080/"
        },
        "outputId": "2eacd8dd-92f4-4a39-98cb-217e4f39ab03"
      },
      "execution_count": 15,
      "outputs": [
        {
          "output_type": "stream",
          "name": "stdout",
          "text": [
            "              total        used        free      shared  buff/cache   available\n",
            "Mem:           25Gi        15Gi       420Mi       1.0Mi       9.4Gi       9.5Gi\n",
            "Swap:            0B          0B          0B\n"
          ]
        }
      ]
    },
    {
      "cell_type": "markdown",
      "source": [
        "# TF-IDF\n",
        "\n",
        "The idea behind TF-IDF is to give more weight to terms that are rare in a collection of documents and more informative about the content. The technique first calculates the term frequency (TF) of each term in a document, which represents the number of times the term appears in the document. The inverse document frequency (IDF) is then computed for each term, which measures how rare the term is in the entire collection of documents. The final TF-IDF weight for a term is the product of its TF and IDF values. This way, terms that are common in a document but also common across the collection of documents will have lower weights than terms that are rare in the collection but appear frequently in a particular document."
      ],
      "metadata": {
        "id": "W17YiKRzznUM"
      }
    },
    {
      "cell_type": "code",
      "source": [
        "import math\n",
        "import time\n",
        "\n",
        "class TFIDF:\n",
        "    def __init__(self, dataset, topics, run_path):\n",
        "        self.dataset = dataset\n",
        "        self.nlp = English()\n",
        "        self.stop_words = set(stopwords.words('english'))\n",
        "        self.dataset_length = dataset.corpus_length\n",
        "        self.scores = self.get_run(topics, run_path)\n",
        "\n",
        "    def get_score(self, query: str):\n",
        "        \"\"\"\n",
        "        Computes the score for a given query\n",
        "        Args:\n",
        "            query: the query being searched\n",
        "        Returns:\n",
        "            a dict containing all document scores\n",
        "        \"\"\"\n",
        "        query = self.nlp(query)\n",
        "        tokens = set([str(token.text).lower() for token in query if not token.is_punct])\n",
        "        # Removes the stopwords\n",
        "        filtered_tokens = [token for token in tokens if token not in self.stop_words]\n",
        "        scores = defaultdict(int)\n",
        "        for token in filtered_tokens:\n",
        "            # Number of documents with this token\n",
        "            num_docs = len(self.dataset.inverted_index[token])\n",
        "            idf = math.log(self.dataset_length / (1 + num_docs))\n",
        "            for doc in self.dataset.inverted_index[token].keys():\n",
        "                tf = self.dataset.inverted_index[token][doc]\n",
        "                scores[doc] += tf*idf\n",
        "        return scores\n",
        "\n",
        "    def get_run(self, topics, run_path):\n",
        "        \"\"\"\n",
        "        Creates a TREC run.\n",
        "        Args:\n",
        "            topics: file containing all queries\n",
        "            run_path: path to save the RUN\n",
        "        \"\"\"\n",
        "        with open(run_path, \"w\") as fout:\n",
        "            for qid, query in tqdm(topics.items(), desc=\"Getting scores\"):\n",
        "                scores = self.get_score(query[\"title\"])\n",
        "                sorted_docs = sorted(scores.items(), key=lambda item: item[1], reverse=True)[:1000]\n",
        "                count = 0\n",
        "                for docid, score in sorted_docs:\n",
        "                    count += 1\n",
        "                    fout.write(f\"{qid}\\tQ0\\t{docid}\\t{count}\\t{score}\\tTF-IDF\\n\")\n"
      ],
      "metadata": {
        "id": "kiyim0pazozr"
      },
      "execution_count": 16,
      "outputs": []
    },
    {
      "cell_type": "code",
      "source": [
        "tf_idf = TFIDF(dataset, topics, \"tfidf_run.tsv\")"
      ],
      "metadata": {
        "colab": {
          "base_uri": "https://localhost:8080/",
          "height": 49,
          "referenced_widgets": [
            "e944f3725a63444b8c6c6a0feaede758",
            "30bc9ee35f2c492a932cdc046787add4",
            "5b4ae42454bb493c885a04b27b2c684c",
            "df63f6f59a084e8fa26caa87d22e1a1a",
            "2d9d36ebf13b4e7e90694457ebb51001",
            "b81d23e97c7c429ba84795d681221d6a",
            "f5fee51fdc1948079bd9cacb0a478f4e",
            "328607a460a040749062acc8912bda28",
            "ed5e1833366046a989ede548c400e328",
            "0be4b88fb4a14adba841d2f387338010",
            "467345f756e048b49cd46a1600a74cba"
          ]
        },
        "id": "ePRA9mku_ZLD",
        "outputId": "6ede1d51-c273-4ddb-d21b-00001fcf45bd"
      },
      "execution_count": 17,
      "outputs": [
        {
          "output_type": "display_data",
          "data": {
            "text/plain": [
              "Getting scores:   0%|          | 0/200 [00:00<?, ?it/s]"
            ],
            "application/vnd.jupyter.widget-view+json": {
              "version_major": 2,
              "version_minor": 0,
              "model_id": "e944f3725a63444b8c6c6a0feaede758"
            }
          },
          "metadata": {}
        }
      ]
    },
    {
      "cell_type": "code",
      "source": [
        "# RAM Usage\n",
        "!free -h"
      ],
      "metadata": {
        "id": "tIo7pcq-4b23",
        "colab": {
          "base_uri": "https://localhost:8080/"
        },
        "outputId": "373fbfb9-83ff-4682-80db-e2e6de7195c1"
      },
      "execution_count": 18,
      "outputs": [
        {
          "output_type": "stream",
          "name": "stdout",
          "text": [
            "              total        used        free      shared  buff/cache   available\n",
            "Mem:           25Gi        15Gi       426Mi       1.0Mi       9.4Gi       9.4Gi\n",
            "Swap:            0B          0B          0B\n"
          ]
        }
      ]
    },
    {
      "cell_type": "markdown",
      "source": [
        "# Evaluation\n",
        "Finally, to assess the performance of BM25, we calculate the normalized discounted cumulative gain (nDCG) at rank 10 for the queries in our evaluation dataset. A value of 1 indicates perfect ranking, while lower values indicate poorer performance. By evaluating our system using the nDCG@10 metric, we can compare its performance to other systems and determine whether it is effective for the given task."
      ],
      "metadata": {
        "id": "bL7h1l4UCanC"
      }
    },
    {
      "cell_type": "code",
      "source": [
        "!python -m pyserini.eval.trec_eval -c -m ndcg_cut.10 -mmap -l 2 dl20-passage run-msmarco-bm25.tsv"
      ],
      "metadata": {
        "colab": {
          "base_uri": "https://localhost:8080/"
        },
        "id": "ZqBkFiAS72M-",
        "outputId": "2569c722-6ad0-47f5-f60b-817a565b4627"
      },
      "execution_count": 19,
      "outputs": [
        {
          "output_type": "stream",
          "name": "stdout",
          "text": [
            "2023-03-07 21:54:29.593457: W tensorflow/compiler/xla/stream_executor/platform/default/dso_loader.cc:64] Could not load dynamic library 'libnvinfer.so.7'; dlerror: libnvinfer.so.7: cannot open shared object file: No such file or directory; LD_LIBRARY_PATH: /usr/local/nvidia/lib:/usr/local/nvidia/lib64\n",
            "2023-03-07 21:54:29.593670: W tensorflow/compiler/xla/stream_executor/platform/default/dso_loader.cc:64] Could not load dynamic library 'libnvinfer_plugin.so.7'; dlerror: libnvinfer_plugin.so.7: cannot open shared object file: No such file or directory; LD_LIBRARY_PATH: /usr/local/nvidia/lib:/usr/local/nvidia/lib64\n",
            "2023-03-07 21:54:29.593697: W tensorflow/compiler/tf2tensorrt/utils/py_utils.cc:38] TF-TRT Warning: Cannot dlopen some TensorRT libraries. If you would like to use Nvidia GPU with TensorRT, please make sure the missing libraries mentioned above are installed properly.\n",
            "Downloading https://search.maven.org/remotecontent?filepath=uk/ac/gla/dcs/terrierteam/jtreceval/0.0.5/jtreceval-0.0.5-jar-with-dependencies.jar to /root/.cache/pyserini/eval/jtreceval-0.0.5-jar-with-dependencies.jar...\n",
            "jtreceval-0.0.5-jar-with-dependencies.jar: 1.79MB [00:00, 4.19MB/s]                \n",
            "Running command: ['java', '-jar', '/root/.cache/pyserini/eval/jtreceval-0.0.5-jar-with-dependencies.jar', '-c', '-m', 'ndcg_cut.10', '-mmap', '-l', '2', '/root/.cache/pyserini/topics-and-qrels/qrels.dl20-passage.txt', 'run-msmarco-bm25.tsv']\n",
            "Results:\n",
            "map                   \tall\t0.2857\n",
            "ndcg_cut_10           \tall\t0.4803\n"
          ]
        }
      ]
    },
    {
      "cell_type": "markdown",
      "source": [
        "## TF-IDF"
      ],
      "metadata": {
        "id": "NlKEc87aCcux"
      }
    },
    {
      "cell_type": "code",
      "source": [
        "!python -m pyserini.eval.trec_eval -c -m ndcg_cut.10 -mmap -l 2 dl20-passage tfidf_run.tsv"
      ],
      "metadata": {
        "colab": {
          "base_uri": "https://localhost:8080/"
        },
        "id": "5Gjq7QAvBasZ",
        "outputId": "b8b7cda5-f895-4cee-be39-c52fae9be473"
      },
      "execution_count": 20,
      "outputs": [
        {
          "output_type": "stream",
          "name": "stdout",
          "text": [
            "2023-03-07 21:54:41.570157: W tensorflow/compiler/xla/stream_executor/platform/default/dso_loader.cc:64] Could not load dynamic library 'libnvinfer.so.7'; dlerror: libnvinfer.so.7: cannot open shared object file: No such file or directory; LD_LIBRARY_PATH: /usr/local/nvidia/lib:/usr/local/nvidia/lib64\n",
            "2023-03-07 21:54:41.570281: W tensorflow/compiler/xla/stream_executor/platform/default/dso_loader.cc:64] Could not load dynamic library 'libnvinfer_plugin.so.7'; dlerror: libnvinfer_plugin.so.7: cannot open shared object file: No such file or directory; LD_LIBRARY_PATH: /usr/local/nvidia/lib:/usr/local/nvidia/lib64\n",
            "2023-03-07 21:54:41.570303: W tensorflow/compiler/tf2tensorrt/utils/py_utils.cc:38] TF-TRT Warning: Cannot dlopen some TensorRT libraries. If you would like to use Nvidia GPU with TensorRT, please make sure the missing libraries mentioned above are installed properly.\n",
            "Downloading https://search.maven.org/remotecontent?filepath=uk/ac/gla/dcs/terrierteam/jtreceval/0.0.5/jtreceval-0.0.5-jar-with-dependencies.jar to /root/.cache/pyserini/eval/jtreceval-0.0.5-jar-with-dependencies.jar...\n",
            "/root/.cache/pyserini/eval/jtreceval-0.0.5-jar-with-dependencies.jar already exists!\n",
            "Skipping download.\n",
            "Running command: ['java', '-jar', '/root/.cache/pyserini/eval/jtreceval-0.0.5-jar-with-dependencies.jar', '-c', '-m', 'ndcg_cut.10', '-mmap', '-l', '2', '/root/.cache/pyserini/topics-and-qrels/qrels.dl20-passage.txt', 'tfidf_run.tsv']\n",
            "Results:\n",
            "map                   \tall\t0.0702\n",
            "ndcg_cut_10           \tall\t0.1239\n"
          ]
        }
      ]
    },
    {
      "cell_type": "markdown",
      "source": [
        "## BoW"
      ],
      "metadata": {
        "id": "CmZJ7ZfdCe21"
      }
    },
    {
      "cell_type": "code",
      "source": [
        "!python -m pyserini.eval.trec_eval -c -m ndcg_cut.10 -mmap -l 2 dl20-passage BoW_run.tsv"
      ],
      "metadata": {
        "colab": {
          "base_uri": "https://localhost:8080/"
        },
        "id": "3wAxwZ2pxavx",
        "outputId": "13cdef3a-71e7-4988-8e74-f555c7c0a34f"
      },
      "execution_count": 21,
      "outputs": [
        {
          "output_type": "stream",
          "name": "stdout",
          "text": [
            "2023-03-07 21:54:52.997346: W tensorflow/compiler/xla/stream_executor/platform/default/dso_loader.cc:64] Could not load dynamic library 'libnvinfer.so.7'; dlerror: libnvinfer.so.7: cannot open shared object file: No such file or directory; LD_LIBRARY_PATH: /usr/local/nvidia/lib:/usr/local/nvidia/lib64\n",
            "2023-03-07 21:54:52.997469: W tensorflow/compiler/xla/stream_executor/platform/default/dso_loader.cc:64] Could not load dynamic library 'libnvinfer_plugin.so.7'; dlerror: libnvinfer_plugin.so.7: cannot open shared object file: No such file or directory; LD_LIBRARY_PATH: /usr/local/nvidia/lib:/usr/local/nvidia/lib64\n",
            "2023-03-07 21:54:52.997488: W tensorflow/compiler/tf2tensorrt/utils/py_utils.cc:38] TF-TRT Warning: Cannot dlopen some TensorRT libraries. If you would like to use Nvidia GPU with TensorRT, please make sure the missing libraries mentioned above are installed properly.\n",
            "Downloading https://search.maven.org/remotecontent?filepath=uk/ac/gla/dcs/terrierteam/jtreceval/0.0.5/jtreceval-0.0.5-jar-with-dependencies.jar to /root/.cache/pyserini/eval/jtreceval-0.0.5-jar-with-dependencies.jar...\n",
            "/root/.cache/pyserini/eval/jtreceval-0.0.5-jar-with-dependencies.jar already exists!\n",
            "Skipping download.\n",
            "Running command: ['java', '-jar', '/root/.cache/pyserini/eval/jtreceval-0.0.5-jar-with-dependencies.jar', '-c', '-m', 'ndcg_cut.10', '-mmap', '-l', '2', '/root/.cache/pyserini/topics-and-qrels/qrels.dl20-passage.txt', 'BoW_run.tsv']\n",
            "Results:\n",
            "map                   \tall\t0.0348\n",
            "ndcg_cut_10           \tall\t0.0639\n"
          ]
        }
      ]
    },
    {
      "cell_type": "code",
      "source": [
        "# Final RAM usage\n",
        "!free -h"
      ],
      "metadata": {
        "colab": {
          "base_uri": "https://localhost:8080/"
        },
        "id": "d2aWv0QF3oUS",
        "outputId": "212e420a-fcf5-48bb-a04f-2f9d56dbd00e"
      },
      "execution_count": 22,
      "outputs": [
        {
          "output_type": "stream",
          "name": "stdout",
          "text": [
            "              total        used        free      shared  buff/cache   available\n",
            "Mem:           25Gi        15Gi       3.3Gi       1.0Mi       6.5Gi       9.4Gi\n",
            "Swap:            0B          0B          0B\n"
          ]
        }
      ]
    },
    {
      "cell_type": "markdown",
      "source": [
        "# Final Results\n",
        "In conclusion, the BM25 ranking function has been shown to outperform both TF-IDF and Bag-of-Words (BoW) approaches in terms of retrieval effectiveness for the MsMarco subset (TRECDL 2020). BM25 is a more sophisticated ranking function that considers document length and term frequency normalization, which are particularly important for longer documents such as web pages. TF-IDF outperformed Bag-of-Words (BoW) approach since it takes into account not only the frequency of each term in a document but also the importance of the term in the entire collection of documents.\n",
        "\n",
        "| Model |  MAP   | nDCG@10 |\n",
        "|-------|------- |---------|\n",
        "| BM25  | 0.2857 |  0.4803 |\n",
        "| BoW   | 0.0348 |  0.0639 |\n",
        "| TF-IDF| 0.0702 |  0.1239 | \n"
      ],
      "metadata": {
        "id": "7oA-7m_0CnWW"
      }
    }
  ]
}